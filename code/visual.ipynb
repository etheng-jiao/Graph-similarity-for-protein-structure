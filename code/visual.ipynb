{
 "cells": [
  {
   "cell_type": "code",
   "execution_count": 7,
   "id": "e4507815",
   "metadata": {},
   "outputs": [],
   "source": [
    "from pandas.core.common import flatten\n",
    "import time\n",
    "import sys\n",
    "import os\n",
    "import numpy as np\n",
    "from graphein.protein.config import ProteinGraphConfig\n",
    "from graphein.protein.edges.distance import add_hydrogen_bond_interactions, add_peptide_bonds\n",
    "from functools import partial\n",
    "#from graphein.protein.visualisation import plotly_protein_structure_graph\n",
    "\n",
    "from graphein.protein.edges.distance import (add_peptide_bonds,\n",
    "                                             add_k_nn_edges,\n",
    "                                             add_distance_threshold,\n",
    "                                             add_hydrogen_bond_interactions,\n",
    "                                             add_disulfide_interactions,\n",
    "                                             add_ionic_interactions,\n",
    "                                             add_aromatic_interactions,\n",
    "                                             add_aromatic_sulphur_interactions,\n",
    "                                             add_cation_pi_interactions,\n",
    "                                             add_delaunay_triangulation\n",
    "                                            )\n",
    "\n",
    "from graphein.protein.features.nodes import secondary_structure\n",
    "from graphein.protein.subgraphs import extract_subgraph_from_secondary_structure\n",
    "from graphein.protein.config import DSSPConfig\n",
    "from graphein.protein.subgraphs import extract_surface_subgraph\n",
    "from graphein.protein.features.nodes import rsa\n",
    "import networkx as nx                                       \n",
    "import logging\n",
    "import matplotlib.pyplot as plt\n",
    "logging.getLogger(\"matplotlib\").setLevel(logging.WARNING)\n",
    "logging.getLogger(\"graphein\").setLevel(logging.INFO)\n",
    "import graphein.protein as gp\n",
    "from graphein.protein.edges.atomic import add_atomic_edges, add_bond_order, add_ring_status"
   ]
  },
  {
   "cell_type": "code",
   "execution_count": 8,
   "id": "16611fe9",
   "metadata": {},
   "outputs": [],
   "source": [
    "# define different graph\n",
    "edge_funcs1 = {\"edge_construction_functions\": [partial(add_distance_threshold, long_interaction_threshold=5, threshold=10.),\n",
    "                                                  add_aromatic_interactions,\n",
    "                                                  add_hydrogen_bond_interactions,\n",
    "                                                  add_disulfide_interactions,\n",
    "                                                  add_ionic_interactions,\n",
    "                                                  add_aromatic_sulphur_interactions,\n",
    "                                                  add_cation_pi_interactions\n",
    "                                                   ]\n",
    "                 }\n",
    "\n",
    "\n",
    "\n",
    "\n",
    "edge_funcs2 = {\"edge_construction_functions\": [\n",
    "                                                  add_aromatic_interactions,\n",
    "                                                  add_hydrogen_bond_interactions,\n",
    "                                                  add_disulfide_interactions,\n",
    "                                                  add_ionic_interactions,\n",
    "                                                  add_aromatic_sulphur_interactions,\n",
    "                                                  add_cation_pi_interactions\n",
    "                                                   ]\n",
    "                 }\n",
    "\n",
    "edge_funcs3 = {\"edge_construction_functions\": [partial(add_distance_threshold, long_interaction_threshold=5, threshold=10.)\n",
    "                                                  \n",
    "                                                   ]\n",
    "                 }\n",
    "\n",
    "edge_funcs4 = {\"edge_construction_functions\": [add_delaunay_triangulation        \n",
    "                                                   ]\n",
    "                 }\n",
    "\n",
    "edge_funcs5 = {\"edge_construction_functions\": [partial(add_k_nn_edges, k=3, long_interaction_threshold=0)]\n",
    "                 }\n",
    "\n",
    "edge_funcs = [edge_funcs1,edge_funcs2,edge_funcs3,edge_funcs4,edge_funcs5]"
   ]
  },
  {
   "cell_type": "code",
   "execution_count": 9,
   "id": "5fb33b02",
   "metadata": {},
   "outputs": [],
   "source": [
    "import networkx as nx\n",
    "from graphein.protein.graphs import construct_graph\n",
    "from graphein.protein.subgraphs import extract_subgraph\n",
    "\n",
    "# data load\n",
    "\n",
    "pdb_p_GH30 = \"/Users/eth-may/Desktop/dtu/semester6/graph_similarity/PDB/Q09DH4/Q09DH4.pdb\"\n",
    "pdb_p_GH35 = \"/Users/eth-may/Desktop/dtu/semester6/graph_similarity/PDB/C3VDH8/C3VDH8.pdb\"\n",
    "pdb_p_GH16 = \"/Users/eth-may/Desktop/dtu/semester6/graph_similarity/PDB/Q21N15/Q21N15.pdb\"\n",
    "pdb_p_GH27 = \"/Users/eth-may/Desktop/dtu/semester6/graph_similarity/PDB/A0A6M4XDE9/A0A6M4XDE9.pdb\"\n",
    "\n",
    "def nodes_list(g,s,e):\n",
    "    nodes =[]\n",
    "    for i in g.nodes:\n",
    "        nodes.append(i)\n",
    "    return nodes[s-1:e] \n",
    "\n",
    "def get_network(s_g):\n",
    "    nodes = []\n",
    "    for i in s_g.nodes:\n",
    "        nodes.append(i)\n",
    "    \n",
    "    edges = [] \n",
    "    for j in s_g.edges:\n",
    "        edges.append(j)\n",
    "    G = nx.Graph()\n",
    "    \n",
    "    for node in nodes:\n",
    "        G.add_node(node)\n",
    "\n",
    "    for link in edges:\n",
    "        G.add_edge(link[0], link[1])\n",
    "    return G\n",
    "\n",
    "def sub_graph(edge_func):\n",
    "    config = ProteinGraphConfig(**edge_func)\n",
    "\n",
    "    g1 = construct_graph(config=config, pdb_path=pdb_p_GH30)\n",
    "    g2 = construct_graph(config=config, pdb_path=pdb_p_GH35)\n",
    "    g3 = construct_graph(config=config, pdb_path=pdb_p_GH16)\n",
    "    g4 = construct_graph(config=config, pdb_path=pdb_p_GH27)\n",
    "\n",
    "    s_g1 = extract_subgraph(g1, node_list=nodes_list(g1,33,478), inverse=False)\n",
    "    s_g2 = extract_subgraph(g2, node_list=nodes_list(g2,20,408), inverse=False)\n",
    "    s_g3 = extract_subgraph(g3, node_list=nodes_list(g3,328,567), inverse=False)\n",
    "    s_g4 = extract_subgraph(g4, node_list=nodes_list(g4,48,380), inverse=False)\n",
    "    \n",
    "    G1 = get_network(s_g1)\n",
    "    G2 = get_network(s_g2)\n",
    "    G3 = get_network(s_g3)\n",
    "    G4 = get_network(s_g4)\n",
    "    \n",
    "    return G1,G2,G3,G4\n",
    "#s_g1,s_g2,s_g3,s_g4"
   ]
  },
  {
   "cell_type": "code",
   "execution_count": null,
   "id": "aae4c464",
   "metadata": {},
   "outputs": [],
   "source": []
  },
  {
   "cell_type": "code",
   "execution_count": 10,
   "id": "615ba04d",
   "metadata": {
    "scrolled": true
   },
   "outputs": [
    {
     "data": {
      "text/html": [
       "<pre style=\"white-space:pre;overflow-x:auto;line-height:normal;font-family:Menlo,'DejaVu Sans Mono',consolas,'Courier New',monospace\"></pre>\n"
      ],
      "text/plain": [
       "\u001b[?25l"
      ]
     },
     "metadata": {},
     "output_type": "display_data"
    },
    {
     "data": {
      "application/vnd.jupyter.widget-view+json": {
       "model_id": "",
       "version_major": 2,
       "version_minor": 0
      },
      "text/plain": [
       "Output()"
      ]
     },
     "metadata": {},
     "output_type": "display_data"
    },
    {
     "data": {
      "text/html": [
       "<pre style=\"white-space:pre;overflow-x:auto;line-height:normal;font-family:Menlo,'DejaVu Sans Mono',consolas,'Courier New',monospace\">\r",
       "\u001b[2K/Users/eth-may/opt/anaconda3/lib/python3.8/site-packages/biopandas/pdb/pandas_pdb.py:688: SettingWithCopyWarning: \n",
       "A value is trying to be set on a copy of a slice from a DataFrame.\n",
       "Try using .loc[row_indexer,col_indexer] = value instead\n",
       "\n",
       "See the caveats in the documentation: \n",
       "https://pandas.pydata.org/pandas-docs/stable/user_guide/indexing.html#returning-a-view-versus-a-copy\n",
       "  idxs.loc[:, \"end_idx\"] = ends.line_idx.values\n",
       "Reading PDB file... <span style=\"color: #729c1f; text-decoration-color: #729c1f\">━━━━━━━━━━━━━━━━━━━━━━━━━━━━━━━━━━━━━━━━</span> <span style=\"color: #800080; text-decoration-color: #800080\">100%</span> <span style=\"color: #008080; text-decoration-color: #008080\">0:00:00</span></pre>\n"
      ],
      "text/plain": [
       "\r",
       "\u001b[2K/Users/eth-may/opt/anaconda3/lib/python3.8/site-packages/biopandas/pdb/pandas_pdb.py:688: SettingWithCopyWarning: \n",
       "A value is trying to be set on a copy of a slice from a DataFrame.\n",
       "Try using .loc[row_indexer,col_indexer] = value instead\n",
       "\n",
       "See the caveats in the documentation: \n",
       "https://pandas.pydata.org/pandas-docs/stable/user_guide/indexing.html#returning-a-view-versus-a-copy\n",
       "  idxs.loc[:, \"end_idx\"] = ends.line_idx.values\n",
       "Reading PDB file... \u001b[38;2;114;156;31m━━━━━━━━━━━━━━━━━━━━━━━━━━━━━━━━━━━━━━━━\u001b[0m \u001b[35m100%\u001b[0m \u001b[36m0:00:00\u001b[0m"
      ]
     },
     "metadata": {},
     "output_type": "display_data"
    },
    {
     "data": {
      "text/html": [
       "<pre style=\"white-space:pre;overflow-x:auto;line-height:normal;font-family:Menlo,'DejaVu Sans Mono',consolas,'Courier New',monospace\">\r",
       "\u001b[2K\u001b[1A\u001b[2K\u001b[1A\u001b[2K\u001b[1A\u001b[2K[('A:MET:2', 'A:MET:1', {'kind': {'k_nn'}})]\n",
       "Reading PDB file...         <span style=\"color: #729c1f; text-decoration-color: #729c1f\">━━━━━━━━━━━━━━━━━━━━━━━━━━━━━━━━━━━━━━━━</span> <span style=\"color: #800080; text-decoration-color: #800080\">100%</span> <span style=\"color: #008080; text-decoration-color: #008080\">0:00:00</span>\n",
       "Processing PDB dataframe... <span style=\"color: #729c1f; text-decoration-color: #729c1f\">━━━━━━━━━━━━━━━━━━━━━━━━━━━━━━━━━━━━━━━━</span> <span style=\"color: #800080; text-decoration-color: #800080\">100%</span> <span style=\"color: #008080; text-decoration-color: #008080\">0:00:00</span>\n",
       "Initializing graph...       <span style=\"color: #729c1f; text-decoration-color: #729c1f\">━━━━━━━━━━━━━━━━━━━━━━━━━━━━━━━━━━━━━━━━</span> <span style=\"color: #800080; text-decoration-color: #800080\">100%</span> <span style=\"color: #008080; text-decoration-color: #008080\">0:00:00</span>\n",
       "Constructing edges...       <span style=\"color: #3a3a3a; text-decoration-color: #3a3a3a\">━━━━━━━━━━━━━━━━━━━━━━━━━━━━━━━━━━━━━━━━</span> <span style=\"color: #800080; text-decoration-color: #800080\">  0%</span> <span style=\"color: #008080; text-decoration-color: #008080\">-:--:--</span></pre>\n"
      ],
      "text/plain": [
       "\r",
       "\u001b[2K\u001b[1A\u001b[2K\u001b[1A\u001b[2K\u001b[1A\u001b[2K[('A:MET:2', 'A:MET:1', {'kind': {'k_nn'}})]\n",
       "Reading PDB file...         \u001b[38;2;114;156;31m━━━━━━━━━━━━━━━━━━━━━━━━━━━━━━━━━━━━━━━━\u001b[0m \u001b[35m100%\u001b[0m \u001b[36m0:00:00\u001b[0m\n",
       "Processing PDB dataframe... \u001b[38;2;114;156;31m━━━━━━━━━━━━━━━━━━━━━━━━━━━━━━━━━━━━━━━━\u001b[0m \u001b[35m100%\u001b[0m \u001b[36m0:00:00\u001b[0m\n",
       "Initializing graph...       \u001b[38;2;114;156;31m━━━━━━━━━━━━━━━━━━━━━━━━━━━━━━━━━━━━━━━━\u001b[0m \u001b[35m100%\u001b[0m \u001b[36m0:00:00\u001b[0m\n",
       "Constructing edges...       \u001b[38;5;237m━━━━━━━━━━━━━━━━━━━━━━━━━━━━━━━━━━━━━━━━\u001b[0m \u001b[35m  0%\u001b[0m \u001b[36m-:--:--\u001b[0m"
      ]
     },
     "metadata": {},
     "output_type": "display_data"
    },
    {
     "data": {
      "text/html": [
       "<pre style=\"white-space:pre;overflow-x:auto;line-height:normal;font-family:Menlo,'DejaVu Sans Mono',consolas,'Courier New',monospace\">\n",
       "</pre>\n"
      ],
      "text/plain": [
       "\n",
       "\u001b[?25h\r",
       "\u001b[1A\u001b[2K\u001b[1A\u001b[2K\u001b[1A\u001b[2K\u001b[1A\u001b[2K"
      ]
     },
     "metadata": {},
     "output_type": "display_data"
    },
    {
     "ename": "TypeError",
     "evalue": "list indices must be integers or slices, not str",
     "output_type": "error",
     "traceback": [
      "\u001b[0;31m---------------------------------------------------------------------------\u001b[0m",
      "\u001b[0;31mTypeError\u001b[0m                                 Traceback (most recent call last)",
      "Cell \u001b[0;32mIn[10], line 2\u001b[0m\n\u001b[1;32m      1\u001b[0m \u001b[38;5;28;01mfrom\u001b[39;00m \u001b[38;5;21;01mgraphein\u001b[39;00m\u001b[38;5;21;01m.\u001b[39;00m\u001b[38;5;21;01mprotein\u001b[39;00m\u001b[38;5;21;01m.\u001b[39;00m\u001b[38;5;21;01mvisualisation\u001b[39;00m \u001b[38;5;28;01mimport\u001b[39;00m plotly_protein_structure_graph\n\u001b[0;32m----> 2\u001b[0m G1 \u001b[38;5;241m=\u001b[39m \u001b[43msub_graph\u001b[49m\u001b[43m(\u001b[49m\u001b[43medge_funcs\u001b[49m\u001b[43m[\u001b[49m\u001b[38;5;241;43m4\u001b[39;49m\u001b[43m]\u001b[49m\u001b[43m)\u001b[49m\n\u001b[1;32m      3\u001b[0m p \u001b[38;5;241m=\u001b[39m plotly_protein_structure_graph(\n\u001b[1;32m      4\u001b[0m     G1,\n\u001b[1;32m      5\u001b[0m     colour_edges_by\u001b[38;5;241m=\u001b[39m\u001b[38;5;124m\"\u001b[39m\u001b[38;5;124mkind\u001b[39m\u001b[38;5;124m\"\u001b[39m,\n\u001b[0;32m   (...)\u001b[0m\n\u001b[1;32m      9\u001b[0m     node_size_multiplier\u001b[38;5;241m=\u001b[39m\u001b[38;5;241m1\u001b[39m,\n\u001b[1;32m     10\u001b[0m     )\n\u001b[1;32m     11\u001b[0m p\u001b[38;5;241m.\u001b[39mshow()\n",
      "Cell \u001b[0;32mIn[9], line 38\u001b[0m, in \u001b[0;36msub_graph\u001b[0;34m(edge_func)\u001b[0m\n\u001b[1;32m     35\u001b[0m \u001b[38;5;28;01mdef\u001b[39;00m \u001b[38;5;21msub_graph\u001b[39m(edge_func):\n\u001b[1;32m     36\u001b[0m     config \u001b[38;5;241m=\u001b[39m ProteinGraphConfig(\u001b[38;5;241m*\u001b[39m\u001b[38;5;241m*\u001b[39medge_func)\n\u001b[0;32m---> 38\u001b[0m     g1 \u001b[38;5;241m=\u001b[39m \u001b[43mconstruct_graph\u001b[49m\u001b[43m(\u001b[49m\u001b[43mconfig\u001b[49m\u001b[38;5;241;43m=\u001b[39;49m\u001b[43mconfig\u001b[49m\u001b[43m,\u001b[49m\u001b[43m \u001b[49m\u001b[43mpdb_path\u001b[49m\u001b[38;5;241;43m=\u001b[39;49m\u001b[43mpdb_p_GH30\u001b[49m\u001b[43m)\u001b[49m\n\u001b[1;32m     39\u001b[0m     g2 \u001b[38;5;241m=\u001b[39m construct_graph(config\u001b[38;5;241m=\u001b[39mconfig, pdb_path\u001b[38;5;241m=\u001b[39mpdb_p_GH35)\n\u001b[1;32m     40\u001b[0m     g3 \u001b[38;5;241m=\u001b[39m construct_graph(config\u001b[38;5;241m=\u001b[39mconfig, pdb_path\u001b[38;5;241m=\u001b[39mpdb_p_GH16)\n",
      "File \u001b[0;32m~/opt/anaconda3/lib/python3.8/site-packages/graphein/protein/graphs.py:732\u001b[0m, in \u001b[0;36mconstruct_graph\u001b[0;34m(config, name, pdb_path, uniprot_id, pdb_code, chain_selection, model_index, df_processing_funcs, edge_construction_funcs, edge_annotation_funcs, node_annotation_funcs, graph_annotation_funcs)\u001b[0m\n\u001b[1;32m    730\u001b[0m     task4 \u001b[38;5;241m=\u001b[39m progress\u001b[38;5;241m.\u001b[39madd_task(\u001b[38;5;124m\"\u001b[39m\u001b[38;5;124mConstructing edges...\u001b[39m\u001b[38;5;124m\"\u001b[39m, total\u001b[38;5;241m=\u001b[39m\u001b[38;5;241m1\u001b[39m)\n\u001b[1;32m    731\u001b[0m     \u001b[38;5;66;03m# Compute graph edges\u001b[39;00m\n\u001b[0;32m--> 732\u001b[0m     g \u001b[38;5;241m=\u001b[39m \u001b[43mcompute_edges\u001b[49m\u001b[43m(\u001b[49m\n\u001b[1;32m    733\u001b[0m \u001b[43m        \u001b[49m\u001b[43mg\u001b[49m\u001b[43m,\u001b[49m\n\u001b[1;32m    734\u001b[0m \u001b[43m        \u001b[49m\u001b[43mfuncs\u001b[49m\u001b[38;5;241;43m=\u001b[39;49m\u001b[43mconfig\u001b[49m\u001b[38;5;241;43m.\u001b[39;49m\u001b[43medge_construction_functions\u001b[49m\u001b[43m,\u001b[49m\n\u001b[1;32m    735\u001b[0m \u001b[43m        \u001b[49m\u001b[43mget_contacts_config\u001b[49m\u001b[38;5;241;43m=\u001b[39;49m\u001b[38;5;28;43;01mNone\u001b[39;49;00m\u001b[43m,\u001b[49m\n\u001b[1;32m    736\u001b[0m \u001b[43m    \u001b[49m\u001b[43m)\u001b[49m\n\u001b[1;32m    737\u001b[0m     progress\u001b[38;5;241m.\u001b[39madvance(task4)\n\u001b[1;32m    739\u001b[0m \u001b[38;5;66;03m# Annotate additional graph metadata\u001b[39;00m\n",
      "File \u001b[0;32m~/opt/anaconda3/lib/python3.8/site-packages/graphein/protein/graphs.py:587\u001b[0m, in \u001b[0;36mcompute_edges\u001b[0;34m(G, funcs, get_contacts_config)\u001b[0m\n\u001b[1;32m    584\u001b[0m         G\u001b[38;5;241m.\u001b[39mgraph[\u001b[38;5;124m\"\u001b[39m\u001b[38;5;124mdist_mat\u001b[39m\u001b[38;5;124m\"\u001b[39m] \u001b[38;5;241m=\u001b[39m compute_distmat(G\u001b[38;5;241m.\u001b[39mgraph[\u001b[38;5;124m\"\u001b[39m\u001b[38;5;124mpdb_df\u001b[39m\u001b[38;5;124m\"\u001b[39m])\n\u001b[1;32m    586\u001b[0m \u001b[38;5;28;01mfor\u001b[39;00m func \u001b[38;5;129;01min\u001b[39;00m funcs:\n\u001b[0;32m--> 587\u001b[0m     \u001b[43mfunc\u001b[49m\u001b[43m(\u001b[49m\u001b[43mG\u001b[49m\u001b[43m)\u001b[49m\n\u001b[1;32m    589\u001b[0m \u001b[38;5;28;01mreturn\u001b[39;00m add_distance_to_edges(G)\n",
      "File \u001b[0;32m~/opt/anaconda3/lib/python3.8/site-packages/graphein/protein/edges/distance.py:1060\u001b[0m, in \u001b[0;36madd_k_nn_edges\u001b[0;34m(G, long_interaction_threshold, k, mode, metric, p, include_self)\u001b[0m\n\u001b[1;32m   1058\u001b[0m             if G.has_edge(n1, n2):\n\u001b[1;32m   1059\u001b[0m \t\t#print(G.edges(n1, n2))\n\u001b[0;32m-> 1060\u001b[0m \t\tG.edges(n1, n2)[\"kind\"].add(\"k_nn\")\n\u001b[1;32m   1061\u001b[0m             else:\n\u001b[1;32m   1062\u001b[0m                 G.add_edge(n1, n2, kind={\"k_nn\"})\n",
      "\u001b[0;31mTypeError\u001b[0m: list indices must be integers or slices, not str"
     ]
    }
   ],
   "source": [
    "from graphein.protein.visualisation import plotly_protein_structure_graph\n",
    "G1 = sub_graph(edge_funcs[4])\n",
    "p = plotly_protein_structure_graph(\n",
    "    G1,\n",
    "    colour_edges_by=\"kind\",\n",
    "    colour_nodes_by=\"seq_position\",\n",
    "    label_node_ids=True,\n",
    "    plot_title=\"GH30 sample's Protein graph with type 5, nodes colored by degree \",\n",
    "    node_size_multiplier=1,\n",
    "    )\n",
    "p.show()"
   ]
  },
  {
   "cell_type": "code",
   "execution_count": null,
   "id": "9e7ecd8f",
   "metadata": {},
   "outputs": [],
   "source": []
  },
  {
   "cell_type": "code",
   "execution_count": 11,
   "id": "4b9bb280",
   "metadata": {
    "scrolled": true
   },
   "outputs": [
    {
     "data": {
      "text/html": [
       "<pre style=\"white-space:pre;overflow-x:auto;line-height:normal;font-family:Menlo,'DejaVu Sans Mono',consolas,'Courier New',monospace\"></pre>\n"
      ],
      "text/plain": [
       "\u001b[?25l"
      ]
     },
     "metadata": {},
     "output_type": "display_data"
    },
    {
     "data": {
      "application/vnd.jupyter.widget-view+json": {
       "model_id": "",
       "version_major": 2,
       "version_minor": 0
      },
      "text/plain": [
       "Output()"
      ]
     },
     "metadata": {},
     "output_type": "display_data"
    },
    {
     "data": {
      "text/html": [
       "<pre style=\"white-space:pre;overflow-x:auto;line-height:normal;font-family:Menlo,'DejaVu Sans Mono',consolas,'Courier New',monospace\">\r",
       "\u001b[2K/Users/eth-may/opt/anaconda3/lib/python3.8/site-packages/biopandas/pdb/pandas_pdb.py:688: SettingWithCopyWarning: \n",
       "A value is trying to be set on a copy of a slice from a DataFrame.\n",
       "Try using .loc[row_indexer,col_indexer] = value instead\n",
       "\n",
       "See the caveats in the documentation: \n",
       "https://pandas.pydata.org/pandas-docs/stable/user_guide/indexing.html#returning-a-view-versus-a-copy\n",
       "  idxs.loc[:, \"end_idx\"] = ends.line_idx.values\n",
       "Reading PDB file... <span style=\"color: #729c1f; text-decoration-color: #729c1f\">━━━━━━━━━━━━━━━━━━━━━━━━━━━━━━━━━━━━━━━━</span> <span style=\"color: #800080; text-decoration-color: #800080\">100%</span> <span style=\"color: #008080; text-decoration-color: #008080\">0:00:00</span></pre>\n"
      ],
      "text/plain": [
       "\r",
       "\u001b[2K/Users/eth-may/opt/anaconda3/lib/python3.8/site-packages/biopandas/pdb/pandas_pdb.py:688: SettingWithCopyWarning: \n",
       "A value is trying to be set on a copy of a slice from a DataFrame.\n",
       "Try using .loc[row_indexer,col_indexer] = value instead\n",
       "\n",
       "See the caveats in the documentation: \n",
       "https://pandas.pydata.org/pandas-docs/stable/user_guide/indexing.html#returning-a-view-versus-a-copy\n",
       "  idxs.loc[:, \"end_idx\"] = ends.line_idx.values\n",
       "Reading PDB file... \u001b[38;2;114;156;31m━━━━━━━━━━━━━━━━━━━━━━━━━━━━━━━━━━━━━━━━\u001b[0m \u001b[35m100%\u001b[0m \u001b[36m0:00:00\u001b[0m"
      ]
     },
     "metadata": {},
     "output_type": "display_data"
    },
    {
     "data": {
      "text/html": [
       "<pre style=\"white-space:pre;overflow-x:auto;line-height:normal;font-family:Menlo,'DejaVu Sans Mono',consolas,'Courier New',monospace\">\r",
       "\u001b[2K\u001b[1A\u001b[2K\u001b[1A\u001b[2K\u001b[1A\u001b[2K[('A:MET:2', 'A:MET:1', {'kind': {'k_nn'}})]\n",
       "Reading PDB file...         <span style=\"color: #729c1f; text-decoration-color: #729c1f\">━━━━━━━━━━━━━━━━━━━━━━━━━━━━━━━━━━━━━━━━</span> <span style=\"color: #800080; text-decoration-color: #800080\">100%</span> <span style=\"color: #008080; text-decoration-color: #008080\">0:00:00</span>\n",
       "Processing PDB dataframe... <span style=\"color: #729c1f; text-decoration-color: #729c1f\">━━━━━━━━━━━━━━━━━━━━━━━━━━━━━━━━━━━━━━━━</span> <span style=\"color: #800080; text-decoration-color: #800080\">100%</span> <span style=\"color: #008080; text-decoration-color: #008080\">0:00:00</span>\n",
       "Initializing graph...       <span style=\"color: #729c1f; text-decoration-color: #729c1f\">━━━━━━━━━━━━━━━━━━━━━━━━━━━━━━━━━━━━━━━━</span> <span style=\"color: #800080; text-decoration-color: #800080\">100%</span> <span style=\"color: #008080; text-decoration-color: #008080\">0:00:00</span>\n",
       "Constructing edges...       <span style=\"color: #3a3a3a; text-decoration-color: #3a3a3a\">━━━━━━━━━━━━━━━━━━━━━━━━━━━━━━━━━━━━━━━━</span> <span style=\"color: #800080; text-decoration-color: #800080\">  0%</span> <span style=\"color: #008080; text-decoration-color: #008080\">-:--:--</span></pre>\n"
      ],
      "text/plain": [
       "\r",
       "\u001b[2K\u001b[1A\u001b[2K\u001b[1A\u001b[2K\u001b[1A\u001b[2K[('A:MET:2', 'A:MET:1', {'kind': {'k_nn'}})]\n",
       "Reading PDB file...         \u001b[38;2;114;156;31m━━━━━━━━━━━━━━━━━━━━━━━━━━━━━━━━━━━━━━━━\u001b[0m \u001b[35m100%\u001b[0m \u001b[36m0:00:00\u001b[0m\n",
       "Processing PDB dataframe... \u001b[38;2;114;156;31m━━━━━━━━━━━━━━━━━━━━━━━━━━━━━━━━━━━━━━━━\u001b[0m \u001b[35m100%\u001b[0m \u001b[36m0:00:00\u001b[0m\n",
       "Initializing graph...       \u001b[38;2;114;156;31m━━━━━━━━━━━━━━━━━━━━━━━━━━━━━━━━━━━━━━━━\u001b[0m \u001b[35m100%\u001b[0m \u001b[36m0:00:00\u001b[0m\n",
       "Constructing edges...       \u001b[38;5;237m━━━━━━━━━━━━━━━━━━━━━━━━━━━━━━━━━━━━━━━━\u001b[0m \u001b[35m  0%\u001b[0m \u001b[36m-:--:--\u001b[0m"
      ]
     },
     "metadata": {},
     "output_type": "display_data"
    },
    {
     "data": {
      "text/html": [
       "<pre style=\"white-space:pre;overflow-x:auto;line-height:normal;font-family:Menlo,'DejaVu Sans Mono',consolas,'Courier New',monospace\">\n",
       "</pre>\n"
      ],
      "text/plain": [
       "\n",
       "\u001b[?25h\r",
       "\u001b[1A\u001b[2K\u001b[1A\u001b[2K\u001b[1A\u001b[2K\u001b[1A\u001b[2K"
      ]
     },
     "metadata": {},
     "output_type": "display_data"
    },
    {
     "ename": "TypeError",
     "evalue": "list indices must be integers or slices, not str",
     "output_type": "error",
     "traceback": [
      "\u001b[0;31m---------------------------------------------------------------------------\u001b[0m",
      "\u001b[0;31mTypeError\u001b[0m                                 Traceback (most recent call last)",
      "Cell \u001b[0;32mIn[11], line 4\u001b[0m\n\u001b[1;32m      2\u001b[0m \u001b[38;5;28;01mfrom\u001b[39;00m \u001b[38;5;21;01mgraphein\u001b[39;00m\u001b[38;5;21;01m.\u001b[39;00m\u001b[38;5;21;01mprotein\u001b[39;00m\u001b[38;5;21;01m.\u001b[39;00m\u001b[38;5;21;01manalysis\u001b[39;00m \u001b[38;5;28;01mimport\u001b[39;00m plot_degree_by_residue_type\n\u001b[1;32m      3\u001b[0m \u001b[38;5;66;03m#for i in range(len(edge_funcs)):\u001b[39;00m\n\u001b[0;32m----> 4\u001b[0m G1 \u001b[38;5;241m=\u001b[39m \u001b[43msub_graph\u001b[49m\u001b[43m(\u001b[49m\u001b[43medge_funcs\u001b[49m\u001b[43m[\u001b[49m\u001b[38;5;241;43m4\u001b[39;49m\u001b[43m]\u001b[49m\u001b[43m)\u001b[49m\n\u001b[1;32m      5\u001b[0m fig \u001b[38;5;241m=\u001b[39m plot_degree_by_residue_type(G1, normalise_by_residue_occurrence\u001b[38;5;241m=\u001b[39m\u001b[38;5;28;01mTrue\u001b[39;00m)\n\u001b[1;32m      6\u001b[0m fig\u001b[38;5;241m.\u001b[39mshow()\n",
      "Cell \u001b[0;32mIn[9], line 38\u001b[0m, in \u001b[0;36msub_graph\u001b[0;34m(edge_func)\u001b[0m\n\u001b[1;32m     35\u001b[0m \u001b[38;5;28;01mdef\u001b[39;00m \u001b[38;5;21msub_graph\u001b[39m(edge_func):\n\u001b[1;32m     36\u001b[0m     config \u001b[38;5;241m=\u001b[39m ProteinGraphConfig(\u001b[38;5;241m*\u001b[39m\u001b[38;5;241m*\u001b[39medge_func)\n\u001b[0;32m---> 38\u001b[0m     g1 \u001b[38;5;241m=\u001b[39m \u001b[43mconstruct_graph\u001b[49m\u001b[43m(\u001b[49m\u001b[43mconfig\u001b[49m\u001b[38;5;241;43m=\u001b[39;49m\u001b[43mconfig\u001b[49m\u001b[43m,\u001b[49m\u001b[43m \u001b[49m\u001b[43mpdb_path\u001b[49m\u001b[38;5;241;43m=\u001b[39;49m\u001b[43mpdb_p_GH30\u001b[49m\u001b[43m)\u001b[49m\n\u001b[1;32m     39\u001b[0m     g2 \u001b[38;5;241m=\u001b[39m construct_graph(config\u001b[38;5;241m=\u001b[39mconfig, pdb_path\u001b[38;5;241m=\u001b[39mpdb_p_GH35)\n\u001b[1;32m     40\u001b[0m     g3 \u001b[38;5;241m=\u001b[39m construct_graph(config\u001b[38;5;241m=\u001b[39mconfig, pdb_path\u001b[38;5;241m=\u001b[39mpdb_p_GH16)\n",
      "File \u001b[0;32m~/opt/anaconda3/lib/python3.8/site-packages/graphein/protein/graphs.py:732\u001b[0m, in \u001b[0;36mconstruct_graph\u001b[0;34m(config, name, pdb_path, uniprot_id, pdb_code, chain_selection, model_index, df_processing_funcs, edge_construction_funcs, edge_annotation_funcs, node_annotation_funcs, graph_annotation_funcs)\u001b[0m\n\u001b[1;32m    730\u001b[0m     task4 \u001b[38;5;241m=\u001b[39m progress\u001b[38;5;241m.\u001b[39madd_task(\u001b[38;5;124m\"\u001b[39m\u001b[38;5;124mConstructing edges...\u001b[39m\u001b[38;5;124m\"\u001b[39m, total\u001b[38;5;241m=\u001b[39m\u001b[38;5;241m1\u001b[39m)\n\u001b[1;32m    731\u001b[0m     \u001b[38;5;66;03m# Compute graph edges\u001b[39;00m\n\u001b[0;32m--> 732\u001b[0m     g \u001b[38;5;241m=\u001b[39m \u001b[43mcompute_edges\u001b[49m\u001b[43m(\u001b[49m\n\u001b[1;32m    733\u001b[0m \u001b[43m        \u001b[49m\u001b[43mg\u001b[49m\u001b[43m,\u001b[49m\n\u001b[1;32m    734\u001b[0m \u001b[43m        \u001b[49m\u001b[43mfuncs\u001b[49m\u001b[38;5;241;43m=\u001b[39;49m\u001b[43mconfig\u001b[49m\u001b[38;5;241;43m.\u001b[39;49m\u001b[43medge_construction_functions\u001b[49m\u001b[43m,\u001b[49m\n\u001b[1;32m    735\u001b[0m \u001b[43m        \u001b[49m\u001b[43mget_contacts_config\u001b[49m\u001b[38;5;241;43m=\u001b[39;49m\u001b[38;5;28;43;01mNone\u001b[39;49;00m\u001b[43m,\u001b[49m\n\u001b[1;32m    736\u001b[0m \u001b[43m    \u001b[49m\u001b[43m)\u001b[49m\n\u001b[1;32m    737\u001b[0m     progress\u001b[38;5;241m.\u001b[39madvance(task4)\n\u001b[1;32m    739\u001b[0m \u001b[38;5;66;03m# Annotate additional graph metadata\u001b[39;00m\n",
      "File \u001b[0;32m~/opt/anaconda3/lib/python3.8/site-packages/graphein/protein/graphs.py:587\u001b[0m, in \u001b[0;36mcompute_edges\u001b[0;34m(G, funcs, get_contacts_config)\u001b[0m\n\u001b[1;32m    584\u001b[0m         G\u001b[38;5;241m.\u001b[39mgraph[\u001b[38;5;124m\"\u001b[39m\u001b[38;5;124mdist_mat\u001b[39m\u001b[38;5;124m\"\u001b[39m] \u001b[38;5;241m=\u001b[39m compute_distmat(G\u001b[38;5;241m.\u001b[39mgraph[\u001b[38;5;124m\"\u001b[39m\u001b[38;5;124mpdb_df\u001b[39m\u001b[38;5;124m\"\u001b[39m])\n\u001b[1;32m    586\u001b[0m \u001b[38;5;28;01mfor\u001b[39;00m func \u001b[38;5;129;01min\u001b[39;00m funcs:\n\u001b[0;32m--> 587\u001b[0m     \u001b[43mfunc\u001b[49m\u001b[43m(\u001b[49m\u001b[43mG\u001b[49m\u001b[43m)\u001b[49m\n\u001b[1;32m    589\u001b[0m \u001b[38;5;28;01mreturn\u001b[39;00m add_distance_to_edges(G)\n",
      "File \u001b[0;32m~/opt/anaconda3/lib/python3.8/site-packages/graphein/protein/edges/distance.py:1060\u001b[0m, in \u001b[0;36madd_k_nn_edges\u001b[0;34m(G, long_interaction_threshold, k, mode, metric, p, include_self)\u001b[0m\n\u001b[1;32m   1058\u001b[0m             if G.has_edge(n1, n2):\n\u001b[1;32m   1059\u001b[0m \t\t#print(G.edges(n1, n2))\n\u001b[0;32m-> 1060\u001b[0m \t\tG.edges(n1, n2)[\"kind\"].add(\"k_nn\")\n\u001b[1;32m   1061\u001b[0m             else:\n\u001b[1;32m   1062\u001b[0m                 G.add_edge(n1, n2, kind={\"k_nn\"})\n",
      "\u001b[0;31mTypeError\u001b[0m: list indices must be integers or slices, not str"
     ]
    }
   ],
   "source": [
    "from graphein.protein.analysis import plot_degree_distribution\n",
    "from graphein.protein.analysis import plot_degree_by_residue_type\n",
    "#for i in range(len(edge_funcs)):\n",
    "G1 = sub_graph(edge_funcs[4])\n",
    "fig = plot_degree_by_residue_type(G1, normalise_by_residue_occurrence=True)\n",
    "fig.show()"
   ]
  },
  {
   "cell_type": "code",
   "execution_count": 9,
   "id": "a227b613",
   "metadata": {},
   "outputs": [
    {
     "data": {
      "text/html": [
       "<pre style=\"white-space:pre;overflow-x:auto;line-height:normal;font-family:Menlo,'DejaVu Sans Mono',consolas,'Courier New',monospace\"></pre>\n"
      ],
      "text/plain": [
       "\u001b[?25l"
      ]
     },
     "metadata": {},
     "output_type": "display_data"
    },
    {
     "data": {
      "application/vnd.jupyter.widget-view+json": {
       "model_id": "",
       "version_major": 2,
       "version_minor": 0
      },
      "text/plain": [
       "Output()"
      ]
     },
     "metadata": {},
     "output_type": "display_data"
    },
    {
     "data": {
      "text/html": [
       "<pre style=\"white-space:pre;overflow-x:auto;line-height:normal;font-family:Menlo,'DejaVu Sans Mono',consolas,'Courier New',monospace\">\r",
       "\u001b[2K/Users/eth-may/opt/anaconda3/lib/python3.8/site-packages/biopandas/pdb/pandas_pdb.py:688: SettingWithCopyWarning: \n",
       "A value is trying to be set on a copy of a slice from a DataFrame.\n",
       "Try using .loc[row_indexer,col_indexer] = value instead\n",
       "\n",
       "See the caveats in the documentation: \n",
       "https://pandas.pydata.org/pandas-docs/stable/user_guide/indexing.html#returning-a-view-versus-a-copy\n",
       "  idxs.loc[:, \"end_idx\"] = ends.line_idx.values\n",
       "Reading PDB file... <span style=\"color: #729c1f; text-decoration-color: #729c1f\">━━━━━━━━━━━━━━━━━━━━━━━━━━━━━━━━━━━━━━━━</span> <span style=\"color: #800080; text-decoration-color: #800080\">100%</span> <span style=\"color: #008080; text-decoration-color: #008080\">0:00:00</span></pre>\n"
      ],
      "text/plain": [
       "\r",
       "\u001b[2K/Users/eth-may/opt/anaconda3/lib/python3.8/site-packages/biopandas/pdb/pandas_pdb.py:688: SettingWithCopyWarning: \n",
       "A value is trying to be set on a copy of a slice from a DataFrame.\n",
       "Try using .loc[row_indexer,col_indexer] = value instead\n",
       "\n",
       "See the caveats in the documentation: \n",
       "https://pandas.pydata.org/pandas-docs/stable/user_guide/indexing.html#returning-a-view-versus-a-copy\n",
       "  idxs.loc[:, \"end_idx\"] = ends.line_idx.values\n",
       "Reading PDB file... \u001b[38;2;114;156;31m━━━━━━━━━━━━━━━━━━━━━━━━━━━━━━━━━━━━━━━━\u001b[0m \u001b[35m100%\u001b[0m \u001b[36m0:00:00\u001b[0m"
      ]
     },
     "metadata": {},
     "output_type": "display_data"
    },
    {
     "data": {
      "text/html": [
       "<pre style=\"white-space:pre;overflow-x:auto;line-height:normal;font-family:Menlo,'DejaVu Sans Mono',consolas,'Courier New',monospace\">\n",
       "</pre>\n"
      ],
      "text/plain": [
       "\n",
       "\u001b[?25h\r",
       "\u001b[1A\u001b[2K\u001b[1A\u001b[2K\u001b[1A\u001b[2K\u001b[1A\u001b[2K"
      ]
     },
     "metadata": {},
     "output_type": "display_data"
    },
    {
     "ename": "TypeError",
     "evalue": "'method' object is not subscriptable",
     "output_type": "error",
     "traceback": [
      "\u001b[0;31m---------------------------------------------------------------------------\u001b[0m",
      "\u001b[0;31mTypeError\u001b[0m                                 Traceback (most recent call last)",
      "Cell \u001b[0;32mIn[9], line 5\u001b[0m\n\u001b[1;32m      2\u001b[0m avg_ccs_all \u001b[38;5;241m=\u001b[39m []\n\u001b[1;32m      4\u001b[0m \u001b[38;5;28;01mfor\u001b[39;00m i \u001b[38;5;129;01min\u001b[39;00m \u001b[38;5;28mrange\u001b[39m(\u001b[38;5;241m5\u001b[39m):\n\u001b[0;32m----> 5\u001b[0m     G1,G2,G3,G4 \u001b[38;5;241m=\u001b[39m \u001b[43msub_graph\u001b[49m\u001b[43m(\u001b[49m\u001b[43medge_funcs\u001b[49m\u001b[43m[\u001b[49m\u001b[43mi\u001b[49m\u001b[43m]\u001b[49m\u001b[43m)\u001b[49m\n\u001b[1;32m      6\u001b[0m     G \u001b[38;5;241m=\u001b[39m [G1,G2,G3,G4]\n\u001b[1;32m      7\u001b[0m     avg_degrees \u001b[38;5;241m=\u001b[39m []\n",
      "Cell \u001b[0;32mIn[5], line 38\u001b[0m, in \u001b[0;36msub_graph\u001b[0;34m(edge_func)\u001b[0m\n\u001b[1;32m     35\u001b[0m \u001b[38;5;28;01mdef\u001b[39;00m \u001b[38;5;21msub_graph\u001b[39m(edge_func):\n\u001b[1;32m     36\u001b[0m     config \u001b[38;5;241m=\u001b[39m ProteinGraphConfig(\u001b[38;5;241m*\u001b[39m\u001b[38;5;241m*\u001b[39medge_func)\n\u001b[0;32m---> 38\u001b[0m     g1 \u001b[38;5;241m=\u001b[39m \u001b[43mconstruct_graph\u001b[49m\u001b[43m(\u001b[49m\u001b[43mconfig\u001b[49m\u001b[38;5;241;43m=\u001b[39;49m\u001b[43mconfig\u001b[49m\u001b[43m,\u001b[49m\u001b[43m \u001b[49m\u001b[43mpdb_path\u001b[49m\u001b[38;5;241;43m=\u001b[39;49m\u001b[43mpdb_p_GH30\u001b[49m\u001b[43m)\u001b[49m\n\u001b[1;32m     39\u001b[0m     g2 \u001b[38;5;241m=\u001b[39m construct_graph(config\u001b[38;5;241m=\u001b[39mconfig, pdb_path\u001b[38;5;241m=\u001b[39mpdb_p_GH35)\n\u001b[1;32m     40\u001b[0m     g3 \u001b[38;5;241m=\u001b[39m construct_graph(config\u001b[38;5;241m=\u001b[39mconfig, pdb_path\u001b[38;5;241m=\u001b[39mpdb_p_GH16)\n",
      "File \u001b[0;32m~/opt/anaconda3/lib/python3.8/site-packages/graphein/protein/graphs.py:732\u001b[0m, in \u001b[0;36mconstruct_graph\u001b[0;34m(config, name, pdb_path, uniprot_id, pdb_code, chain_selection, model_index, df_processing_funcs, edge_construction_funcs, edge_annotation_funcs, node_annotation_funcs, graph_annotation_funcs)\u001b[0m\n\u001b[1;32m    730\u001b[0m     task4 \u001b[38;5;241m=\u001b[39m progress\u001b[38;5;241m.\u001b[39madd_task(\u001b[38;5;124m\"\u001b[39m\u001b[38;5;124mConstructing edges...\u001b[39m\u001b[38;5;124m\"\u001b[39m, total\u001b[38;5;241m=\u001b[39m\u001b[38;5;241m1\u001b[39m)\n\u001b[1;32m    731\u001b[0m     \u001b[38;5;66;03m# Compute graph edges\u001b[39;00m\n\u001b[0;32m--> 732\u001b[0m     g \u001b[38;5;241m=\u001b[39m \u001b[43mcompute_edges\u001b[49m\u001b[43m(\u001b[49m\n\u001b[1;32m    733\u001b[0m \u001b[43m        \u001b[49m\u001b[43mg\u001b[49m\u001b[43m,\u001b[49m\n\u001b[1;32m    734\u001b[0m \u001b[43m        \u001b[49m\u001b[43mfuncs\u001b[49m\u001b[38;5;241;43m=\u001b[39;49m\u001b[43mconfig\u001b[49m\u001b[38;5;241;43m.\u001b[39;49m\u001b[43medge_construction_functions\u001b[49m\u001b[43m,\u001b[49m\n\u001b[1;32m    735\u001b[0m \u001b[43m        \u001b[49m\u001b[43mget_contacts_config\u001b[49m\u001b[38;5;241;43m=\u001b[39;49m\u001b[38;5;28;43;01mNone\u001b[39;49;00m\u001b[43m,\u001b[49m\n\u001b[1;32m    736\u001b[0m \u001b[43m    \u001b[49m\u001b[43m)\u001b[49m\n\u001b[1;32m    737\u001b[0m     progress\u001b[38;5;241m.\u001b[39madvance(task4)\n\u001b[1;32m    739\u001b[0m \u001b[38;5;66;03m# Annotate additional graph metadata\u001b[39;00m\n",
      "File \u001b[0;32m~/opt/anaconda3/lib/python3.8/site-packages/graphein/protein/graphs.py:587\u001b[0m, in \u001b[0;36mcompute_edges\u001b[0;34m(G, funcs, get_contacts_config)\u001b[0m\n\u001b[1;32m    584\u001b[0m         G\u001b[38;5;241m.\u001b[39mgraph[\u001b[38;5;124m\"\u001b[39m\u001b[38;5;124mdist_mat\u001b[39m\u001b[38;5;124m\"\u001b[39m] \u001b[38;5;241m=\u001b[39m compute_distmat(G\u001b[38;5;241m.\u001b[39mgraph[\u001b[38;5;124m\"\u001b[39m\u001b[38;5;124mpdb_df\u001b[39m\u001b[38;5;124m\"\u001b[39m])\n\u001b[1;32m    586\u001b[0m \u001b[38;5;28;01mfor\u001b[39;00m func \u001b[38;5;129;01min\u001b[39;00m funcs:\n\u001b[0;32m--> 587\u001b[0m     \u001b[43mfunc\u001b[49m\u001b[43m(\u001b[49m\u001b[43mG\u001b[49m\u001b[43m)\u001b[49m\n\u001b[1;32m    589\u001b[0m \u001b[38;5;28;01mreturn\u001b[39;00m add_distance_to_edges(G)\n",
      "File \u001b[0;32m~/opt/anaconda3/lib/python3.8/site-packages/graphein/protein/edges/distance.py:892\u001b[0m, in \u001b[0;36madd_distance_threshold\u001b[0;34m(G, long_interaction_threshold, threshold)\u001b[0m\n\u001b[1;32m    890\u001b[0m count \u001b[38;5;241m+\u001b[39m\u001b[38;5;241m=\u001b[39m \u001b[38;5;241m1\u001b[39m\n\u001b[1;32m    891\u001b[0m \u001b[38;5;28;01mif\u001b[39;00m G\u001b[38;5;241m.\u001b[39mhas_edge(n1, n2):\n\u001b[0;32m--> 892\u001b[0m     \u001b[43mG\u001b[49m\u001b[38;5;241;43m.\u001b[39;49m\u001b[43medges\u001b[49m\u001b[43m[\u001b[49m\u001b[43mn1\u001b[49m\u001b[43m,\u001b[49m\u001b[43m \u001b[49m\u001b[43mn2\u001b[49m\u001b[43m]\u001b[49m[\u001b[38;5;124m\"\u001b[39m\u001b[38;5;124mkind\u001b[39m\u001b[38;5;124m\"\u001b[39m]\u001b[38;5;241m.\u001b[39madd(\u001b[38;5;124m\"\u001b[39m\u001b[38;5;124mdistance_threshold\u001b[39m\u001b[38;5;124m\"\u001b[39m)\n\u001b[1;32m    893\u001b[0m \u001b[38;5;28;01melse\u001b[39;00m:\n\u001b[1;32m    894\u001b[0m     G\u001b[38;5;241m.\u001b[39madd_edge(n1, n2, kind\u001b[38;5;241m=\u001b[39m{\u001b[38;5;124m\"\u001b[39m\u001b[38;5;124mdistance_threshold\u001b[39m\u001b[38;5;124m\"\u001b[39m})\n",
      "\u001b[0;31mTypeError\u001b[0m: 'method' object is not subscriptable"
     ]
    }
   ],
   "source": [
    "avg_degrees_all = []\n",
    "avg_ccs_all = []\n",
    "\n",
    "for i in range(5):\n",
    "    G1,G2,G3,G4 = sub_graph(edge_funcs[i])\n",
    "    G = [G1,G2,G3,G4]\n",
    "    avg_degrees = []\n",
    "    avg_ccs = []\n",
    "    for j in range(len(G)):\n",
    "        degrees = dict(G[j].degree())\n",
    "        \n",
    "\n",
    "        avg_degree = sum(degrees.values()) / len(degrees)\n",
    "        avg_cc = nx.average_clustering(G[j])\n",
    "    \n",
    "        avg_degrees.append(avg_degree)\n",
    "        avg_ccs.append(avg_cc )\n",
    "    avg_degrees_all.append(avg_degrees)\n",
    "    avg_ccs_all.append(avg_ccs)\n"
   ]
  },
  {
   "cell_type": "code",
   "execution_count": 10,
   "id": "9ddff2a3",
   "metadata": {},
   "outputs": [
    {
     "data": {
      "text/plain": [
       "'1.7'"
      ]
     },
     "execution_count": 10,
     "metadata": {},
     "output_type": "execute_result"
    }
   ],
   "source": [
    "import networkx\n",
    "networkx.__version__"
   ]
  },
  {
   "cell_type": "code",
   "execution_count": 140,
   "id": "c08982cb",
   "metadata": {},
   "outputs": [
    {
     "data": {
      "text/plain": [
       "<networkx.classes.graph.Graph at 0x7ff440c83b20>"
      ]
     },
     "execution_count": 140,
     "metadata": {},
     "output_type": "execute_result"
    }
   ],
   "source": [
    "G = [G1,G2,G3,G4]\n",
    "G[1]"
   ]
  },
  {
   "cell_type": "code",
   "execution_count": null,
   "id": "d6cbc389",
   "metadata": {},
   "outputs": [],
   "source": [
    " avg_degrees_all"
   ]
  },
  {
   "cell_type": "code",
   "execution_count": 203,
   "id": "9d2d4464",
   "metadata": {},
   "outputs": [],
   "source": [
    "index_outcon_de=[]\n",
    "index_incon_de=[]\n",
    "for i in range(5):\n",
    "    index_outcon_de.append(abs(avg_degrees_all[i][2]-avg_degrees_all[i][0])/abs(avg_degrees_all[i][3]-avg_degrees_all[i][0]))\n",
    "    index_incon_de.append(abs(avg_degrees_all[i][3]-avg_degrees_all[i][0])/abs(avg_degrees_all[i][1]-avg_degrees_all[i][0]))"
   ]
  },
  {
   "cell_type": "code",
   "execution_count": 204,
   "id": "6312b3c8",
   "metadata": {},
   "outputs": [
    {
     "data": {
      "text/plain": [
       "[0.6569191700639985,\n",
       " 0.09464127937798227,\n",
       " 0.5997823142414871,\n",
       " 1.2647438423645316,\n",
       " 7.884789156626543]"
      ]
     },
     "execution_count": 204,
     "metadata": {},
     "output_type": "execute_result"
    }
   ],
   "source": [
    "index_outcon_de"
   ]
  },
  {
   "cell_type": "code",
   "execution_count": 205,
   "id": "08440266",
   "metadata": {},
   "outputs": [
    {
     "data": {
      "text/plain": [
       "[2.3253733399718826,\n",
       " 1.712163601052491,\n",
       " 2.407326378934958,\n",
       " 1.8724191312783256,\n",
       " 0.09711982433184359]"
      ]
     },
     "execution_count": 205,
     "metadata": {},
     "output_type": "execute_result"
    }
   ],
   "source": [
    "index_incon_de"
   ]
  },
  {
   "cell_type": "code",
   "execution_count": 206,
   "id": "888b705e",
   "metadata": {},
   "outputs": [
    {
     "data": {
      "text/plain": [
       "[[0.24523419995525605,\n",
       "  0.2384427225153921,\n",
       "  0.2869802607882208,\n",
       "  0.25061051188232947],\n",
       " [0.049925261584454414, 0.02759211653813196, 0.0, 0.025025025025025023],\n",
       " [0.23080917157021796,\n",
       "  0.2225055227367125,\n",
       "  0.27848482017337467,\n",
       "  0.2276767303796513],\n",
       " [0.4422775249475943,\n",
       "  0.4419199054642,\n",
       "  0.44623215068989225,\n",
       "  0.44630501337774664],\n",
       " [0.3069933803117658,\n",
       "  0.3067694944301628,\n",
       "  0.29319444444444454,\n",
       "  0.28438438438438407]]"
      ]
     },
     "execution_count": 206,
     "metadata": {},
     "output_type": "execute_result"
    }
   ],
   "source": [
    "avg_ccs_all"
   ]
  },
  {
   "cell_type": "code",
   "execution_count": null,
   "id": "64d13311",
   "metadata": {},
   "outputs": [],
   "source": []
  },
  {
   "cell_type": "code",
   "execution_count": null,
   "id": "3c1e4abd",
   "metadata": {},
   "outputs": [],
   "source": []
  },
  {
   "cell_type": "code",
   "execution_count": 207,
   "id": "afe35a09",
   "metadata": {},
   "outputs": [],
   "source": [
    "index_outcon=[]\n",
    "index_incon=[]\n",
    "for i in range(5):\n",
    "    index_outcon.append(abs(avg_ccs_all[i][2]-avg_ccs_all[i][0])/abs(avg_ccs_all[i][3]-avg_ccs_all[i][0]))\n",
    "    index_incon.append(abs(avg_ccs_all[i][3]-avg_ccs_all[i][0])/abs(avg_ccs_all[i][1]-avg_ccs_all[i][0]))"
   ]
  },
  {
   "cell_type": "code",
   "execution_count": null,
   "id": "3aa5a8d0",
   "metadata": {},
   "outputs": [],
   "source": []
  },
  {
   "cell_type": "code",
   "execution_count": null,
   "id": "af3a05df",
   "metadata": {},
   "outputs": [],
   "source": []
  },
  {
   "cell_type": "code",
   "execution_count": 208,
   "id": "c4b36684",
   "metadata": {},
   "outputs": [
    {
     "data": {
      "text/plain": [
       "[7.764813760664582,\n",
       " 2.0050115373521775,\n",
       " 15.219966059293254,\n",
       " 0.981908653713591,\n",
       " 0.6103294419461324]"
      ]
     },
     "execution_count": 208,
     "metadata": {},
     "output_type": "execute_result"
    }
   ],
   "source": [
    "index_outcon"
   ]
  },
  {
   "cell_type": "code",
   "execution_count": 209,
   "id": "3b3d6c35",
   "metadata": {},
   "outputs": [
    {
     "data": {
      "text/plain": [
       "[0.791626266107588,\n",
       " 1.114945365186246,\n",
       " 0.37723671284449933,\n",
       " 11.261937945678818,\n",
       " 100.98446478850946]"
      ]
     },
     "execution_count": 209,
     "metadata": {},
     "output_type": "execute_result"
    }
   ],
   "source": [
    "index_incon"
   ]
  },
  {
   "cell_type": "code",
   "execution_count": 221,
   "id": "e019ca64",
   "metadata": {},
   "outputs": [
    {
     "ename": "AttributeError",
     "evalue": "module 'scipy.sparse' has no attribute 'coo_array'",
     "output_type": "error",
     "traceback": [
      "\u001b[0;31m---------------------------------------------------------------------------\u001b[0m",
      "\u001b[0;31mAttributeError\u001b[0m                            Traceback (most recent call last)",
      "Cell \u001b[0;32mIn[221], line 1\u001b[0m\n\u001b[0;32m----> 1\u001b[0m laplacian1 \u001b[38;5;241m=\u001b[39m \u001b[43mnx\u001b[49m\u001b[38;5;241;43m.\u001b[39;49m\u001b[43mlaplacian_matrix\u001b[49m\u001b[43m(\u001b[49m\u001b[43mG1\u001b[49m\u001b[43m)\u001b[49m\n",
      "File \u001b[0;32m<class 'networkx.utils.decorators.argmap'> compilation 24:4\u001b[0m, in \u001b[0;36margmap_laplacian_matrix_21\u001b[0;34m(G, nodelist, weight)\u001b[0m\n\u001b[1;32m      2\u001b[0m \u001b[38;5;28;01mimport\u001b[39;00m \u001b[38;5;21;01mcollections\u001b[39;00m\n\u001b[1;32m      3\u001b[0m \u001b[38;5;28;01mimport\u001b[39;00m \u001b[38;5;21;01mgzip\u001b[39;00m\n\u001b[0;32m----> 4\u001b[0m \u001b[38;5;28;01mimport\u001b[39;00m \u001b[38;5;21;01minspect\u001b[39;00m\n\u001b[1;32m      5\u001b[0m \u001b[38;5;28;01mimport\u001b[39;00m \u001b[38;5;21;01mitertools\u001b[39;00m\n\u001b[1;32m      6\u001b[0m \u001b[38;5;28;01mimport\u001b[39;00m \u001b[38;5;21;01mre\u001b[39;00m\n",
      "File \u001b[0;32m~/opt/anaconda3/lib/python3.8/site-packages/networkx/linalg/laplacianmatrix.py:55\u001b[0m, in \u001b[0;36mlaplacian_matrix\u001b[0;34m(G, nodelist, weight)\u001b[0m\n\u001b[1;32m     53\u001b[0m \u001b[38;5;28;01mif\u001b[39;00m nodelist \u001b[38;5;129;01mis\u001b[39;00m \u001b[38;5;28;01mNone\u001b[39;00m:\n\u001b[1;32m     54\u001b[0m     nodelist \u001b[38;5;241m=\u001b[39m \u001b[38;5;28mlist\u001b[39m(G)\n\u001b[0;32m---> 55\u001b[0m A \u001b[38;5;241m=\u001b[39m \u001b[43mnx\u001b[49m\u001b[38;5;241;43m.\u001b[39;49m\u001b[43mto_scipy_sparse_array\u001b[49m\u001b[43m(\u001b[49m\u001b[43mG\u001b[49m\u001b[43m,\u001b[49m\u001b[43m \u001b[49m\u001b[43mnodelist\u001b[49m\u001b[38;5;241;43m=\u001b[39;49m\u001b[43mnodelist\u001b[49m\u001b[43m,\u001b[49m\u001b[43m \u001b[49m\u001b[43mweight\u001b[49m\u001b[38;5;241;43m=\u001b[39;49m\u001b[43mweight\u001b[49m\u001b[43m,\u001b[49m\u001b[43m \u001b[49m\u001b[38;5;28;43mformat\u001b[39;49m\u001b[38;5;241;43m=\u001b[39;49m\u001b[38;5;124;43m\"\u001b[39;49m\u001b[38;5;124;43mcsr\u001b[39;49m\u001b[38;5;124;43m\"\u001b[39;49m\u001b[43m)\u001b[49m\n\u001b[1;32m     56\u001b[0m n, m \u001b[38;5;241m=\u001b[39m A\u001b[38;5;241m.\u001b[39mshape\n\u001b[1;32m     57\u001b[0m \u001b[38;5;66;03m# TODO: rm csr_array wrapper when spdiags can produce arrays\u001b[39;00m\n",
      "File \u001b[0;32m~/opt/anaconda3/lib/python3.8/site-packages/networkx/convert_matrix.py:923\u001b[0m, in \u001b[0;36mto_scipy_sparse_array\u001b[0;34m(G, nodelist, dtype, weight, format)\u001b[0m\n\u001b[1;32m    921\u001b[0m         r \u001b[38;5;241m+\u001b[39m\u001b[38;5;241m=\u001b[39m diag_index\n\u001b[1;32m    922\u001b[0m         c \u001b[38;5;241m+\u001b[39m\u001b[38;5;241m=\u001b[39m diag_index\n\u001b[0;32m--> 923\u001b[0m     A \u001b[38;5;241m=\u001b[39m \u001b[43msp\u001b[49m\u001b[38;5;241;43m.\u001b[39;49m\u001b[43msparse\u001b[49m\u001b[38;5;241;43m.\u001b[39;49m\u001b[43mcoo_array\u001b[49m((d, (r, c)), shape\u001b[38;5;241m=\u001b[39m(nlen, nlen), dtype\u001b[38;5;241m=\u001b[39mdtype)\n\u001b[1;32m    924\u001b[0m \u001b[38;5;28;01mtry\u001b[39;00m:\n\u001b[1;32m    925\u001b[0m     \u001b[38;5;28;01mreturn\u001b[39;00m A\u001b[38;5;241m.\u001b[39masformat(\u001b[38;5;28mformat\u001b[39m)\n",
      "\u001b[0;31mAttributeError\u001b[0m: module 'scipy.sparse' has no attribute 'coo_array'"
     ]
    }
   ],
   "source": [
    "laplacian1 = nx.laplacian_matrix(G1)"
   ]
  },
  {
   "cell_type": "code",
   "execution_count": 222,
   "id": "dc017618",
   "metadata": {},
   "outputs": [],
   "source": [
    "import numpy as np\n",
    "\n",
    "# define the adjacency matrix\n",
    "A = np.array([[0, 1, 1],\n",
    "              [1, 0, 1],\n",
    "              [1, 1, 0]])\n",
    "\n",
    "# compute the degree matrix\n",
    "D = np.diag(np.sum(A, axis=1))\n",
    "\n",
    "# compute the Laplacian matrix\n",
    "L = D - A"
   ]
  },
  {
   "cell_type": "code",
   "execution_count": 251,
   "id": "331129fd",
   "metadata": {},
   "outputs": [
    {
     "name": "stdout",
     "output_type": "stream",
     "text": [
      "33\n"
     ]
    }
   ],
   "source": [
    "n_u =[]\n",
    "n_v =[]\n",
    "for u, v, d in G1.edges(data=True):\n",
    "    n_u.append(int(u[6:]))\n",
    "    n_v.append(int(v[6:]))\n",
    "    #print(u[6:], v[6:], d)\n",
    "print(min(min(n_u),min(n_v)))\n"
   ]
  },
  {
   "cell_type": "code",
   "execution_count": 397,
   "id": "98e0ef10",
   "metadata": {},
   "outputs": [],
   "source": [
    "def get_adj_matrix(G):\n",
    "# define the edges of the graph\n",
    "    edges = G.edges\n",
    "\n",
    "# compute the number of nodes in the graph\n",
    "    n = len(G.nodes)\n",
    "\n",
    "# create an empty adjacency matrix\n",
    "    adj_matrix = [[0] * n for _ in range(n)]\n",
    "\n",
    "    n_u =[]\n",
    "    n_v =[]\n",
    "    for u, v, d in G.edges(data=True):\n",
    "        n_u.append(int(u[6:]))\n",
    "        n_v.append(int(v[6:]))\n",
    "    #print(u[6:], v[6:], d)\n",
    "    tmp = min(min(n_u),min(n_v))\n",
    "\n",
    "# populate the adjacency matrix with the edges\n",
    "    for u, v in edges:\n",
    "        adj_matrix[int(u[6:])-tmp][int(v[6:])-tmp] = 1\n",
    "        adj_matrix[int(v[6:])-tmp][int(u[6:])-tmp] = 1  # if the graph is undirected\n",
    "\n",
    "# convert the adjacency matrix to a NumPy array (optional)\n",
    "    adj_matrix = np.array(adj_matrix)\n",
    "    return adj_matrix\n",
    "\n",
    "def get_Laplacian_matrix(A):\n",
    "    # define the adjacency matrix\n",
    "    \n",
    "\n",
    "# compute the degree matrix\n",
    "    D = np.diag(np.sum(A, axis=1))\n",
    "\n",
    "# compute the Laplacian matrix\n",
    "    L = D - A\n",
    "    return L\n",
    "\n",
    "def normalized_laplacian_matrix(G):\n",
    "    adj_matrix = get_adj_matrix(G)\n",
    "    D = np.diag(adj_matrix.sum(axis=1))\n",
    "    L = get_Laplacian_matrix(adj_matrix)\n",
    "    D_sqrt_inv = np.diag(1 / np.sqrt(np.diag(D)))\n",
    "    L_norm = D_sqrt_inv @ L @ D_sqrt_inv\n",
    "    return L_norm\n"
   ]
  },
  {
   "cell_type": "code",
   "execution_count": 273,
   "id": "ede92295",
   "metadata": {},
   "outputs": [],
   "source": [
    "def get_maxtrix(L):\n",
    "    LL =[]\n",
    "    for i in range(len(L)):\n",
    "    \n",
    "        LL.append(L[i].tolist())\n",
    "    return LL"
   ]
  },
  {
   "cell_type": "code",
   "execution_count": 366,
   "id": "a7ad0682",
   "metadata": {},
   "outputs": [
    {
     "data": {
      "text/html": [
       "<pre style=\"white-space:pre;overflow-x:auto;line-height:normal;font-family:Menlo,'DejaVu Sans Mono',consolas,'Courier New',monospace\"></pre>\n"
      ],
      "text/plain": [
       "\u001b[?25l"
      ]
     },
     "metadata": {},
     "output_type": "display_data"
    },
    {
     "data": {
      "application/vnd.jupyter.widget-view+json": {
       "model_id": "",
       "version_major": 2,
       "version_minor": 0
      },
      "text/plain": [
       "Output()"
      ]
     },
     "metadata": {},
     "output_type": "display_data"
    },
    {
     "data": {
      "text/html": [
       "<pre style=\"white-space:pre;overflow-x:auto;line-height:normal;font-family:Menlo,'DejaVu Sans Mono',consolas,'Courier New',monospace\">\r",
       "\u001b[2K/Users/eth-may/opt/anaconda3/lib/python3.8/site-packages/biopandas/pdb/pandas_pdb.py:681: SettingWithCopyWarning:\n",
       "\n",
       "\n",
       "A value is trying to be set on a copy of a slice from a DataFrame.\n",
       "Try using .loc[row_indexer,col_indexer] = value instead\n",
       "\n",
       "See the caveats in the documentation: \n",
       "https://pandas.pydata.org/pandas-docs/stable/user_guide/indexing.html#returning-a-view-versus-a-copy\n",
       "\n",
       "Reading PDB file... <span style=\"color: #729c1f; text-decoration-color: #729c1f\">━━━━━━━━━━━━━━━━━━━━━━━━━━━━━━━━━━━━━━━━</span> <span style=\"color: #800080; text-decoration-color: #800080\">100%</span> <span style=\"color: #008080; text-decoration-color: #008080\">0:00:00</span></pre>\n"
      ],
      "text/plain": [
       "\r",
       "\u001b[2K/Users/eth-may/opt/anaconda3/lib/python3.8/site-packages/biopandas/pdb/pandas_pdb.py:681: SettingWithCopyWarning:\n",
       "\n",
       "\n",
       "A value is trying to be set on a copy of a slice from a DataFrame.\n",
       "Try using .loc[row_indexer,col_indexer] = value instead\n",
       "\n",
       "See the caveats in the documentation: \n",
       "https://pandas.pydata.org/pandas-docs/stable/user_guide/indexing.html#returning-a-view-versus-a-copy\n",
       "\n",
       "Reading PDB file... \u001b[38;2;114;156;31m━━━━━━━━━━━━━━━━━━━━━━━━━━━━━━━━━━━━━━━━\u001b[0m \u001b[35m100%\u001b[0m \u001b[36m0:00:00\u001b[0m"
      ]
     },
     "metadata": {},
     "output_type": "display_data"
    },
    {
     "data": {
      "text/html": [
       "<pre style=\"white-space:pre;overflow-x:auto;line-height:normal;font-family:Menlo,'DejaVu Sans Mono',consolas,'Courier New',monospace\">\n",
       "</pre>\n"
      ],
      "text/plain": [
       "\n",
       "\u001b[?25h\r",
       "\u001b[1A\u001b[2K\u001b[1A\u001b[2K\u001b[1A\u001b[2K\u001b[1A\u001b[2K"
      ]
     },
     "metadata": {},
     "output_type": "display_data"
    },
    {
     "data": {
      "text/html": [
       "<pre style=\"white-space:pre;overflow-x:auto;line-height:normal;font-family:Menlo,'DejaVu Sans Mono',consolas,'Courier New',monospace\"></pre>\n"
      ],
      "text/plain": [
       "\u001b[?25l"
      ]
     },
     "metadata": {},
     "output_type": "display_data"
    },
    {
     "data": {
      "application/vnd.jupyter.widget-view+json": {
       "model_id": "",
       "version_major": 2,
       "version_minor": 0
      },
      "text/plain": [
       "Output()"
      ]
     },
     "metadata": {},
     "output_type": "display_data"
    },
    {
     "data": {
      "text/html": [
       "<pre style=\"white-space:pre;overflow-x:auto;line-height:normal;font-family:Menlo,'DejaVu Sans Mono',consolas,'Courier New',monospace\">\r",
       "\u001b[2K/Users/eth-may/opt/anaconda3/lib/python3.8/site-packages/biopandas/pdb/pandas_pdb.py:681: SettingWithCopyWarning:\n",
       "\n",
       "\n",
       "A value is trying to be set on a copy of a slice from a DataFrame.\n",
       "Try using .loc[row_indexer,col_indexer] = value instead\n",
       "\n",
       "See the caveats in the documentation: \n",
       "https://pandas.pydata.org/pandas-docs/stable/user_guide/indexing.html#returning-a-view-versus-a-copy\n",
       "\n",
       "Reading PDB file... <span style=\"color: #3a3a3a; text-decoration-color: #3a3a3a\">━━━━━━━━━━━━━━━━━━━━━━━━━━━━━━━━━━━━━━━━</span> <span style=\"color: #800080; text-decoration-color: #800080\">  0%</span> <span style=\"color: #008080; text-decoration-color: #008080\">-:--:--</span></pre>\n"
      ],
      "text/plain": [
       "\r",
       "\u001b[2K/Users/eth-may/opt/anaconda3/lib/python3.8/site-packages/biopandas/pdb/pandas_pdb.py:681: SettingWithCopyWarning:\n",
       "\n",
       "\n",
       "A value is trying to be set on a copy of a slice from a DataFrame.\n",
       "Try using .loc[row_indexer,col_indexer] = value instead\n",
       "\n",
       "See the caveats in the documentation: \n",
       "https://pandas.pydata.org/pandas-docs/stable/user_guide/indexing.html#returning-a-view-versus-a-copy\n",
       "\n",
       "Reading PDB file... \u001b[38;5;237m━━━━━━━━━━━━━━━━━━━━━━━━━━━━━━━━━━━━━━━━\u001b[0m \u001b[35m  0%\u001b[0m \u001b[36m-:--:--\u001b[0m"
      ]
     },
     "metadata": {},
     "output_type": "display_data"
    },
    {
     "data": {
      "text/html": [
       "<pre style=\"white-space:pre;overflow-x:auto;line-height:normal;font-family:Menlo,'DejaVu Sans Mono',consolas,'Courier New',monospace\">\n",
       "</pre>\n"
      ],
      "text/plain": [
       "\n",
       "\u001b[?25h\r",
       "\u001b[1A\u001b[2K\u001b[1A\u001b[2K\u001b[1A\u001b[2K\u001b[1A\u001b[2K"
      ]
     },
     "metadata": {},
     "output_type": "display_data"
    },
    {
     "data": {
      "text/html": [
       "<pre style=\"white-space:pre;overflow-x:auto;line-height:normal;font-family:Menlo,'DejaVu Sans Mono',consolas,'Courier New',monospace\"></pre>\n"
      ],
      "text/plain": [
       "\u001b[?25l"
      ]
     },
     "metadata": {},
     "output_type": "display_data"
    },
    {
     "data": {
      "application/vnd.jupyter.widget-view+json": {
       "model_id": "",
       "version_major": 2,
       "version_minor": 0
      },
      "text/plain": [
       "Output()"
      ]
     },
     "metadata": {},
     "output_type": "display_data"
    },
    {
     "data": {
      "text/html": [
       "<pre style=\"white-space:pre;overflow-x:auto;line-height:normal;font-family:Menlo,'DejaVu Sans Mono',consolas,'Courier New',monospace\">\r",
       "\u001b[2K/Users/eth-may/opt/anaconda3/lib/python3.8/site-packages/biopandas/pdb/pandas_pdb.py:681: SettingWithCopyWarning:\n",
       "\n",
       "\n",
       "A value is trying to be set on a copy of a slice from a DataFrame.\n",
       "Try using .loc[row_indexer,col_indexer] = value instead\n",
       "\n",
       "See the caveats in the documentation: \n",
       "https://pandas.pydata.org/pandas-docs/stable/user_guide/indexing.html#returning-a-view-versus-a-copy\n",
       "\n",
       "Reading PDB file... <span style=\"color: #3a3a3a; text-decoration-color: #3a3a3a\">━━━━━━━━━━━━━━━━━━━━━━━━━━━━━━━━━━━━━━━━</span> <span style=\"color: #800080; text-decoration-color: #800080\">  0%</span> <span style=\"color: #008080; text-decoration-color: #008080\">-:--:--</span></pre>\n"
      ],
      "text/plain": [
       "\r",
       "\u001b[2K/Users/eth-may/opt/anaconda3/lib/python3.8/site-packages/biopandas/pdb/pandas_pdb.py:681: SettingWithCopyWarning:\n",
       "\n",
       "\n",
       "A value is trying to be set on a copy of a slice from a DataFrame.\n",
       "Try using .loc[row_indexer,col_indexer] = value instead\n",
       "\n",
       "See the caveats in the documentation: \n",
       "https://pandas.pydata.org/pandas-docs/stable/user_guide/indexing.html#returning-a-view-versus-a-copy\n",
       "\n",
       "Reading PDB file... \u001b[38;5;237m━━━━━━━━━━━━━━━━━━━━━━━━━━━━━━━━━━━━━━━━\u001b[0m \u001b[35m  0%\u001b[0m \u001b[36m-:--:--\u001b[0m"
      ]
     },
     "metadata": {},
     "output_type": "display_data"
    },
    {
     "data": {
      "text/html": [
       "<pre style=\"white-space:pre;overflow-x:auto;line-height:normal;font-family:Menlo,'DejaVu Sans Mono',consolas,'Courier New',monospace\">\n",
       "</pre>\n"
      ],
      "text/plain": [
       "\n",
       "\u001b[?25h\r",
       "\u001b[1A\u001b[2K\u001b[1A\u001b[2K\u001b[1A\u001b[2K\u001b[1A\u001b[2K"
      ]
     },
     "metadata": {},
     "output_type": "display_data"
    },
    {
     "data": {
      "text/html": [
       "<pre style=\"white-space:pre;overflow-x:auto;line-height:normal;font-family:Menlo,'DejaVu Sans Mono',consolas,'Courier New',monospace\"></pre>\n"
      ],
      "text/plain": [
       "\u001b[?25l"
      ]
     },
     "metadata": {},
     "output_type": "display_data"
    },
    {
     "data": {
      "application/vnd.jupyter.widget-view+json": {
       "model_id": "",
       "version_major": 2,
       "version_minor": 0
      },
      "text/plain": [
       "Output()"
      ]
     },
     "metadata": {},
     "output_type": "display_data"
    },
    {
     "data": {
      "text/html": [
       "<pre style=\"white-space:pre;overflow-x:auto;line-height:normal;font-family:Menlo,'DejaVu Sans Mono',consolas,'Courier New',monospace\">\r",
       "\u001b[2K/Users/eth-may/opt/anaconda3/lib/python3.8/site-packages/biopandas/pdb/pandas_pdb.py:681: SettingWithCopyWarning:\n",
       "\n",
       "\n",
       "A value is trying to be set on a copy of a slice from a DataFrame.\n",
       "Try using .loc[row_indexer,col_indexer] = value instead\n",
       "\n",
       "See the caveats in the documentation: \n",
       "https://pandas.pydata.org/pandas-docs/stable/user_guide/indexing.html#returning-a-view-versus-a-copy\n",
       "\n",
       "Reading PDB file... <span style=\"color: #3a3a3a; text-decoration-color: #3a3a3a\">━━━━━━━━━━━━━━━━━━━━━━━━━━━━━━━━━━━━━━━━</span> <span style=\"color: #800080; text-decoration-color: #800080\">  0%</span> <span style=\"color: #008080; text-decoration-color: #008080\">-:--:--</span></pre>\n"
      ],
      "text/plain": [
       "\r",
       "\u001b[2K/Users/eth-may/opt/anaconda3/lib/python3.8/site-packages/biopandas/pdb/pandas_pdb.py:681: SettingWithCopyWarning:\n",
       "\n",
       "\n",
       "A value is trying to be set on a copy of a slice from a DataFrame.\n",
       "Try using .loc[row_indexer,col_indexer] = value instead\n",
       "\n",
       "See the caveats in the documentation: \n",
       "https://pandas.pydata.org/pandas-docs/stable/user_guide/indexing.html#returning-a-view-versus-a-copy\n",
       "\n",
       "Reading PDB file... \u001b[38;5;237m━━━━━━━━━━━━━━━━━━━━━━━━━━━━━━━━━━━━━━━━\u001b[0m \u001b[35m  0%\u001b[0m \u001b[36m-:--:--\u001b[0m"
      ]
     },
     "metadata": {},
     "output_type": "display_data"
    },
    {
     "data": {
      "text/html": [
       "<pre style=\"white-space:pre;overflow-x:auto;line-height:normal;font-family:Menlo,'DejaVu Sans Mono',consolas,'Courier New',monospace\">\n",
       "</pre>\n"
      ],
      "text/plain": [
       "\n",
       "\u001b[?25h\r",
       "\u001b[1A\u001b[2K\u001b[1A\u001b[2K\u001b[1A\u001b[2K\u001b[1A\u001b[2K"
      ]
     },
     "metadata": {},
     "output_type": "display_data"
    }
   ],
   "source": [
    "G1,G2,G3,G4=sub_graph(edge_funcs[0])\n",
    "graphs=[G1,G2,G3,G4]"
   ]
  },
  {
   "cell_type": "code",
   "execution_count": 427,
   "id": "3457363a",
   "metadata": {},
   "outputs": [
    {
     "ename": "NameError",
     "evalue": "name 'adjacency_matrix1' is not defined",
     "output_type": "error",
     "traceback": [
      "\u001b[0;31m---------------------------------------------------------------------------\u001b[0m",
      "\u001b[0;31mNameError\u001b[0m                                 Traceback (most recent call last)",
      "Cell \u001b[0;32mIn[427], line 6\u001b[0m\n\u001b[1;32m      3\u001b[0m \u001b[38;5;28;01mfrom\u001b[39;00m \u001b[38;5;21;01mscipy\u001b[39;00m\u001b[38;5;21;01m.\u001b[39;00m\u001b[38;5;21;01msparse\u001b[39;00m\u001b[38;5;21;01m.\u001b[39;00m\u001b[38;5;21;01mlinalg\u001b[39;00m \u001b[38;5;28;01mimport\u001b[39;00m eigs\n\u001b[1;32m      5\u001b[0m \u001b[38;5;66;03m# Define the adjacency matrices for each graph\u001b[39;00m\n\u001b[0;32m----> 6\u001b[0m adjacency_matrices \u001b[38;5;241m=\u001b[39m [\u001b[43madjacency_matrix1\u001b[49m, adjacency_matrix2, adjacency_matrix3, adjacency_matrix4]\n\u001b[1;32m      8\u001b[0m \u001b[38;5;66;03m# Define the number of eigenvectors to compute\u001b[39;00m\n\u001b[1;32m      9\u001b[0m n_eigenvectors \u001b[38;5;241m=\u001b[39m \u001b[38;5;241m4\u001b[39m\n",
      "\u001b[0;31mNameError\u001b[0m: name 'adjacency_matrix1' is not defined"
     ]
    }
   ],
   "source": [
    "import numpy as np\n",
    "from sklearn.cluster import KMeans\n",
    "from scipy.sparse.linalg import eigs\n",
    "\n",
    "# Define the adjacency matrices for each graph\n",
    "adjacency_matrices = [adjacency_matrix1, adjacency_matrix2, adjacency_matrix3, adjacency_matrix4]\n",
    "\n",
    "# Define the number of eigenvectors to compute\n",
    "n_eigenvectors = 4\n",
    "\n",
    "# Compute the Laplacian matrices for each graph\n",
    "laplacian_matrices = []\n",
    "for adjacency_matrix in adjacency_matrices:\n",
    "    degree_matrix = np.diag(np.sum(adjacency_matrix, axis=1))\n",
    "    laplacian_matrix = degree_matrix - adjacency_matrix\n",
    "    laplacian_matrices.append(laplacian_matrix)\n",
    "\n",
    "# Compute the eigenvectors for each Laplacian matrix\n",
    "eigenvectors = []\n",
    "for laplacian_matrix in laplacian_matrices:\n",
    "    k_eigvals, k_eigenvects = eigs(laplacian_matrix, k=n_eigenvectors, which='SM')\n",
    "    eigenvectors.append(k_eigenvects)\n",
    "\n",
    "# Concatenate the eigenvectors into a single matrix\n",
    "concatenated_eigenvectors = np.concatenate(eigenvectors, axis=1)\n",
    "\n",
    "# Cluster the rows of the concatenated eigenvectors using KMeans\n",
    "n_clusters = 4  # set the number of clusters you want to find\n",
    "kmeans = KMeans(n_clusters=n_clusters)\n",
    "kmeans.fit(concatenated_eigenvectors)\n",
    "graph_labels = kmeans.labels_\n",
    "\n",
    "print(graph_labels)\n"
   ]
  },
  {
   "cell_type": "code",
   "execution_count": 436,
   "id": "dd331a38",
   "metadata": {},
   "outputs": [
    {
     "ename": "ValueError",
     "evalue": "array must not contain infs or NaNs",
     "output_type": "error",
     "traceback": [
      "\u001b[0;31m---------------------------------------------------------------------------\u001b[0m",
      "\u001b[0;31mValueError\u001b[0m                                Traceback (most recent call last)",
      "Cell \u001b[0;32mIn[436], line 31\u001b[0m\n\u001b[1;32m     29\u001b[0m \u001b[38;5;66;03m# Apply spectral embedding to each Laplacian matrix\u001b[39;00m\n\u001b[1;32m     30\u001b[0m n_components \u001b[38;5;241m=\u001b[39m \u001b[38;5;241m3\u001b[39m\n\u001b[0;32m---> 31\u001b[0m embedding1 \u001b[38;5;241m=\u001b[39m \u001b[43mspectral_embedding\u001b[49m\u001b[43m(\u001b[49m\u001b[43mL_list\u001b[49m\u001b[43m[\u001b[49m\u001b[38;5;241;43m0\u001b[39;49m\u001b[43m]\u001b[49m\u001b[43m,\u001b[49m\u001b[43m \u001b[49m\u001b[43mn_components\u001b[49m\u001b[38;5;241;43m=\u001b[39;49m\u001b[43mn_components\u001b[49m\u001b[43m)\u001b[49m\n\u001b[1;32m     32\u001b[0m embedding2 \u001b[38;5;241m=\u001b[39m spectral_embedding(L_list[\u001b[38;5;241m1\u001b[39m], n_components\u001b[38;5;241m=\u001b[39mn_components)\n\u001b[1;32m     33\u001b[0m embedding3 \u001b[38;5;241m=\u001b[39m spectral_embedding(L_list[\u001b[38;5;241m2\u001b[39m], n_components\u001b[38;5;241m=\u001b[39mn_components)\n",
      "File \u001b[0;32m~/opt/anaconda3/lib/python3.8/site-packages/sklearn/manifold/_spectral_embedding.py:299\u001b[0m, in \u001b[0;36mspectral_embedding\u001b[0;34m(adjacency, n_components, eigen_solver, random_state, eigen_tol, norm_laplacian, drop_first)\u001b[0m\n\u001b[1;32m    297\u001b[0m laplacian \u001b[38;5;241m*\u001b[39m\u001b[38;5;241m=\u001b[39m \u001b[38;5;241m-\u001b[39m\u001b[38;5;241m1\u001b[39m\n\u001b[1;32m    298\u001b[0m v0 \u001b[38;5;241m=\u001b[39m _init_arpack_v0(laplacian\u001b[38;5;241m.\u001b[39mshape[\u001b[38;5;241m0\u001b[39m], random_state)\n\u001b[0;32m--> 299\u001b[0m _, diffusion_map \u001b[38;5;241m=\u001b[39m \u001b[43meigsh\u001b[49m\u001b[43m(\u001b[49m\n\u001b[1;32m    300\u001b[0m \u001b[43m    \u001b[49m\u001b[43mlaplacian\u001b[49m\u001b[43m,\u001b[49m\u001b[43m \u001b[49m\u001b[43mk\u001b[49m\u001b[38;5;241;43m=\u001b[39;49m\u001b[43mn_components\u001b[49m\u001b[43m,\u001b[49m\u001b[43m \u001b[49m\u001b[43msigma\u001b[49m\u001b[38;5;241;43m=\u001b[39;49m\u001b[38;5;241;43m1.0\u001b[39;49m\u001b[43m,\u001b[49m\u001b[43m \u001b[49m\u001b[43mwhich\u001b[49m\u001b[38;5;241;43m=\u001b[39;49m\u001b[38;5;124;43m\"\u001b[39;49m\u001b[38;5;124;43mLM\u001b[39;49m\u001b[38;5;124;43m\"\u001b[39;49m\u001b[43m,\u001b[49m\u001b[43m \u001b[49m\u001b[43mtol\u001b[49m\u001b[38;5;241;43m=\u001b[39;49m\u001b[43meigen_tol\u001b[49m\u001b[43m,\u001b[49m\u001b[43m \u001b[49m\u001b[43mv0\u001b[49m\u001b[38;5;241;43m=\u001b[39;49m\u001b[43mv0\u001b[49m\n\u001b[1;32m    301\u001b[0m \u001b[43m\u001b[49m\u001b[43m)\u001b[49m\n\u001b[1;32m    302\u001b[0m embedding \u001b[38;5;241m=\u001b[39m diffusion_map\u001b[38;5;241m.\u001b[39mT[n_components::\u001b[38;5;241m-\u001b[39m\u001b[38;5;241m1\u001b[39m]\n\u001b[1;32m    303\u001b[0m \u001b[38;5;28;01mif\u001b[39;00m norm_laplacian:\n\u001b[1;32m    304\u001b[0m     \u001b[38;5;66;03m# recover u = D^-1/2 x from the eigenvector output x\u001b[39;00m\n",
      "File \u001b[0;32m~/opt/anaconda3/lib/python3.8/site-packages/scipy/sparse/linalg/eigen/arpack/arpack.py:1644\u001b[0m, in \u001b[0;36meigsh\u001b[0;34m(A, k, M, sigma, which, v0, ncv, maxiter, tol, return_eigenvectors, Minv, OPinv, mode)\u001b[0m\n\u001b[1;32m   1641\u001b[0m     Minv_matvec \u001b[38;5;241m=\u001b[39m get_OPinv_matvec(A, M, sigma,\n\u001b[1;32m   1642\u001b[0m                                    hermitian\u001b[38;5;241m=\u001b[39m\u001b[38;5;28;01mTrue\u001b[39;00m, tol\u001b[38;5;241m=\u001b[39mtol)\n\u001b[1;32m   1643\u001b[0m \u001b[38;5;28;01melse\u001b[39;00m:\n\u001b[0;32m-> 1644\u001b[0m     OPinv \u001b[38;5;241m=\u001b[39m _aslinearoperator_with_dtype(OPinv)\n\u001b[1;32m   1645\u001b[0m     Minv_matvec \u001b[38;5;241m=\u001b[39m OPinv\u001b[38;5;241m.\u001b[39mmatvec\n\u001b[1;32m   1646\u001b[0m \u001b[38;5;28;01mif\u001b[39;00m M \u001b[38;5;129;01mis\u001b[39;00m \u001b[38;5;28;01mNone\u001b[39;00m:\n",
      "File \u001b[0;32m~/opt/anaconda3/lib/python3.8/site-packages/scipy/sparse/linalg/eigen/arpack/arpack.py:1069\u001b[0m, in \u001b[0;36mget_OPinv_matvec\u001b[0;34m(A, M, sigma, hermitian, tol)\u001b[0m\n\u001b[1;32m   1067\u001b[0m     \u001b[38;5;28;01melse\u001b[39;00m:\n\u001b[1;32m   1068\u001b[0m         A \u001b[38;5;241m=\u001b[39m A \u001b[38;5;241m+\u001b[39m \u001b[38;5;241m0\u001b[39mj\n\u001b[0;32m-> 1069\u001b[0m     A\u001b[38;5;241m.\u001b[39mflat[::A\u001b[38;5;241m.\u001b[39mshape[\u001b[38;5;241m1\u001b[39m] \u001b[38;5;241m+\u001b[39m \u001b[38;5;241m1\u001b[39m] \u001b[38;5;241m-\u001b[39m\u001b[38;5;241m=\u001b[39m sigma\n\u001b[1;32m   1070\u001b[0m     \u001b[38;5;28;01mreturn\u001b[39;00m LuInv(A)\u001b[38;5;241m.\u001b[39mmatvec\n\u001b[1;32m   1071\u001b[0m \u001b[38;5;28;01melif\u001b[39;00m isspmatrix(A) \u001b[38;5;129;01mor\u001b[39;00m is_pydata_spmatrix(A):\n",
      "File \u001b[0;32m~/opt/anaconda3/lib/python3.8/site-packages/scipy/sparse/linalg/eigen/arpack/arpack.py:936\u001b[0m, in \u001b[0;36m__init__\u001b[0;34m(self, M)\u001b[0m\n\u001b[1;32m    930\u001b[0m \u001b[38;5;28;01mclass\u001b[39;00m \u001b[38;5;21;01mLuInv\u001b[39;00m(LinearOperator):\n\u001b[1;32m    931\u001b[0m     \u001b[38;5;124;03m\"\"\"\u001b[39;00m\n\u001b[1;32m    932\u001b[0m \u001b[38;5;124;03m    LuInv:\u001b[39;00m\n\u001b[1;32m    933\u001b[0m \u001b[38;5;124;03m       helper class to repeatedly solve M*x=b\u001b[39;00m\n\u001b[1;32m    934\u001b[0m \u001b[38;5;124;03m       using an LU-decomposition of M\u001b[39;00m\n\u001b[1;32m    935\u001b[0m \u001b[38;5;124;03m    \"\"\"\u001b[39;00m\n\u001b[0;32m--> 936\u001b[0m     \u001b[38;5;28;01mdef\u001b[39;00m \u001b[38;5;21m__init__\u001b[39m(\u001b[38;5;28mself\u001b[39m, M):\n\u001b[1;32m    937\u001b[0m         \u001b[38;5;28mself\u001b[39m\u001b[38;5;241m.\u001b[39mM_lu \u001b[38;5;241m=\u001b[39m lu_factor(M)\n\u001b[1;32m    938\u001b[0m         \u001b[38;5;28mself\u001b[39m\u001b[38;5;241m.\u001b[39mshape \u001b[38;5;241m=\u001b[39m M\u001b[38;5;241m.\u001b[39mshape\n",
      "File \u001b[0;32m~/opt/anaconda3/lib/python3.8/site-packages/scipy/linalg/decomp_lu.py:70\u001b[0m, in \u001b[0;36mlu_factor\u001b[0;34m(a, overwrite_a, check_finite)\u001b[0m\n\u001b[1;32m     16\u001b[0m \u001b[38;5;124;03m\"\"\"\u001b[39;00m\n\u001b[1;32m     17\u001b[0m \u001b[38;5;124;03mCompute pivoted LU decomposition of a matrix.\u001b[39;00m\n\u001b[1;32m     18\u001b[0m \n\u001b[0;32m   (...)\u001b[0m\n\u001b[1;32m     67\u001b[0m \u001b[38;5;124;03mTrue\u001b[39;00m\n\u001b[1;32m     68\u001b[0m \u001b[38;5;124;03m\"\"\"\u001b[39;00m\n\u001b[1;32m     69\u001b[0m \u001b[38;5;28;01mif\u001b[39;00m check_finite:\n\u001b[0;32m---> 70\u001b[0m     a1 \u001b[38;5;241m=\u001b[39m \u001b[43masarray_chkfinite\u001b[49m\u001b[43m(\u001b[49m\u001b[43ma\u001b[49m\u001b[43m)\u001b[49m\n\u001b[1;32m     71\u001b[0m \u001b[38;5;28;01melse\u001b[39;00m:\n\u001b[1;32m     72\u001b[0m     a1 \u001b[38;5;241m=\u001b[39m asarray(a)\n",
      "File \u001b[0;32m~/opt/anaconda3/lib/python3.8/site-packages/numpy/lib/function_base.py:488\u001b[0m, in \u001b[0;36masarray_chkfinite\u001b[0;34m(a, dtype, order)\u001b[0m\n\u001b[1;32m    486\u001b[0m a \u001b[38;5;241m=\u001b[39m asarray(a, dtype\u001b[38;5;241m=\u001b[39mdtype, order\u001b[38;5;241m=\u001b[39morder)\n\u001b[1;32m    487\u001b[0m \u001b[38;5;28;01mif\u001b[39;00m a\u001b[38;5;241m.\u001b[39mdtype\u001b[38;5;241m.\u001b[39mchar \u001b[38;5;129;01min\u001b[39;00m typecodes[\u001b[38;5;124m'\u001b[39m\u001b[38;5;124mAllFloat\u001b[39m\u001b[38;5;124m'\u001b[39m] \u001b[38;5;129;01mand\u001b[39;00m \u001b[38;5;129;01mnot\u001b[39;00m np\u001b[38;5;241m.\u001b[39misfinite(a)\u001b[38;5;241m.\u001b[39mall():\n\u001b[0;32m--> 488\u001b[0m     \u001b[38;5;28;01mraise\u001b[39;00m \u001b[38;5;167;01mValueError\u001b[39;00m(\n\u001b[1;32m    489\u001b[0m         \u001b[38;5;124m\"\u001b[39m\u001b[38;5;124marray must not contain infs or NaNs\u001b[39m\u001b[38;5;124m\"\u001b[39m)\n\u001b[1;32m    490\u001b[0m \u001b[38;5;28;01mreturn\u001b[39;00m a\n",
      "\u001b[0;31mValueError\u001b[0m: array must not contain infs or NaNs"
     ]
    }
   ],
   "source": [
    "from sklearn.cluster import SpectralClustering\n",
    "from sklearn.cluster import KMeans\n",
    "from sklearn.metrics import pairwise_distances\n",
    "from sklearn.cluster import spectral_clustering\n",
    "from sklearn.manifold import spectral_embedding\n",
    "# Compute the Laplacian eigenvalues and eigenvectors for each graph\n",
    "k = 3\n",
    "eigenvalues_list = []\n",
    "eigenvectors_list = []\n",
    "L_list = []\n",
    "for G in graphs:\n",
    "    adj = get_adj_matrix(G)\n",
    "    L = get_Laplacian_matrix(adj)\n",
    "    eigenvectors = np.linalg.eigh(L)[1][:, 1:3]\n",
    "    #eigenvalues_list.append(eigenvalues[:k])\n",
    "    eigenvectors_list.append(eigenvectors)\n",
    "    L_list.append(L)\n",
    "# Stack Laplacian matrices vertically\n",
    "\"\"\"\n",
    "max_cols = max(L.shape[1] for L in L_list)\n",
    "for i in range(len(L_list)):\n",
    "    num_cols = L_list[i].shape[1]\n",
    "    if num_cols < max_cols:\n",
    "        pad_cols = max_cols - num_cols\n",
    "        L_list[i] = np.pad(L_list[i], ((0, 0), (0, pad_cols)), mode='constant')\n",
    "\"\"\"\n",
    "from sklearn.cluster import SpectralClustering\n",
    "\n",
    "# Apply spectral embedding to each Laplacian matrix\n",
    "n_components = 3\n",
    "embedding1 = spectral_embedding(L_list[0], n_components=n_components)\n",
    "embedding2 = spectral_embedding(L_list[1], n_components=n_components)\n",
    "embedding3 = spectral_embedding(L_list[2], n_components=n_components)\n",
    "embedding4 = spectral_embedding(L_list[3], n_components=n_components)\n",
    "\n",
    "# Compute pairwise distances between graph representations\n",
    "X = np.vstack([embedding1, embedding2, embedding3, embedding4])\n",
    "D = pairwise_distances(X, metric='euclidean')\n",
    "\n",
    "# Cluster the graphs using spectral clustering\n",
    "n_clusters = 2\n",
    "spectral = SpectralClustering(n_clusters=n_clusters, affinity='precomputed')\n",
    "labels = spectral.fit_predict(D)\n",
    "\n",
    "print('Graph-level labels:', labels)\n",
    "\n",
    "\n"
   ]
  },
  {
   "cell_type": "code",
   "execution_count": 438,
   "id": "fdabadaa",
   "metadata": {},
   "outputs": [
    {
     "ename": "ValueError",
     "evalue": "Unknown kernel 'graphlet'",
     "output_type": "error",
     "traceback": [
      "\u001b[0;31m---------------------------------------------------------------------------\u001b[0m",
      "\u001b[0;31mValueError\u001b[0m                                Traceback (most recent call last)",
      "Cell \u001b[0;32mIn[438], line 3\u001b[0m\n\u001b[1;32m      1\u001b[0m \u001b[38;5;28;01mfrom\u001b[39;00m \u001b[38;5;21;01msklearn\u001b[39;00m\u001b[38;5;21;01m.\u001b[39;00m\u001b[38;5;21;01mmetrics\u001b[39;00m\u001b[38;5;21;01m.\u001b[39;00m\u001b[38;5;21;01mpairwise\u001b[39;00m \u001b[38;5;28;01mimport\u001b[39;00m pairwise_kernels\n\u001b[1;32m      2\u001b[0m kernel \u001b[38;5;241m=\u001b[39m \u001b[38;5;124m'\u001b[39m\u001b[38;5;124mgraphlet\u001b[39m\u001b[38;5;124m'\u001b[39m\n\u001b[0;32m----> 3\u001b[0m K \u001b[38;5;241m=\u001b[39m \u001b[43mpairwise_kernels\u001b[49m\u001b[43m(\u001b[49m\u001b[43mgraphs\u001b[49m\u001b[43m,\u001b[49m\u001b[43m \u001b[49m\u001b[43mmetric\u001b[49m\u001b[38;5;241;43m=\u001b[39;49m\u001b[43mkernel\u001b[49m\u001b[43m)\u001b[49m\n\u001b[1;32m      5\u001b[0m \u001b[38;5;66;03m# Cluster the graphs using spectral clustering\u001b[39;00m\n\u001b[1;32m      6\u001b[0m n_clusters \u001b[38;5;241m=\u001b[39m \u001b[38;5;241m2\u001b[39m\n",
      "File \u001b[0;32m~/opt/anaconda3/lib/python3.8/site-packages/sklearn/metrics/pairwise.py:2051\u001b[0m, in \u001b[0;36mpairwise_kernels\u001b[0;34m(X, Y, metric, filter_params, n_jobs, **kwds)\u001b[0m\n\u001b[1;32m   2049\u001b[0m     func \u001b[38;5;241m=\u001b[39m partial(_pairwise_callable, metric\u001b[38;5;241m=\u001b[39mmetric, \u001b[38;5;241m*\u001b[39m\u001b[38;5;241m*\u001b[39mkwds)\n\u001b[1;32m   2050\u001b[0m \u001b[38;5;28;01melse\u001b[39;00m:\n\u001b[0;32m-> 2051\u001b[0m     \u001b[38;5;28;01mraise\u001b[39;00m \u001b[38;5;167;01mValueError\u001b[39;00m(\u001b[38;5;124m\"\u001b[39m\u001b[38;5;124mUnknown kernel \u001b[39m\u001b[38;5;132;01m%r\u001b[39;00m\u001b[38;5;124m\"\u001b[39m \u001b[38;5;241m%\u001b[39m metric)\n\u001b[1;32m   2053\u001b[0m \u001b[38;5;28;01mreturn\u001b[39;00m _parallel_pairwise(X, Y, func, n_jobs, \u001b[38;5;241m*\u001b[39m\u001b[38;5;241m*\u001b[39mkwds)\n",
      "\u001b[0;31mValueError\u001b[0m: Unknown kernel 'graphlet'"
     ]
    }
   ],
   "source": [
    "from sklearn.metrics.pairwise import pairwise_kernels\n",
    "kernel = 'graphlet'\n",
    "K = pairwise_kernels(graphs, metric=kernel)\n",
    "\n",
    "# Cluster the graphs using spectral clustering\n",
    "n_clusters = 2\n",
    "spectral = SpectralClustering(n_clusters=n_clusters, affinity='precomputed')\n",
    "labels = spectral.fit_predict(K)\n",
    "\n",
    "print('Graph-level labels:', labels)"
   ]
  },
  {
   "cell_type": "code",
   "execution_count": 441,
   "id": "06e9ab71",
   "metadata": {},
   "outputs": [
    {
     "ename": "ModuleNotFoundError",
     "evalue": "No module named 'graphkernels'",
     "output_type": "error",
     "traceback": [
      "\u001b[0;31m---------------------------------------------------------------------------\u001b[0m",
      "\u001b[0;31mModuleNotFoundError\u001b[0m                       Traceback (most recent call last)",
      "Cell \u001b[0;32mIn[441], line 4\u001b[0m\n\u001b[1;32m      2\u001b[0m \u001b[38;5;28;01mfrom\u001b[39;00m \u001b[38;5;21;01msklearn\u001b[39;00m\u001b[38;5;21;01m.\u001b[39;00m\u001b[38;5;21;01mcluster\u001b[39;00m \u001b[38;5;28;01mimport\u001b[39;00m SpectralClustering\n\u001b[1;32m      3\u001b[0m \u001b[38;5;28;01mfrom\u001b[39;00m \u001b[38;5;21;01msklearn\u001b[39;00m\u001b[38;5;21;01m.\u001b[39;00m\u001b[38;5;21;01mmetrics\u001b[39;00m\u001b[38;5;21;01m.\u001b[39;00m\u001b[38;5;21;01mpairwise\u001b[39;00m \u001b[38;5;28;01mimport\u001b[39;00m pairwise_kernels\n\u001b[0;32m----> 4\u001b[0m \u001b[38;5;28;01mfrom\u001b[39;00m \u001b[38;5;21;01mgraphkernels\u001b[39;00m \u001b[38;5;28;01mimport\u001b[39;00m graphlet_sampling_kernel\n\u001b[1;32m      5\u001b[0m \u001b[38;5;28;01mfrom\u001b[39;00m \u001b[38;5;21;01migraph\u001b[39;00m \u001b[38;5;28;01mimport\u001b[39;00m Graph\n\u001b[1;32m      7\u001b[0m \u001b[38;5;66;03m# Define graphs\u001b[39;00m\n",
      "\u001b[0;31mModuleNotFoundError\u001b[0m: No module named 'graphkernels'"
     ]
    }
   ],
   "source": [
    "import numpy as np\n",
    "from sklearn.cluster import SpectralClustering\n",
    "from sklearn.metrics.pairwise import pairwise_kernels\n",
    "from graphkernels import graphlet_sampling_kernel\n",
    "from igraph import Graph\n",
    "\n",
    "# Define graphs\n",
    "graph1 = Graph.Erdos_Renyi(n=20, p=0.2)\n",
    "graph2 = Graph.Erdos_Renyi(n=30, p=0.1)\n",
    "graph3 = Graph.Erdos_Renyi(n=40, p=0.15)\n",
    "graph4 = Graph.Erdos_Renyi(n=50, p=0.05)\n",
    "\n",
    "# Convert graphs to adjacency matrices\n",
    "A1 = np.array(graph1.get_adjacency().data)\n",
    "A2 = np.array(graph2.get_adjacency().data)\n",
    "A3 = np.array(graph3.get_adjacency().data)\n",
    "A4 = np.array(graph4.get_adjacency().data)\n",
    "\n",
    "# Compute kernel matrix using graphlet sampling kernel\n",
    "K = pairwise_kernels([A1, A2, A3, A4], metric=graphlet_sampling_kernel)\n",
    "\n",
    "# Cluster the graphs using spectral clustering\n",
    "labels = SpectralClustering(n_clusters=2, affinity='precomputed').fit_predict(K)\n",
    "\n",
    "print(\"Graph-level labels:\", labels)\n"
   ]
  },
  {
   "cell_type": "code",
   "execution_count": 426,
   "id": "91c6e041",
   "metadata": {},
   "outputs": [
    {
     "name": "stderr",
     "output_type": "stream",
     "text": [
      "/var/folders/6n/nqjfbch10r79b7skvs3y_8ww0000gn/T/ipykernel_46738/1424513177.py:43: RuntimeWarning:\n",
      "\n",
      "divide by zero encountered in true_divide\n",
      "\n",
      "/var/folders/6n/nqjfbch10r79b7skvs3y_8ww0000gn/T/ipykernel_46738/1424513177.py:44: RuntimeWarning:\n",
      "\n",
      "invalid value encountered in matmul\n",
      "\n"
     ]
    },
    {
     "name": "stdout",
     "output_type": "stream",
     "text": [
      "[[1. 0. 0. ... 0. 0. 0.]\n",
      " [0. 1. 0. ... 0. 0. 0.]\n",
      " [0. 0. 1. ... 0. 0. 0.]\n",
      " ...\n",
      " [0. 0. 0. ... 1. 0. 0.]\n",
      " [0. 0. 0. ... 0. 1. 0.]\n",
      " [0. 0. 0. ... 0. 0. 1.]]\n",
      "[[1. 0. 0. ... 0. 0. 0.]\n",
      " [0. 1. 0. ... 0. 0. 0.]\n",
      " [0. 0. 1. ... 0. 0. 0.]\n",
      " ...\n",
      " [0. 0. 0. ... 1. 0. 0.]\n",
      " [0. 0. 0. ... 0. 1. 0.]\n",
      " [0. 0. 0. ... 0. 0. 1.]]\n",
      "[[ 1.          0.          0.         ...  0.          0.\n",
      "  -0.13608276]\n",
      " [ 0.          1.          0.         ...  0.          0.\n",
      "  -0.13608276]\n",
      " [ 0.          0.          1.         ...  0.         -0.12909944\n",
      "  -0.10540926]\n",
      " ...\n",
      " [ 0.          0.          0.         ...  1.          0.\n",
      "   0.        ]\n",
      " [ 0.          0.         -0.12909944 ...  0.          1.\n",
      "   0.        ]\n",
      " [-0.13608276 -0.13608276 -0.10540926 ...  0.          0.\n",
      "   1.        ]]\n",
      "[[1. 0. 0. ... 0. 0. 0.]\n",
      " [0. 1. 0. ... 0. 0. 0.]\n",
      " [0. 0. 1. ... 0. 0. 0.]\n",
      " ...\n",
      " [0. 0. 0. ... 1. 0. 0.]\n",
      " [0. 0. 0. ... 0. 1. 0.]\n",
      " [0. 0. 0. ... 0. 0. 1.]]\n"
     ]
    },
    {
     "ename": "ValueError",
     "evalue": "Input contains NaN, infinity or a value too large for dtype('float64').",
     "output_type": "error",
     "traceback": [
      "\u001b[0;31m---------------------------------------------------------------------------\u001b[0m",
      "\u001b[0;31mValueError\u001b[0m                                Traceback (most recent call last)",
      "Cell \u001b[0;32mIn[426], line 73\u001b[0m\n\u001b[1;32m     68\u001b[0m \u001b[38;5;66;03m#print('Graph similarity matrix:')\u001b[39;00m\n\u001b[1;32m     69\u001b[0m \u001b[38;5;66;03m#print(similarity_matrix)\u001b[39;00m\n\u001b[1;32m     70\u001b[0m \n\u001b[1;32m     71\u001b[0m \u001b[38;5;66;03m# cluster graphs\u001b[39;00m\n\u001b[1;32m     72\u001b[0m n_clusters_list \u001b[38;5;241m=\u001b[39m [\u001b[38;5;241m3\u001b[39m, \u001b[38;5;241m2\u001b[39m, \u001b[38;5;241m4\u001b[39m,\u001b[38;5;241m2\u001b[39m] \u001b[38;5;66;03m# number of clusters for each graph\u001b[39;00m\n\u001b[0;32m---> 73\u001b[0m graph_labels \u001b[38;5;241m=\u001b[39m \u001b[43mgraph_clustering\u001b[49m\u001b[43m(\u001b[49m\u001b[43mG_list\u001b[49m\u001b[43m,\u001b[49m\u001b[43m \u001b[49m\u001b[43mn_clusters_list\u001b[49m\u001b[43m)\u001b[49m\n\u001b[1;32m     75\u001b[0m \u001b[38;5;66;03m# print graph-level labels\u001b[39;00m\n\u001b[1;32m     76\u001b[0m \u001b[38;5;28mprint\u001b[39m(\u001b[38;5;124m'\u001b[39m\u001b[38;5;124mGraph-level labels:\u001b[39m\u001b[38;5;124m'\u001b[39m)\n",
      "Cell \u001b[0;32mIn[426], line 42\u001b[0m, in \u001b[0;36mgraph_clustering\u001b[0;34m(G_list, n_clusters_list)\u001b[0m\n\u001b[1;32m     39\u001b[0m X \u001b[38;5;241m=\u001b[39m np\u001b[38;5;241m.\u001b[39mvstack(L_list)\n\u001b[1;32m     41\u001b[0m \u001b[38;5;66;03m# compute pairwise distances between Laplacian matrices\u001b[39;00m\n\u001b[0;32m---> 42\u001b[0m D \u001b[38;5;241m=\u001b[39m \u001b[43mpairwise_distances\u001b[49m\u001b[43m(\u001b[49m\u001b[43mX\u001b[49m\u001b[43m,\u001b[49m\u001b[43m \u001b[49m\u001b[43mmetric\u001b[49m\u001b[38;5;241;43m=\u001b[39;49m\u001b[38;5;124;43m'\u001b[39;49m\u001b[38;5;124;43meuclidean\u001b[39;49m\u001b[38;5;124;43m'\u001b[39;49m\u001b[43m)\u001b[49m\n\u001b[1;32m     44\u001b[0m \u001b[38;5;66;03m# perform spectral clustering\u001b[39;00m\n\u001b[1;32m     45\u001b[0m labels \u001b[38;5;241m=\u001b[39m spectral_clustering(D, n_clusters\u001b[38;5;241m=\u001b[39mn_clusters_list)\n",
      "File \u001b[0;32m~/opt/anaconda3/lib/python3.8/site-packages/sklearn/metrics/pairwise.py:1889\u001b[0m, in \u001b[0;36mpairwise_distances\u001b[0;34m(X, Y, metric, n_jobs, force_all_finite, **kwds)\u001b[0m\n\u001b[1;32m   1886\u001b[0m         \u001b[38;5;28;01mreturn\u001b[39;00m distance\u001b[38;5;241m.\u001b[39msquareform(distance\u001b[38;5;241m.\u001b[39mpdist(X, metric\u001b[38;5;241m=\u001b[39mmetric, \u001b[38;5;241m*\u001b[39m\u001b[38;5;241m*\u001b[39mkwds))\n\u001b[1;32m   1887\u001b[0m     func \u001b[38;5;241m=\u001b[39m partial(distance\u001b[38;5;241m.\u001b[39mcdist, metric\u001b[38;5;241m=\u001b[39mmetric, \u001b[38;5;241m*\u001b[39m\u001b[38;5;241m*\u001b[39mkwds)\n\u001b[0;32m-> 1889\u001b[0m \u001b[38;5;28;01mreturn\u001b[39;00m \u001b[43m_parallel_pairwise\u001b[49m\u001b[43m(\u001b[49m\u001b[43mX\u001b[49m\u001b[43m,\u001b[49m\u001b[43m \u001b[49m\u001b[43mY\u001b[49m\u001b[43m,\u001b[49m\u001b[43m \u001b[49m\u001b[43mfunc\u001b[49m\u001b[43m,\u001b[49m\u001b[43m \u001b[49m\u001b[43mn_jobs\u001b[49m\u001b[43m,\u001b[49m\u001b[43m \u001b[49m\u001b[38;5;241;43m*\u001b[39;49m\u001b[38;5;241;43m*\u001b[39;49m\u001b[43mkwds\u001b[49m\u001b[43m)\u001b[49m\n",
      "File \u001b[0;32m~/opt/anaconda3/lib/python3.8/site-packages/sklearn/metrics/pairwise.py:1430\u001b[0m, in \u001b[0;36m_parallel_pairwise\u001b[0;34m(X, Y, func, n_jobs, **kwds)\u001b[0m\n\u001b[1;32m   1427\u001b[0m X, Y, dtype \u001b[38;5;241m=\u001b[39m _return_float_dtype(X, Y)\n\u001b[1;32m   1429\u001b[0m \u001b[38;5;28;01mif\u001b[39;00m effective_n_jobs(n_jobs) \u001b[38;5;241m==\u001b[39m \u001b[38;5;241m1\u001b[39m:\n\u001b[0;32m-> 1430\u001b[0m     \u001b[38;5;28;01mreturn\u001b[39;00m \u001b[43mfunc\u001b[49m\u001b[43m(\u001b[49m\u001b[43mX\u001b[49m\u001b[43m,\u001b[49m\u001b[43m \u001b[49m\u001b[43mY\u001b[49m\u001b[43m,\u001b[49m\u001b[43m \u001b[49m\u001b[38;5;241;43m*\u001b[39;49m\u001b[38;5;241;43m*\u001b[39;49m\u001b[43mkwds\u001b[49m\u001b[43m)\u001b[49m\n\u001b[1;32m   1432\u001b[0m \u001b[38;5;66;03m# enforce a threading backend to prevent data communication overhead\u001b[39;00m\n\u001b[1;32m   1433\u001b[0m fd \u001b[38;5;241m=\u001b[39m delayed(_dist_wrapper)\n",
      "File \u001b[0;32m~/opt/anaconda3/lib/python3.8/site-packages/sklearn/metrics/pairwise.py:302\u001b[0m, in \u001b[0;36meuclidean_distances\u001b[0;34m(X, Y, Y_norm_squared, squared, X_norm_squared)\u001b[0m\n\u001b[1;32m    226\u001b[0m \u001b[38;5;28;01mdef\u001b[39;00m \u001b[38;5;21meuclidean_distances\u001b[39m(\n\u001b[1;32m    227\u001b[0m     X, Y\u001b[38;5;241m=\u001b[39m\u001b[38;5;28;01mNone\u001b[39;00m, \u001b[38;5;241m*\u001b[39m, Y_norm_squared\u001b[38;5;241m=\u001b[39m\u001b[38;5;28;01mNone\u001b[39;00m, squared\u001b[38;5;241m=\u001b[39m\u001b[38;5;28;01mFalse\u001b[39;00m, X_norm_squared\u001b[38;5;241m=\u001b[39m\u001b[38;5;28;01mNone\u001b[39;00m\n\u001b[1;32m    228\u001b[0m ):\n\u001b[1;32m    229\u001b[0m     \u001b[38;5;124;03m\"\"\"\u001b[39;00m\n\u001b[1;32m    230\u001b[0m \u001b[38;5;124;03m    Compute the distance matrix between each pair from a vector array X and Y.\u001b[39;00m\n\u001b[1;32m    231\u001b[0m \n\u001b[0;32m   (...)\u001b[0m\n\u001b[1;32m    300\u001b[0m \u001b[38;5;124;03m           [1.41421356]])\u001b[39;00m\n\u001b[1;32m    301\u001b[0m \u001b[38;5;124;03m    \"\"\"\u001b[39;00m\n\u001b[0;32m--> 302\u001b[0m     X, Y \u001b[38;5;241m=\u001b[39m \u001b[43mcheck_pairwise_arrays\u001b[49m\u001b[43m(\u001b[49m\u001b[43mX\u001b[49m\u001b[43m,\u001b[49m\u001b[43m \u001b[49m\u001b[43mY\u001b[49m\u001b[43m)\u001b[49m\n\u001b[1;32m    304\u001b[0m     \u001b[38;5;28;01mif\u001b[39;00m X_norm_squared \u001b[38;5;129;01mis\u001b[39;00m \u001b[38;5;129;01mnot\u001b[39;00m \u001b[38;5;28;01mNone\u001b[39;00m:\n\u001b[1;32m    305\u001b[0m         X_norm_squared \u001b[38;5;241m=\u001b[39m check_array(X_norm_squared, ensure_2d\u001b[38;5;241m=\u001b[39m\u001b[38;5;28;01mFalse\u001b[39;00m)\n",
      "File \u001b[0;32m~/opt/anaconda3/lib/python3.8/site-packages/sklearn/metrics/pairwise.py:147\u001b[0m, in \u001b[0;36mcheck_pairwise_arrays\u001b[0;34m(X, Y, precomputed, dtype, accept_sparse, force_all_finite, copy)\u001b[0m\n\u001b[1;32m    144\u001b[0m     dtype \u001b[38;5;241m=\u001b[39m dtype_float\n\u001b[1;32m    146\u001b[0m \u001b[38;5;28;01mif\u001b[39;00m Y \u001b[38;5;129;01mis\u001b[39;00m X \u001b[38;5;129;01mor\u001b[39;00m Y \u001b[38;5;129;01mis\u001b[39;00m \u001b[38;5;28;01mNone\u001b[39;00m:\n\u001b[0;32m--> 147\u001b[0m     X \u001b[38;5;241m=\u001b[39m Y \u001b[38;5;241m=\u001b[39m \u001b[43mcheck_array\u001b[49m\u001b[43m(\u001b[49m\n\u001b[1;32m    148\u001b[0m \u001b[43m        \u001b[49m\u001b[43mX\u001b[49m\u001b[43m,\u001b[49m\n\u001b[1;32m    149\u001b[0m \u001b[43m        \u001b[49m\u001b[43maccept_sparse\u001b[49m\u001b[38;5;241;43m=\u001b[39;49m\u001b[43maccept_sparse\u001b[49m\u001b[43m,\u001b[49m\n\u001b[1;32m    150\u001b[0m \u001b[43m        \u001b[49m\u001b[43mdtype\u001b[49m\u001b[38;5;241;43m=\u001b[39;49m\u001b[43mdtype\u001b[49m\u001b[43m,\u001b[49m\n\u001b[1;32m    151\u001b[0m \u001b[43m        \u001b[49m\u001b[43mcopy\u001b[49m\u001b[38;5;241;43m=\u001b[39;49m\u001b[43mcopy\u001b[49m\u001b[43m,\u001b[49m\n\u001b[1;32m    152\u001b[0m \u001b[43m        \u001b[49m\u001b[43mforce_all_finite\u001b[49m\u001b[38;5;241;43m=\u001b[39;49m\u001b[43mforce_all_finite\u001b[49m\u001b[43m,\u001b[49m\n\u001b[1;32m    153\u001b[0m \u001b[43m        \u001b[49m\u001b[43mestimator\u001b[49m\u001b[38;5;241;43m=\u001b[39;49m\u001b[43mestimator\u001b[49m\u001b[43m,\u001b[49m\n\u001b[1;32m    154\u001b[0m \u001b[43m    \u001b[49m\u001b[43m)\u001b[49m\n\u001b[1;32m    155\u001b[0m \u001b[38;5;28;01melse\u001b[39;00m:\n\u001b[1;32m    156\u001b[0m     X \u001b[38;5;241m=\u001b[39m check_array(\n\u001b[1;32m    157\u001b[0m         X,\n\u001b[1;32m    158\u001b[0m         accept_sparse\u001b[38;5;241m=\u001b[39maccept_sparse,\n\u001b[0;32m   (...)\u001b[0m\n\u001b[1;32m    162\u001b[0m         estimator\u001b[38;5;241m=\u001b[39mestimator,\n\u001b[1;32m    163\u001b[0m     )\n",
      "File \u001b[0;32m~/opt/anaconda3/lib/python3.8/site-packages/sklearn/utils/validation.py:800\u001b[0m, in \u001b[0;36mcheck_array\u001b[0;34m(array, accept_sparse, accept_large_sparse, dtype, order, copy, force_all_finite, ensure_2d, allow_nd, ensure_min_samples, ensure_min_features, estimator)\u001b[0m\n\u001b[1;32m    794\u001b[0m         \u001b[38;5;28;01mraise\u001b[39;00m \u001b[38;5;167;01mValueError\u001b[39;00m(\n\u001b[1;32m    795\u001b[0m             \u001b[38;5;124m\"\u001b[39m\u001b[38;5;124mFound array with dim \u001b[39m\u001b[38;5;132;01m%d\u001b[39;00m\u001b[38;5;124m. \u001b[39m\u001b[38;5;132;01m%s\u001b[39;00m\u001b[38;5;124m expected <= 2.\u001b[39m\u001b[38;5;124m\"\u001b[39m\n\u001b[1;32m    796\u001b[0m             \u001b[38;5;241m%\u001b[39m (array\u001b[38;5;241m.\u001b[39mndim, estimator_name)\n\u001b[1;32m    797\u001b[0m         )\n\u001b[1;32m    799\u001b[0m     \u001b[38;5;28;01mif\u001b[39;00m force_all_finite:\n\u001b[0;32m--> 800\u001b[0m         \u001b[43m_assert_all_finite\u001b[49m\u001b[43m(\u001b[49m\u001b[43marray\u001b[49m\u001b[43m,\u001b[49m\u001b[43m \u001b[49m\u001b[43mallow_nan\u001b[49m\u001b[38;5;241;43m=\u001b[39;49m\u001b[43mforce_all_finite\u001b[49m\u001b[43m \u001b[49m\u001b[38;5;241;43m==\u001b[39;49m\u001b[43m \u001b[49m\u001b[38;5;124;43m\"\u001b[39;49m\u001b[38;5;124;43mallow-nan\u001b[39;49m\u001b[38;5;124;43m\"\u001b[39;49m\u001b[43m)\u001b[49m\n\u001b[1;32m    802\u001b[0m \u001b[38;5;28;01mif\u001b[39;00m ensure_min_samples \u001b[38;5;241m>\u001b[39m \u001b[38;5;241m0\u001b[39m:\n\u001b[1;32m    803\u001b[0m     n_samples \u001b[38;5;241m=\u001b[39m _num_samples(array)\n",
      "File \u001b[0;32m~/opt/anaconda3/lib/python3.8/site-packages/sklearn/utils/validation.py:114\u001b[0m, in \u001b[0;36m_assert_all_finite\u001b[0;34m(X, allow_nan, msg_dtype)\u001b[0m\n\u001b[1;32m    107\u001b[0m     \u001b[38;5;28;01mif\u001b[39;00m (\n\u001b[1;32m    108\u001b[0m         allow_nan\n\u001b[1;32m    109\u001b[0m         \u001b[38;5;129;01mand\u001b[39;00m np\u001b[38;5;241m.\u001b[39misinf(X)\u001b[38;5;241m.\u001b[39many()\n\u001b[1;32m    110\u001b[0m         \u001b[38;5;129;01mor\u001b[39;00m \u001b[38;5;129;01mnot\u001b[39;00m allow_nan\n\u001b[1;32m    111\u001b[0m         \u001b[38;5;129;01mand\u001b[39;00m \u001b[38;5;129;01mnot\u001b[39;00m np\u001b[38;5;241m.\u001b[39misfinite(X)\u001b[38;5;241m.\u001b[39mall()\n\u001b[1;32m    112\u001b[0m     ):\n\u001b[1;32m    113\u001b[0m         type_err \u001b[38;5;241m=\u001b[39m \u001b[38;5;124m\"\u001b[39m\u001b[38;5;124minfinity\u001b[39m\u001b[38;5;124m\"\u001b[39m \u001b[38;5;28;01mif\u001b[39;00m allow_nan \u001b[38;5;28;01melse\u001b[39;00m \u001b[38;5;124m\"\u001b[39m\u001b[38;5;124mNaN, infinity\u001b[39m\u001b[38;5;124m\"\u001b[39m\n\u001b[0;32m--> 114\u001b[0m         \u001b[38;5;28;01mraise\u001b[39;00m \u001b[38;5;167;01mValueError\u001b[39;00m(\n\u001b[1;32m    115\u001b[0m             msg_err\u001b[38;5;241m.\u001b[39mformat(\n\u001b[1;32m    116\u001b[0m                 type_err, msg_dtype \u001b[38;5;28;01mif\u001b[39;00m msg_dtype \u001b[38;5;129;01mis\u001b[39;00m \u001b[38;5;129;01mnot\u001b[39;00m \u001b[38;5;28;01mNone\u001b[39;00m \u001b[38;5;28;01melse\u001b[39;00m X\u001b[38;5;241m.\u001b[39mdtype\n\u001b[1;32m    117\u001b[0m             )\n\u001b[1;32m    118\u001b[0m         )\n\u001b[1;32m    119\u001b[0m \u001b[38;5;66;03m# for object dtype data, we only check for NaNs (GH-13254)\u001b[39;00m\n\u001b[1;32m    120\u001b[0m \u001b[38;5;28;01melif\u001b[39;00m X\u001b[38;5;241m.\u001b[39mdtype \u001b[38;5;241m==\u001b[39m np\u001b[38;5;241m.\u001b[39mdtype(\u001b[38;5;124m\"\u001b[39m\u001b[38;5;124mobject\u001b[39m\u001b[38;5;124m\"\u001b[39m) \u001b[38;5;129;01mand\u001b[39;00m \u001b[38;5;129;01mnot\u001b[39;00m allow_nan:\n",
      "\u001b[0;31mValueError\u001b[0m: Input contains NaN, infinity or a value too large for dtype('float64')."
     ]
    }
   ],
   "source": [
    "import networkx as nx\n",
    "import numpy as np\n",
    "from sklearn.cluster import spectral_clustering\n",
    "\n",
    "# define function to compute graph similarity using Laplacian matrix\n",
    "def graph_similarity(G1, G2):\n",
    "    L1 = normalized_laplacian_matrix(G1)\n",
    "    L2 = normalized_laplacian_matrix(G2)\n",
    "    n1, m1 = L1.shape\n",
    "    n2, m2 = L2.shape\n",
    "    \n",
    "    # pad the smaller Laplacian matrix with zeros\n",
    "    if n1 > n2:\n",
    "        L2 = np.pad(L2, ((0, n1-n2), (0, n1-n2)), 'constant')\n",
    "    elif n1 < n2:\n",
    "        L1 = np.pad(L1, ((0, n2-n1), (0, n2-n1)), 'constant')\n",
    "    \n",
    "    # compute Euclidean distance between Laplacian matrices\n",
    "    dist = np.linalg.norm(L1 - L2)\n",
    "    \n",
    "    # return similarity as exponential of negative distance\n",
    "    return np.exp(-dist)\n",
    "\n",
    "# define function to cluster graphs using spectral clustering\n",
    "def graph_clustering(G_list, n_clusters_list):\n",
    "    L_list = []\n",
    "    for G in G_list:\n",
    "        L = normalized_laplacian_matrix(G)\n",
    "        L_list.append(L)\n",
    "        print(L)\n",
    "    # stack Laplacian matrices vertically\n",
    "    max_cols = max(L.shape[1] for L in L_list)\n",
    "    for i in range(len(L_list)):\n",
    "        num_cols = L_list[i].shape[1]\n",
    "        if num_cols < max_cols:\n",
    "            pad_cols = max_cols - num_cols\n",
    "            L_list[i] = np.pad(L_list[i], ((0, 0), (0, pad_cols)), mode='constant')\n",
    "\n",
    "    X = np.vstack(L_list)\n",
    "    \n",
    "    # compute pairwise distances between Laplacian matrices\n",
    "    D = pairwise_distances(X, metric='euclidean')\n",
    "    \n",
    "    # perform spectral clustering\n",
    "    labels = spectral_clustering(D, n_clusters=n_clusters_list)\n",
    "    \n",
    "    # separate graph-level labels\n",
    "    graph_labels = []\n",
    "    i = 0\n",
    "    for G in G_list:\n",
    "        n = len(G.nodes)\n",
    "        graph_labels.append(labels[i:i+n])\n",
    "        i += n\n",
    "    \n",
    "    return graph_labels\n",
    "\n",
    "# create list of protein graphs with different sizes\n",
    "G_list = graphs\n",
    "#[nx.petersen_graph(), nx.bull_graph(), nx.star_graph(7)]\n",
    "\n",
    "# compute pairwise similarities between graphs\n",
    "similarity_matrix = np.zeros((len(G_list), len(G_list)))\n",
    "for i in range(len(G_list)):\n",
    "    for j in range(i+1, len(G_list)):\n",
    "        similarity_matrix[i,j] = graph_similarity(G_list[i], G_list[j])\n",
    "        similarity_matrix[j,i] = similarity_matrix[i,j]\n",
    "\n",
    "#print('Graph similarity matrix:')\n",
    "#print(similarity_matrix)\n",
    "\n",
    "# cluster graphs\n",
    "n_clusters_list = [3, 2, 4,2] # number of clusters for each graph\n",
    "graph_labels = graph_clustering(G_list, n_clusters_list)\n",
    "\n",
    "# print graph-level labels\n",
    "print('Graph-level labels:')\n",
    "for i, G in enumerate(G_list):\n",
    "    print(f'{G}: {graph_labels[i]}')\n"
   ]
  },
  {
   "cell_type": "code",
   "execution_count": 391,
   "id": "18b7e797",
   "metadata": {},
   "outputs": [
    {
     "name": "stdout",
     "output_type": "stream",
     "text": [
      "Graph-level labels: [0 0 0 0 0 1 0 0 0 1 0 0]\n"
     ]
    }
   ],
   "source": [
    "import numpy as np\n",
    "from sklearn.cluster import spectral_clustering\n",
    "\n",
    "# Define a function to compute the Laplacian matrix for a given adjacency matrix\n",
    "def laplacian_matrix(adjacency_matrix):\n",
    "    degree_matrix = np.diag(np.sum(adjacency_matrix, axis=1))\n",
    "    laplacian = degree_matrix - adjacency_matrix\n",
    "    return laplacian\n",
    "\n",
    "# Define the adjacency matrices for the 4 graphs\n",
    "A1 = np.array([[0, 1, 1, 0], [1, 0, 1, 0], [1, 1, 0, 1], [0, 0, 1, 0]])\n",
    "A2 = np.array([[0, 1, 1], [1, 0, 1], [1, 1, 0]])\n",
    "A3 = np.array([[0, 1], [1, 0]])\n",
    "A4 = np.array([[0, 1, 0], [1, 0, 1], [0, 1, 0]])\n",
    "\n",
    "# Compute the Laplacian matrices for the 4 graphs\n",
    "L1 = laplacian_matrix(A1)\n",
    "L2 = laplacian_matrix(A2)\n",
    "L3 = laplacian_matrix(A3)\n",
    "L4 = laplacian_matrix(A4)\n",
    "\n",
    "L_list = [L1,L2,L3,L4]\n",
    "max_cols = max(L.shape[1] for L in L_list)\n",
    "for i in range(len(L_list)):\n",
    "    num_cols = L_list[i].shape[1]\n",
    "    if num_cols < max_cols:\n",
    "        pad_cols = max_cols - num_cols\n",
    "        L_list[i] = np.pad(L_list[i], ((0, 0), (0, pad_cols)), mode='constant')\n",
    "\n",
    "\n",
    "# Stack Laplacian matrices vertically\n",
    "X = np.vstack((L_list[0],L_list[1],L_list[2],L_list[3]))\n",
    "\n",
    "# Compute the pairwise distances between the Laplacian matrices\n",
    "D = pairwise_distances(X, metric='euclidean')\n",
    "\n",
    "# Apply spectral clustering to obtain the graph-level labels\n",
    "n_clusters = 2\n",
    "labels = spectral_clustering(D, n_clusters=n_clusters, assign_labels='kmeans')\n",
    "\n",
    "# Print the labels for each graph\n",
    "print(\"Graph-level labels:\", labels)\n"
   ]
  },
  {
   "cell_type": "code",
   "execution_count": 428,
   "id": "968a4d16",
   "metadata": {},
   "outputs": [
    {
     "data": {
      "text/plain": [
       "446"
      ]
     },
     "execution_count": 428,
     "metadata": {},
     "output_type": "execute_result"
    }
   ],
   "source": [
    "k = 10\n",
    "\n",
    "# Compute the Laplacian matrix for each graph and compute the k smallest eigenvectors\n",
    "laplacians = []\n",
    "eigenvectors = []\n",
    "for graph in graphs:\n",
    "    adj = get_adj_matrix(graph)\n",
    " \n",
    "    laplacian = get_Laplacian_matrix(adj)\n",
    "    eigenvalues, eigenvects = np.linalg.eig(laplacian)\n",
    "    sorted_indices = np.argsort(eigenvalues)\n",
    "    k_eigenvects = eigenvects[:, sorted_indices[1:k+1]]\n",
    "    laplacians.append(laplacian)\n",
    "    eigenvectors.append(k_eigenvects)\n",
    "\n",
    "max_size = max([eigvec.shape[0] for eigvec in eigenvectors])\n",
    "padded_eigenvectors = []\n",
    "for eigvec in eigenvectors:\n",
    "    padded_eigvec = np.pad(eigvec, ((0, max_size-eigvec.shape[0]), (0, 0)), 'constant')\n",
    "    padded_eigenvectors.append(padded_eigvec)\n",
    "# Concatenate the eigenvectors into a single matrix\n",
    "\n",
    "concatenated_eigenvectors = np.concatenate(padded_eigenvectors, axis=1)\n",
    "# Cluster the rows of the concatenated eigenvectors using KMeans\n",
    "n_clusters = 4  # set the number of clusters you want to find\n",
    "kmeans = KMeans(n_clusters=n_clusters)\n",
    "labels = kmeans.fit_predict(concatenated_eigenvectors)\n",
    "labels"
   ]
  },
  {
   "cell_type": "code",
   "execution_count": 368,
   "id": "0bc6560b",
   "metadata": {},
   "outputs": [
    {
     "data": {
      "text/plain": [
       "4"
      ]
     },
     "execution_count": 368,
     "metadata": {},
     "output_type": "execute_result"
    }
   ],
   "source": [
    "len(eigenvectors)\n"
   ]
  },
  {
   "cell_type": "code",
   "execution_count": 419,
   "id": "0aba6058",
   "metadata": {},
   "outputs": [
    {
     "data": {
      "text/html": [
       "<pre style=\"white-space:pre;overflow-x:auto;line-height:normal;font-family:Menlo,'DejaVu Sans Mono',consolas,'Courier New',monospace\"></pre>\n"
      ],
      "text/plain": [
       "\u001b[?25l"
      ]
     },
     "metadata": {},
     "output_type": "display_data"
    },
    {
     "data": {
      "application/vnd.jupyter.widget-view+json": {
       "model_id": "",
       "version_major": 2,
       "version_minor": 0
      },
      "text/plain": [
       "Output()"
      ]
     },
     "metadata": {},
     "output_type": "display_data"
    },
    {
     "data": {
      "text/html": [
       "<pre style=\"white-space:pre;overflow-x:auto;line-height:normal;font-family:Menlo,'DejaVu Sans Mono',consolas,'Courier New',monospace\">\r",
       "\u001b[2K/Users/eth-may/opt/anaconda3/lib/python3.8/site-packages/biopandas/pdb/pandas_pdb.py:681: SettingWithCopyWarning:\n",
       "\n",
       "\n",
       "A value is trying to be set on a copy of a slice from a DataFrame.\n",
       "Try using .loc[row_indexer,col_indexer] = value instead\n",
       "\n",
       "See the caveats in the documentation: \n",
       "https://pandas.pydata.org/pandas-docs/stable/user_guide/indexing.html#returning-a-view-versus-a-copy\n",
       "\n",
       "Reading PDB file... <span style=\"color: #729c1f; text-decoration-color: #729c1f\">━━━━━━━━━━━━━━━━━━━━━━━━━━━━━━━━━━━━━━━━</span> <span style=\"color: #800080; text-decoration-color: #800080\">100%</span> <span style=\"color: #008080; text-decoration-color: #008080\">0:00:00</span></pre>\n"
      ],
      "text/plain": [
       "\r",
       "\u001b[2K/Users/eth-may/opt/anaconda3/lib/python3.8/site-packages/biopandas/pdb/pandas_pdb.py:681: SettingWithCopyWarning:\n",
       "\n",
       "\n",
       "A value is trying to be set on a copy of a slice from a DataFrame.\n",
       "Try using .loc[row_indexer,col_indexer] = value instead\n",
       "\n",
       "See the caveats in the documentation: \n",
       "https://pandas.pydata.org/pandas-docs/stable/user_guide/indexing.html#returning-a-view-versus-a-copy\n",
       "\n",
       "Reading PDB file... \u001b[38;2;114;156;31m━━━━━━━━━━━━━━━━━━━━━━━━━━━━━━━━━━━━━━━━\u001b[0m \u001b[35m100%\u001b[0m \u001b[36m0:00:00\u001b[0m"
      ]
     },
     "metadata": {},
     "output_type": "display_data"
    },
    {
     "data": {
      "text/html": [
       "<pre style=\"white-space:pre;overflow-x:auto;line-height:normal;font-family:Menlo,'DejaVu Sans Mono',consolas,'Courier New',monospace\">\n",
       "</pre>\n"
      ],
      "text/plain": [
       "\n",
       "\u001b[?25h\r",
       "\u001b[1A\u001b[2K\u001b[1A\u001b[2K\u001b[1A\u001b[2K\u001b[1A\u001b[2K"
      ]
     },
     "metadata": {},
     "output_type": "display_data"
    },
    {
     "data": {
      "text/html": [
       "<pre style=\"white-space:pre;overflow-x:auto;line-height:normal;font-family:Menlo,'DejaVu Sans Mono',consolas,'Courier New',monospace\"></pre>\n"
      ],
      "text/plain": [
       "\u001b[?25l"
      ]
     },
     "metadata": {},
     "output_type": "display_data"
    },
    {
     "data": {
      "application/vnd.jupyter.widget-view+json": {
       "model_id": "",
       "version_major": 2,
       "version_minor": 0
      },
      "text/plain": [
       "Output()"
      ]
     },
     "metadata": {},
     "output_type": "display_data"
    },
    {
     "data": {
      "text/html": [
       "<pre style=\"white-space:pre;overflow-x:auto;line-height:normal;font-family:Menlo,'DejaVu Sans Mono',consolas,'Courier New',monospace\">\r",
       "\u001b[2K/Users/eth-may/opt/anaconda3/lib/python3.8/site-packages/biopandas/pdb/pandas_pdb.py:681: SettingWithCopyWarning:\n",
       "\n",
       "\n",
       "A value is trying to be set on a copy of a slice from a DataFrame.\n",
       "Try using .loc[row_indexer,col_indexer] = value instead\n",
       "\n",
       "See the caveats in the documentation: \n",
       "https://pandas.pydata.org/pandas-docs/stable/user_guide/indexing.html#returning-a-view-versus-a-copy\n",
       "\n",
       "Reading PDB file... <span style=\"color: #729c1f; text-decoration-color: #729c1f\">━━━━━━━━━━━━━━━━━━━━━━━━━━━━━━━━━━━━━━━━</span> <span style=\"color: #800080; text-decoration-color: #800080\">100%</span> <span style=\"color: #008080; text-decoration-color: #008080\">0:00:00</span></pre>\n"
      ],
      "text/plain": [
       "\r",
       "\u001b[2K/Users/eth-may/opt/anaconda3/lib/python3.8/site-packages/biopandas/pdb/pandas_pdb.py:681: SettingWithCopyWarning:\n",
       "\n",
       "\n",
       "A value is trying to be set on a copy of a slice from a DataFrame.\n",
       "Try using .loc[row_indexer,col_indexer] = value instead\n",
       "\n",
       "See the caveats in the documentation: \n",
       "https://pandas.pydata.org/pandas-docs/stable/user_guide/indexing.html#returning-a-view-versus-a-copy\n",
       "\n",
       "Reading PDB file... \u001b[38;2;114;156;31m━━━━━━━━━━━━━━━━━━━━━━━━━━━━━━━━━━━━━━━━\u001b[0m \u001b[35m100%\u001b[0m \u001b[36m0:00:00\u001b[0m"
      ]
     },
     "metadata": {},
     "output_type": "display_data"
    },
    {
     "data": {
      "text/html": [
       "<pre style=\"white-space:pre;overflow-x:auto;line-height:normal;font-family:Menlo,'DejaVu Sans Mono',consolas,'Courier New',monospace\">\n",
       "</pre>\n"
      ],
      "text/plain": [
       "\n",
       "\u001b[?25h\r",
       "\u001b[1A\u001b[2K\u001b[1A\u001b[2K\u001b[1A\u001b[2K\u001b[1A\u001b[2K"
      ]
     },
     "metadata": {},
     "output_type": "display_data"
    },
    {
     "data": {
      "text/html": [
       "<pre style=\"white-space:pre;overflow-x:auto;line-height:normal;font-family:Menlo,'DejaVu Sans Mono',consolas,'Courier New',monospace\"></pre>\n"
      ],
      "text/plain": [
       "\u001b[?25l"
      ]
     },
     "metadata": {},
     "output_type": "display_data"
    },
    {
     "data": {
      "application/vnd.jupyter.widget-view+json": {
       "model_id": "",
       "version_major": 2,
       "version_minor": 0
      },
      "text/plain": [
       "Output()"
      ]
     },
     "metadata": {},
     "output_type": "display_data"
    },
    {
     "data": {
      "text/html": [
       "<pre style=\"white-space:pre;overflow-x:auto;line-height:normal;font-family:Menlo,'DejaVu Sans Mono',consolas,'Courier New',monospace\">\r",
       "\u001b[2K/Users/eth-may/opt/anaconda3/lib/python3.8/site-packages/biopandas/pdb/pandas_pdb.py:681: SettingWithCopyWarning:\n",
       "\n",
       "\n",
       "A value is trying to be set on a copy of a slice from a DataFrame.\n",
       "Try using .loc[row_indexer,col_indexer] = value instead\n",
       "\n",
       "See the caveats in the documentation: \n",
       "https://pandas.pydata.org/pandas-docs/stable/user_guide/indexing.html#returning-a-view-versus-a-copy\n",
       "\n",
       "Reading PDB file... <span style=\"color: #729c1f; text-decoration-color: #729c1f\">━━━━━━━━━━━━━━━━━━━━━━━━━━━━━━━━━━━━━━━━</span> <span style=\"color: #800080; text-decoration-color: #800080\">100%</span> <span style=\"color: #008080; text-decoration-color: #008080\">0:00:00</span></pre>\n"
      ],
      "text/plain": [
       "\r",
       "\u001b[2K/Users/eth-may/opt/anaconda3/lib/python3.8/site-packages/biopandas/pdb/pandas_pdb.py:681: SettingWithCopyWarning:\n",
       "\n",
       "\n",
       "A value is trying to be set on a copy of a slice from a DataFrame.\n",
       "Try using .loc[row_indexer,col_indexer] = value instead\n",
       "\n",
       "See the caveats in the documentation: \n",
       "https://pandas.pydata.org/pandas-docs/stable/user_guide/indexing.html#returning-a-view-versus-a-copy\n",
       "\n",
       "Reading PDB file... \u001b[38;2;114;156;31m━━━━━━━━━━━━━━━━━━━━━━━━━━━━━━━━━━━━━━━━\u001b[0m \u001b[35m100%\u001b[0m \u001b[36m0:00:00\u001b[0m"
      ]
     },
     "metadata": {},
     "output_type": "display_data"
    },
    {
     "data": {
      "text/html": [
       "<pre style=\"white-space:pre;overflow-x:auto;line-height:normal;font-family:Menlo,'DejaVu Sans Mono',consolas,'Courier New',monospace\">\n",
       "</pre>\n"
      ],
      "text/plain": [
       "\n",
       "\u001b[?25h\r",
       "\u001b[1A\u001b[2K\u001b[1A\u001b[2K\u001b[1A\u001b[2K\u001b[1A\u001b[2K"
      ]
     },
     "metadata": {},
     "output_type": "display_data"
    },
    {
     "data": {
      "text/html": [
       "<pre style=\"white-space:pre;overflow-x:auto;line-height:normal;font-family:Menlo,'DejaVu Sans Mono',consolas,'Courier New',monospace\"></pre>\n"
      ],
      "text/plain": [
       "\u001b[?25l"
      ]
     },
     "metadata": {},
     "output_type": "display_data"
    },
    {
     "data": {
      "application/vnd.jupyter.widget-view+json": {
       "model_id": "",
       "version_major": 2,
       "version_minor": 0
      },
      "text/plain": [
       "Output()"
      ]
     },
     "metadata": {},
     "output_type": "display_data"
    },
    {
     "data": {
      "text/html": [
       "<pre style=\"white-space:pre;overflow-x:auto;line-height:normal;font-family:Menlo,'DejaVu Sans Mono',consolas,'Courier New',monospace\">\r",
       "\u001b[2K/Users/eth-may/opt/anaconda3/lib/python3.8/site-packages/biopandas/pdb/pandas_pdb.py:681: SettingWithCopyWarning:\n",
       "\n",
       "\n",
       "A value is trying to be set on a copy of a slice from a DataFrame.\n",
       "Try using .loc[row_indexer,col_indexer] = value instead\n",
       "\n",
       "See the caveats in the documentation: \n",
       "https://pandas.pydata.org/pandas-docs/stable/user_guide/indexing.html#returning-a-view-versus-a-copy\n",
       "\n",
       "Reading PDB file... <span style=\"color: #729c1f; text-decoration-color: #729c1f\">━━━━━━━━━━━━━━━━━━━━━━━━━━━━━━━━━━━━━━━━</span> <span style=\"color: #800080; text-decoration-color: #800080\">100%</span> <span style=\"color: #008080; text-decoration-color: #008080\">0:00:00</span></pre>\n"
      ],
      "text/plain": [
       "\r",
       "\u001b[2K/Users/eth-may/opt/anaconda3/lib/python3.8/site-packages/biopandas/pdb/pandas_pdb.py:681: SettingWithCopyWarning:\n",
       "\n",
       "\n",
       "A value is trying to be set on a copy of a slice from a DataFrame.\n",
       "Try using .loc[row_indexer,col_indexer] = value instead\n",
       "\n",
       "See the caveats in the documentation: \n",
       "https://pandas.pydata.org/pandas-docs/stable/user_guide/indexing.html#returning-a-view-versus-a-copy\n",
       "\n",
       "Reading PDB file... \u001b[38;2;114;156;31m━━━━━━━━━━━━━━━━━━━━━━━━━━━━━━━━━━━━━━━━\u001b[0m \u001b[35m100%\u001b[0m \u001b[36m0:00:00\u001b[0m"
      ]
     },
     "metadata": {},
     "output_type": "display_data"
    },
    {
     "data": {
      "text/html": [
       "<pre style=\"white-space:pre;overflow-x:auto;line-height:normal;font-family:Menlo,'DejaVu Sans Mono',consolas,'Courier New',monospace\">\n",
       "</pre>\n"
      ],
      "text/plain": [
       "\n",
       "\u001b[?25h\r",
       "\u001b[1A\u001b[2K\u001b[1A\u001b[2K\u001b[1A\u001b[2K\u001b[1A\u001b[2K"
      ]
     },
     "metadata": {},
     "output_type": "display_data"
    },
    {
     "data": {
      "text/plain": [
       "-0.8844167295249322"
      ]
     },
     "execution_count": 419,
     "metadata": {},
     "output_type": "execute_result"
    }
   ],
   "source": [
    "from networkx.generators.directed import gnr_graph\n",
    "from networkx.generators import spectral_graph_forge\n",
    "from similarity_index_of_label_graph_package import similarity_index_of_label_graph_class\n",
    "G1,G2,G3,G4=sub_graph(edge_funcs[2])\n",
    "graphs=[G1,G2,G3,G4]\n",
    "similarity_index_of_label_graph = similarity_index_of_label_graph_class()\n",
    "similarity_index_of_label_graph(G1, G4)"
   ]
  },
  {
   "cell_type": "code",
   "execution_count": 424,
   "id": "10432bb0",
   "metadata": {},
   "outputs": [
    {
     "data": {
      "text/plain": [
       "-0.8730569188390245"
      ]
     },
     "execution_count": 424,
     "metadata": {},
     "output_type": "execute_result"
    }
   ],
   "source": [
    "similarity_index_of_label_graph(G1, G3)"
   ]
  },
  {
   "cell_type": "code",
   "execution_count": 431,
   "id": "43b1be15",
   "metadata": {},
   "outputs": [
    {
     "ename": "ValueError",
     "evalue": "numpy.ndarray size changed, may indicate binary incompatibility. Expected 96 from C header, got 88 from PyObject",
     "output_type": "error",
     "traceback": [
      "\u001b[0;31m---------------------------------------------------------------------------\u001b[0m",
      "\u001b[0;31mValueError\u001b[0m                                Traceback (most recent call last)",
      "Cell \u001b[0;32mIn[431], line 4\u001b[0m\n\u001b[1;32m      2\u001b[0m \u001b[38;5;28;01mfrom\u001b[39;00m \u001b[38;5;21;01msklearn\u001b[39;00m\u001b[38;5;21;01m.\u001b[39;00m\u001b[38;5;21;01mdatasets\u001b[39;00m \u001b[38;5;28;01mimport\u001b[39;00m make_moons\n\u001b[1;32m      3\u001b[0m \u001b[38;5;28;01mfrom\u001b[39;00m \u001b[38;5;21;01msklearn\u001b[39;00m\u001b[38;5;21;01m.\u001b[39;00m\u001b[38;5;21;01mmetrics\u001b[39;00m \u001b[38;5;28;01mimport\u001b[39;00m pairwise_distances\n\u001b[0;32m----> 4\u001b[0m \u001b[38;5;28;01mfrom\u001b[39;00m \u001b[38;5;21;01mgrakel\u001b[39;00m \u001b[38;5;28;01mimport\u001b[39;00m GraphKernel\n\u001b[1;32m      6\u001b[0m \u001b[38;5;66;03m# Generate two example graphs\u001b[39;00m\n\u001b[1;32m      7\u001b[0m X1, y1 \u001b[38;5;241m=\u001b[39m make_moons(n_samples\u001b[38;5;241m=\u001b[39m\u001b[38;5;241m50\u001b[39m, noise\u001b[38;5;241m=\u001b[39m\u001b[38;5;241m0.05\u001b[39m)\n",
      "File \u001b[0;32m~/opt/anaconda3/lib/python3.8/site-packages/grakel/__init__.py:6\u001b[0m\n\u001b[1;32m      2\u001b[0m \u001b[38;5;28;01mfrom\u001b[39;00m \u001b[38;5;21;01mgrakel\u001b[39;00m \u001b[38;5;28;01mimport\u001b[39;00m datasets\n\u001b[1;32m      4\u001b[0m \u001b[38;5;28;01mfrom\u001b[39;00m \u001b[38;5;21;01mgrakel\u001b[39;00m\u001b[38;5;21;01m.\u001b[39;00m\u001b[38;5;21;01mgraph\u001b[39;00m \u001b[38;5;28;01mimport\u001b[39;00m Graph\n\u001b[0;32m----> 6\u001b[0m \u001b[38;5;28;01mfrom\u001b[39;00m \u001b[38;5;21;01mgrakel\u001b[39;00m\u001b[38;5;21;01m.\u001b[39;00m\u001b[38;5;21;01mgraph_kernels\u001b[39;00m \u001b[38;5;28;01mimport\u001b[39;00m GraphKernel\n\u001b[1;32m      9\u001b[0m \u001b[38;5;28;01mfrom\u001b[39;00m \u001b[38;5;21;01mgrakel\u001b[39;00m\u001b[38;5;21;01m.\u001b[39;00m\u001b[38;5;21;01mkernels\u001b[39;00m \u001b[38;5;28;01mimport\u001b[39;00m Kernel\n\u001b[1;32m     11\u001b[0m \u001b[38;5;28;01mfrom\u001b[39;00m \u001b[38;5;21;01mgrakel\u001b[39;00m\u001b[38;5;21;01m.\u001b[39;00m\u001b[38;5;21;01mkernels\u001b[39;00m \u001b[38;5;28;01mimport\u001b[39;00m GraphletSampling\n",
      "File \u001b[0;32m~/opt/anaconda3/lib/python3.8/site-packages/grakel/graph_kernels.py:13\u001b[0m\n\u001b[1;32m     10\u001b[0m \u001b[38;5;28;01mfrom\u001b[39;00m \u001b[38;5;21;01msklearn\u001b[39;00m\u001b[38;5;21;01m.\u001b[39;00m\u001b[38;5;21;01mutils\u001b[39;00m \u001b[38;5;28;01mimport\u001b[39;00m check_random_state\n\u001b[1;32m     11\u001b[0m \u001b[38;5;28;01mfrom\u001b[39;00m \u001b[38;5;21;01msklearn\u001b[39;00m\u001b[38;5;21;01m.\u001b[39;00m\u001b[38;5;21;01mutils\u001b[39;00m\u001b[38;5;21;01m.\u001b[39;00m\u001b[38;5;21;01mvalidation\u001b[39;00m \u001b[38;5;28;01mimport\u001b[39;00m check_is_fitted\n\u001b[0;32m---> 13\u001b[0m \u001b[38;5;28;01mfrom\u001b[39;00m \u001b[38;5;21;01mgrakel\u001b[39;00m\u001b[38;5;21;01m.\u001b[39;00m\u001b[38;5;21;01mkernels\u001b[39;00m \u001b[38;5;28;01mimport\u001b[39;00m GraphletSampling\n\u001b[1;32m     14\u001b[0m \u001b[38;5;28;01mfrom\u001b[39;00m \u001b[38;5;21;01mgrakel\u001b[39;00m\u001b[38;5;21;01m.\u001b[39;00m\u001b[38;5;21;01mkernels\u001b[39;00m \u001b[38;5;28;01mimport\u001b[39;00m RandomWalk\n\u001b[1;32m     15\u001b[0m \u001b[38;5;28;01mfrom\u001b[39;00m \u001b[38;5;21;01mgrakel\u001b[39;00m\u001b[38;5;21;01m.\u001b[39;00m\u001b[38;5;21;01mkernels\u001b[39;00m \u001b[38;5;28;01mimport\u001b[39;00m RandomWalkLabeled\n",
      "File \u001b[0;32m~/opt/anaconda3/lib/python3.8/site-packages/grakel/kernels/__init__.py:4\u001b[0m\n\u001b[1;32m      1\u001b[0m \u001b[38;5;124;03m\"\"\"__init__ file for kernel sub-module of grakel.\"\"\"\u001b[39;00m\n\u001b[1;32m      2\u001b[0m \u001b[38;5;66;03m# Author: Ioannis Siglidis <y.siglidis@gmail.com>\u001b[39;00m\n\u001b[1;32m      3\u001b[0m \u001b[38;5;66;03m# License: BSD 3 clause\u001b[39;00m\n\u001b[0;32m----> 4\u001b[0m \u001b[38;5;28;01mfrom\u001b[39;00m \u001b[38;5;21;01mgrakel\u001b[39;00m\u001b[38;5;21;01m.\u001b[39;00m\u001b[38;5;21;01mkernels\u001b[39;00m\u001b[38;5;21;01m.\u001b[39;00m\u001b[38;5;21;01mkernel\u001b[39;00m \u001b[38;5;28;01mimport\u001b[39;00m Kernel\n\u001b[1;32m      6\u001b[0m \u001b[38;5;28;01mfrom\u001b[39;00m \u001b[38;5;21;01mgrakel\u001b[39;00m\u001b[38;5;21;01m.\u001b[39;00m\u001b[38;5;21;01mkernels\u001b[39;00m\u001b[38;5;21;01m.\u001b[39;00m\u001b[38;5;21;01mgraphlet_sampling\u001b[39;00m \u001b[38;5;28;01mimport\u001b[39;00m GraphletSampling\n\u001b[1;32m      7\u001b[0m \u001b[38;5;28;01mfrom\u001b[39;00m \u001b[38;5;21;01mgrakel\u001b[39;00m\u001b[38;5;21;01m.\u001b[39;00m\u001b[38;5;21;01mkernels\u001b[39;00m\u001b[38;5;21;01m.\u001b[39;00m\u001b[38;5;21;01mrandom_walk\u001b[39;00m \u001b[38;5;28;01mimport\u001b[39;00m RandomWalk\n",
      "File \u001b[0;32m~/opt/anaconda3/lib/python3.8/site-packages/grakel/kernels/kernel.py:17\u001b[0m\n\u001b[1;32m     14\u001b[0m \u001b[38;5;28;01mfrom\u001b[39;00m \u001b[38;5;21;01msklearn\u001b[39;00m\u001b[38;5;21;01m.\u001b[39;00m\u001b[38;5;21;01mutils\u001b[39;00m\u001b[38;5;21;01m.\u001b[39;00m\u001b[38;5;21;01mvalidation\u001b[39;00m \u001b[38;5;28;01mimport\u001b[39;00m check_is_fitted\n\u001b[1;32m     16\u001b[0m \u001b[38;5;28;01mfrom\u001b[39;00m \u001b[38;5;21;01mgrakel\u001b[39;00m\u001b[38;5;21;01m.\u001b[39;00m\u001b[38;5;21;01mgraph\u001b[39;00m \u001b[38;5;28;01mimport\u001b[39;00m Graph\n\u001b[0;32m---> 17\u001b[0m \u001b[38;5;28;01mfrom\u001b[39;00m \u001b[38;5;21;01mgrakel\u001b[39;00m\u001b[38;5;21;01m.\u001b[39;00m\u001b[38;5;21;01mkernels\u001b[39;00m\u001b[38;5;21;01m.\u001b[39;00m\u001b[38;5;21;01m_c_functions\u001b[39;00m \u001b[38;5;28;01mimport\u001b[39;00m k_to_ij_triangular\n\u001b[1;32m     18\u001b[0m \u001b[38;5;28;01mfrom\u001b[39;00m \u001b[38;5;21;01mgrakel\u001b[39;00m\u001b[38;5;21;01m.\u001b[39;00m\u001b[38;5;21;01mkernels\u001b[39;00m\u001b[38;5;21;01m.\u001b[39;00m\u001b[38;5;21;01m_c_functions\u001b[39;00m \u001b[38;5;28;01mimport\u001b[39;00m k_to_ij_rectangular\n\u001b[1;32m     20\u001b[0m \u001b[38;5;66;03m# Python 2/3 cross-compatibility import\u001b[39;00m\n",
      "File \u001b[0;32m~/opt/anaconda3/lib/python3.8/site-packages/grakel/kernels/_c_functions/functions.pyx:1\u001b[0m, in \u001b[0;36minit grakel.kernels._c_functions\u001b[0;34m()\u001b[0m\n",
      "\u001b[0;31mValueError\u001b[0m: numpy.ndarray size changed, may indicate binary incompatibility. Expected 96 from C header, got 88 from PyObject"
     ]
    }
   ],
   "source": [
    "import numpy as np\n",
    "from sklearn.datasets import make_moons\n",
    "from sklearn.metrics import pairwise_distances\n",
    "from grakel import GraphKernel\n",
    "\n",
    "# Generate two example graphs\n",
    "X1, y1 = make_moons(n_samples=50, noise=0.05)\n",
    "X2, y2 = make_moons(n_samples=100, noise=0.1)\n",
    "\n",
    "# Compute pairwise distances between the graphs using the Laplacian kernel\n",
    "D1 = pairwise_distances(X1)\n",
    "D2 = pairwise_distances(X2)\n",
    "lap_kernel = GraphKernel(kernel=\"Laplacian\")\n",
    "K1 = lap_kernel.fit_transform(D1)\n",
    "K2 = lap_kernel.fit_transform(D2)\n",
    "\n",
    "# Compute similarity between the graphs using the graphlet kernel\n",
    "gk_kernel = GraphKernel(kernel=\"graphlet\")\n",
    "similarity = gk_kernel.fit_transform([K1, K2])\n",
    "\n",
    "print(\"Graph similarity:\", similarity)\n"
   ]
  },
  {
   "cell_type": "code",
   "execution_count": 432,
   "id": "35bdb424",
   "metadata": {},
   "outputs": [
    {
     "ename": "AttributeError",
     "evalue": "module 'scipy.sparse' has no attribute 'coo_array'",
     "output_type": "error",
     "traceback": [
      "\u001b[0;31m---------------------------------------------------------------------------\u001b[0m",
      "\u001b[0;31mAttributeError\u001b[0m                            Traceback (most recent call last)",
      "Cell \u001b[0;32mIn[432], line 15\u001b[0m\n\u001b[1;32m     12\u001b[0m G4 \u001b[38;5;241m=\u001b[39m nx\u001b[38;5;241m.\u001b[39mpath_graph(\u001b[38;5;241m10\u001b[39m)\n\u001b[1;32m     14\u001b[0m \u001b[38;5;66;03m# Compute the Laplacian matrix for each graph\u001b[39;00m\n\u001b[0;32m---> 15\u001b[0m L1 \u001b[38;5;241m=\u001b[39m \u001b[43mlaplacian_matrix\u001b[49m\u001b[43m(\u001b[49m\u001b[43mG1\u001b[49m\u001b[43m)\u001b[49m\u001b[38;5;241m.\u001b[39mtoarray()\n\u001b[1;32m     16\u001b[0m L2 \u001b[38;5;241m=\u001b[39m laplacian_matrix(G2)\u001b[38;5;241m.\u001b[39mtoarray()\n\u001b[1;32m     17\u001b[0m L3 \u001b[38;5;241m=\u001b[39m laplacian_matrix(G3)\u001b[38;5;241m.\u001b[39mtoarray()\n",
      "File \u001b[0;32m<class 'networkx.utils.decorators.argmap'> compilation 24:4\u001b[0m, in \u001b[0;36margmap_laplacian_matrix_21\u001b[0;34m(G, nodelist, weight)\u001b[0m\n\u001b[1;32m      2\u001b[0m \u001b[38;5;28;01mimport\u001b[39;00m \u001b[38;5;21;01mcollections\u001b[39;00m\n\u001b[1;32m      3\u001b[0m \u001b[38;5;28;01mimport\u001b[39;00m \u001b[38;5;21;01mgzip\u001b[39;00m\n\u001b[0;32m----> 4\u001b[0m \u001b[38;5;28;01mimport\u001b[39;00m \u001b[38;5;21;01minspect\u001b[39;00m\n\u001b[1;32m      5\u001b[0m \u001b[38;5;28;01mimport\u001b[39;00m \u001b[38;5;21;01mitertools\u001b[39;00m\n\u001b[1;32m      6\u001b[0m \u001b[38;5;28;01mimport\u001b[39;00m \u001b[38;5;21;01mre\u001b[39;00m\n",
      "File \u001b[0;32m~/opt/anaconda3/lib/python3.8/site-packages/networkx/linalg/laplacianmatrix.py:55\u001b[0m, in \u001b[0;36mlaplacian_matrix\u001b[0;34m(G, nodelist, weight)\u001b[0m\n\u001b[1;32m     53\u001b[0m \u001b[38;5;28;01mif\u001b[39;00m nodelist \u001b[38;5;129;01mis\u001b[39;00m \u001b[38;5;28;01mNone\u001b[39;00m:\n\u001b[1;32m     54\u001b[0m     nodelist \u001b[38;5;241m=\u001b[39m \u001b[38;5;28mlist\u001b[39m(G)\n\u001b[0;32m---> 55\u001b[0m A \u001b[38;5;241m=\u001b[39m \u001b[43mnx\u001b[49m\u001b[38;5;241;43m.\u001b[39;49m\u001b[43mto_scipy_sparse_array\u001b[49m\u001b[43m(\u001b[49m\u001b[43mG\u001b[49m\u001b[43m,\u001b[49m\u001b[43m \u001b[49m\u001b[43mnodelist\u001b[49m\u001b[38;5;241;43m=\u001b[39;49m\u001b[43mnodelist\u001b[49m\u001b[43m,\u001b[49m\u001b[43m \u001b[49m\u001b[43mweight\u001b[49m\u001b[38;5;241;43m=\u001b[39;49m\u001b[43mweight\u001b[49m\u001b[43m,\u001b[49m\u001b[43m \u001b[49m\u001b[38;5;28;43mformat\u001b[39;49m\u001b[38;5;241;43m=\u001b[39;49m\u001b[38;5;124;43m\"\u001b[39;49m\u001b[38;5;124;43mcsr\u001b[39;49m\u001b[38;5;124;43m\"\u001b[39;49m\u001b[43m)\u001b[49m\n\u001b[1;32m     56\u001b[0m n, m \u001b[38;5;241m=\u001b[39m A\u001b[38;5;241m.\u001b[39mshape\n\u001b[1;32m     57\u001b[0m \u001b[38;5;66;03m# TODO: rm csr_array wrapper when spdiags can produce arrays\u001b[39;00m\n",
      "File \u001b[0;32m~/opt/anaconda3/lib/python3.8/site-packages/networkx/convert_matrix.py:923\u001b[0m, in \u001b[0;36mto_scipy_sparse_array\u001b[0;34m(G, nodelist, dtype, weight, format)\u001b[0m\n\u001b[1;32m    921\u001b[0m         r \u001b[38;5;241m+\u001b[39m\u001b[38;5;241m=\u001b[39m diag_index\n\u001b[1;32m    922\u001b[0m         c \u001b[38;5;241m+\u001b[39m\u001b[38;5;241m=\u001b[39m diag_index\n\u001b[0;32m--> 923\u001b[0m     A \u001b[38;5;241m=\u001b[39m \u001b[43msp\u001b[49m\u001b[38;5;241;43m.\u001b[39;49m\u001b[43msparse\u001b[49m\u001b[38;5;241;43m.\u001b[39;49m\u001b[43mcoo_array\u001b[49m((d, (r, c)), shape\u001b[38;5;241m=\u001b[39m(nlen, nlen), dtype\u001b[38;5;241m=\u001b[39mdtype)\n\u001b[1;32m    924\u001b[0m \u001b[38;5;28;01mtry\u001b[39;00m:\n\u001b[1;32m    925\u001b[0m     \u001b[38;5;28;01mreturn\u001b[39;00m A\u001b[38;5;241m.\u001b[39masformat(\u001b[38;5;28mformat\u001b[39m)\n",
      "\u001b[0;31mAttributeError\u001b[0m: module 'scipy.sparse' has no attribute 'coo_array'"
     ]
    }
   ],
   "source": [
    "import numpy as np\n",
    "from sklearn.cluster import SpectralClustering\n",
    "from sklearn.metrics import pairwise_distances\n",
    "from sklearn.manifold import spectral_embedding\n",
    "from networkx.linalg.laplacianmatrix import laplacian_matrix\n",
    "import networkx as nx\n",
    "\n",
    "# Load the graphs\n",
    "G1 = nx.karate_club_graph()\n",
    "G2 = nx.erdos_renyi_graph(20, 0.5)\n",
    "G3 = nx.grid_2d_graph(5, 5)\n",
    "G4 = nx.path_graph(10)\n",
    "\n",
    "# Compute the Laplacian matrix for each graph\n",
    "L1 = laplacian_matrix(G1).toarray()\n",
    "L2 = laplacian_matrix(G2).toarray()\n",
    "L3 = laplacian_matrix(G3).toarray()\n",
    "L4 = laplacian_matrix(G4).toarray()\n",
    "\n",
    "# Apply spectral embedding to each Laplacian matrix\n",
    "n_components = 3\n",
    "embedding1 = spectral_embedding(L1, n_components=n_components)\n",
    "embedding2 = spectral_embedding(L2, n_components=n_components)\n",
    "embedding3 = spectral_embedding(L3, n_components=n_components)\n",
    "embedding4 = spectral_embedding(L4, n_components=n_components)\n",
    "\n",
    "# Compute pairwise distances between graph representations\n",
    "X = np.vstack([embedding1, embedding2, embedding3, embedding4])\n",
    "D = pairwise_distances(X, metric='euclidean')\n",
    "\n",
    "# Cluster the graphs using spectral clustering\n",
    "n_clusters = 2\n",
    "spectral = SpectralClustering(n_clusters=n_clusters, affinity='precomputed')\n",
    "labels = spectral.fit_predict(D)\n",
    "\n",
    "print('Graph-level labels:', labels)\n"
   ]
  },
  {
   "cell_type": "code",
   "execution_count": 442,
   "id": "dea27370",
   "metadata": {},
   "outputs": [
    {
     "ename": "ValueError",
     "evalue": "numpy.ndarray size changed, may indicate binary incompatibility. Expected 96 from C header, got 88 from PyObject",
     "output_type": "error",
     "traceback": [
      "\u001b[0;31m---------------------------------------------------------------------------\u001b[0m",
      "\u001b[0;31mValueError\u001b[0m                                Traceback (most recent call last)",
      "Cell \u001b[0;32mIn[442], line 1\u001b[0m\n\u001b[0;32m----> 1\u001b[0m \u001b[38;5;28;01mfrom\u001b[39;00m \u001b[38;5;21;01mgrakel\u001b[39;00m\u001b[38;5;21;01m.\u001b[39;00m\u001b[38;5;21;01mkernels\u001b[39;00m \u001b[38;5;28;01mimport\u001b[39;00m GraphletSampling\n",
      "File \u001b[0;32m~/opt/anaconda3/lib/python3.8/site-packages/grakel/__init__.py:6\u001b[0m\n\u001b[1;32m      2\u001b[0m \u001b[38;5;28;01mfrom\u001b[39;00m \u001b[38;5;21;01mgrakel\u001b[39;00m \u001b[38;5;28;01mimport\u001b[39;00m datasets\n\u001b[1;32m      4\u001b[0m \u001b[38;5;28;01mfrom\u001b[39;00m \u001b[38;5;21;01mgrakel\u001b[39;00m\u001b[38;5;21;01m.\u001b[39;00m\u001b[38;5;21;01mgraph\u001b[39;00m \u001b[38;5;28;01mimport\u001b[39;00m Graph\n\u001b[0;32m----> 6\u001b[0m \u001b[38;5;28;01mfrom\u001b[39;00m \u001b[38;5;21;01mgrakel\u001b[39;00m\u001b[38;5;21;01m.\u001b[39;00m\u001b[38;5;21;01mgraph_kernels\u001b[39;00m \u001b[38;5;28;01mimport\u001b[39;00m GraphKernel\n\u001b[1;32m      9\u001b[0m \u001b[38;5;28;01mfrom\u001b[39;00m \u001b[38;5;21;01mgrakel\u001b[39;00m\u001b[38;5;21;01m.\u001b[39;00m\u001b[38;5;21;01mkernels\u001b[39;00m \u001b[38;5;28;01mimport\u001b[39;00m Kernel\n\u001b[1;32m     11\u001b[0m \u001b[38;5;28;01mfrom\u001b[39;00m \u001b[38;5;21;01mgrakel\u001b[39;00m\u001b[38;5;21;01m.\u001b[39;00m\u001b[38;5;21;01mkernels\u001b[39;00m \u001b[38;5;28;01mimport\u001b[39;00m GraphletSampling\n",
      "File \u001b[0;32m~/opt/anaconda3/lib/python3.8/site-packages/grakel/graph_kernels.py:13\u001b[0m\n\u001b[1;32m     10\u001b[0m \u001b[38;5;28;01mfrom\u001b[39;00m \u001b[38;5;21;01msklearn\u001b[39;00m\u001b[38;5;21;01m.\u001b[39;00m\u001b[38;5;21;01mutils\u001b[39;00m \u001b[38;5;28;01mimport\u001b[39;00m check_random_state\n\u001b[1;32m     11\u001b[0m \u001b[38;5;28;01mfrom\u001b[39;00m \u001b[38;5;21;01msklearn\u001b[39;00m\u001b[38;5;21;01m.\u001b[39;00m\u001b[38;5;21;01mutils\u001b[39;00m\u001b[38;5;21;01m.\u001b[39;00m\u001b[38;5;21;01mvalidation\u001b[39;00m \u001b[38;5;28;01mimport\u001b[39;00m check_is_fitted\n\u001b[0;32m---> 13\u001b[0m \u001b[38;5;28;01mfrom\u001b[39;00m \u001b[38;5;21;01mgrakel\u001b[39;00m\u001b[38;5;21;01m.\u001b[39;00m\u001b[38;5;21;01mkernels\u001b[39;00m \u001b[38;5;28;01mimport\u001b[39;00m GraphletSampling\n\u001b[1;32m     14\u001b[0m \u001b[38;5;28;01mfrom\u001b[39;00m \u001b[38;5;21;01mgrakel\u001b[39;00m\u001b[38;5;21;01m.\u001b[39;00m\u001b[38;5;21;01mkernels\u001b[39;00m \u001b[38;5;28;01mimport\u001b[39;00m RandomWalk\n\u001b[1;32m     15\u001b[0m \u001b[38;5;28;01mfrom\u001b[39;00m \u001b[38;5;21;01mgrakel\u001b[39;00m\u001b[38;5;21;01m.\u001b[39;00m\u001b[38;5;21;01mkernels\u001b[39;00m \u001b[38;5;28;01mimport\u001b[39;00m RandomWalkLabeled\n",
      "File \u001b[0;32m~/opt/anaconda3/lib/python3.8/site-packages/grakel/kernels/__init__.py:4\u001b[0m\n\u001b[1;32m      1\u001b[0m \u001b[38;5;124;03m\"\"\"__init__ file for kernel sub-module of grakel.\"\"\"\u001b[39;00m\n\u001b[1;32m      2\u001b[0m \u001b[38;5;66;03m# Author: Ioannis Siglidis <y.siglidis@gmail.com>\u001b[39;00m\n\u001b[1;32m      3\u001b[0m \u001b[38;5;66;03m# License: BSD 3 clause\u001b[39;00m\n\u001b[0;32m----> 4\u001b[0m \u001b[38;5;28;01mfrom\u001b[39;00m \u001b[38;5;21;01mgrakel\u001b[39;00m\u001b[38;5;21;01m.\u001b[39;00m\u001b[38;5;21;01mkernels\u001b[39;00m\u001b[38;5;21;01m.\u001b[39;00m\u001b[38;5;21;01mkernel\u001b[39;00m \u001b[38;5;28;01mimport\u001b[39;00m Kernel\n\u001b[1;32m      6\u001b[0m \u001b[38;5;28;01mfrom\u001b[39;00m \u001b[38;5;21;01mgrakel\u001b[39;00m\u001b[38;5;21;01m.\u001b[39;00m\u001b[38;5;21;01mkernels\u001b[39;00m\u001b[38;5;21;01m.\u001b[39;00m\u001b[38;5;21;01mgraphlet_sampling\u001b[39;00m \u001b[38;5;28;01mimport\u001b[39;00m GraphletSampling\n\u001b[1;32m      7\u001b[0m \u001b[38;5;28;01mfrom\u001b[39;00m \u001b[38;5;21;01mgrakel\u001b[39;00m\u001b[38;5;21;01m.\u001b[39;00m\u001b[38;5;21;01mkernels\u001b[39;00m\u001b[38;5;21;01m.\u001b[39;00m\u001b[38;5;21;01mrandom_walk\u001b[39;00m \u001b[38;5;28;01mimport\u001b[39;00m RandomWalk\n",
      "File \u001b[0;32m~/opt/anaconda3/lib/python3.8/site-packages/grakel/kernels/kernel.py:17\u001b[0m\n\u001b[1;32m     14\u001b[0m \u001b[38;5;28;01mfrom\u001b[39;00m \u001b[38;5;21;01msklearn\u001b[39;00m\u001b[38;5;21;01m.\u001b[39;00m\u001b[38;5;21;01mutils\u001b[39;00m\u001b[38;5;21;01m.\u001b[39;00m\u001b[38;5;21;01mvalidation\u001b[39;00m \u001b[38;5;28;01mimport\u001b[39;00m check_is_fitted\n\u001b[1;32m     16\u001b[0m \u001b[38;5;28;01mfrom\u001b[39;00m \u001b[38;5;21;01mgrakel\u001b[39;00m\u001b[38;5;21;01m.\u001b[39;00m\u001b[38;5;21;01mgraph\u001b[39;00m \u001b[38;5;28;01mimport\u001b[39;00m Graph\n\u001b[0;32m---> 17\u001b[0m \u001b[38;5;28;01mfrom\u001b[39;00m \u001b[38;5;21;01mgrakel\u001b[39;00m\u001b[38;5;21;01m.\u001b[39;00m\u001b[38;5;21;01mkernels\u001b[39;00m\u001b[38;5;21;01m.\u001b[39;00m\u001b[38;5;21;01m_c_functions\u001b[39;00m \u001b[38;5;28;01mimport\u001b[39;00m k_to_ij_triangular\n\u001b[1;32m     18\u001b[0m \u001b[38;5;28;01mfrom\u001b[39;00m \u001b[38;5;21;01mgrakel\u001b[39;00m\u001b[38;5;21;01m.\u001b[39;00m\u001b[38;5;21;01mkernels\u001b[39;00m\u001b[38;5;21;01m.\u001b[39;00m\u001b[38;5;21;01m_c_functions\u001b[39;00m \u001b[38;5;28;01mimport\u001b[39;00m k_to_ij_rectangular\n\u001b[1;32m     20\u001b[0m \u001b[38;5;66;03m# Python 2/3 cross-compatibility import\u001b[39;00m\n",
      "File \u001b[0;32m~/opt/anaconda3/lib/python3.8/site-packages/grakel/kernels/_c_functions/functions.pyx:1\u001b[0m, in \u001b[0;36minit grakel.kernels._c_functions\u001b[0;34m()\u001b[0m\n",
      "\u001b[0;31mValueError\u001b[0m: numpy.ndarray size changed, may indicate binary incompatibility. Expected 96 from C header, got 88 from PyObject"
     ]
    }
   ],
   "source": [
    "from grakel.kernels import GraphletSampling"
   ]
  },
  {
   "cell_type": "code",
   "execution_count": 449,
   "id": "9c46331b",
   "metadata": {},
   "outputs": [
    {
     "ename": "ImportError",
     "evalue": "cannot import name 'find_graphlet_degree' from 'networkx.algorithms.smallworld' (/Users/eth-may/opt/anaconda3/lib/python3.8/site-packages/networkx/algorithms/smallworld.py)",
     "output_type": "error",
     "traceback": [
      "\u001b[0;31m---------------------------------------------------------------------------\u001b[0m",
      "\u001b[0;31mImportError\u001b[0m                               Traceback (most recent call last)",
      "Cell \u001b[0;32mIn[449], line 41\u001b[0m\n\u001b[1;32m     37\u001b[0m             K[i, j] \u001b[38;5;241m=\u001b[39m count_subgraphs(G1, G2, nodes1[i], nodes2[j], k)\n\u001b[1;32m     38\u001b[0m     \u001b[38;5;28;01mreturn\u001b[39;00m np\u001b[38;5;241m.\u001b[39msum(K)\n\u001b[0;32m---> 41\u001b[0m \u001b[38;5;28;01mfrom\u001b[39;00m \u001b[38;5;21;01mnetworkx\u001b[39;00m\u001b[38;5;21;01m.\u001b[39;00m\u001b[38;5;21;01malgorithms\u001b[39;00m\u001b[38;5;21;01m.\u001b[39;00m\u001b[38;5;21;01msmallworld\u001b[39;00m \u001b[38;5;28;01mimport\u001b[39;00m find_graphlet_degree\n\u001b[1;32m     43\u001b[0m \u001b[38;5;28;01mdef\u001b[39;00m \u001b[38;5;21mcount_subgraphs\u001b[39m(G1, G2, u, v, k):\n\u001b[1;32m     44\u001b[0m     count \u001b[38;5;241m=\u001b[39m \u001b[38;5;241m0\u001b[39m\n",
      "\u001b[0;31mImportError\u001b[0m: cannot import name 'find_graphlet_degree' from 'networkx.algorithms.smallworld' (/Users/eth-may/opt/anaconda3/lib/python3.8/site-packages/networkx/algorithms/smallworld.py)"
     ]
    }
   ],
   "source": [
    "import networkx as nx\n",
    "import numpy as np\n",
    "from sklearn.cluster import KMeans\n",
    "\n",
    "\n",
    "# Define the four graphs\n",
    "graph1 = nx.Graph()\n",
    "graph1.add_nodes_from([1, 2, 3])\n",
    "graph1.add_edges_from([(1, 2), (2, 3)])\n",
    "\n",
    "graph2 = nx.Graph()\n",
    "graph2.add_nodes_from([1, 2, 3, 4])\n",
    "graph2.add_edges_from([(1, 2), (2, 3), (3, 4)])\n",
    "\n",
    "graph3 = nx.Graph()\n",
    "graph3.add_nodes_from([1, 2, 3, 4])\n",
    "graph3.add_edges_from([(1, 2), (1, 3), (1, 4), (2, 3), (3, 4)])\n",
    "\n",
    "graph4 = nx.Graph()\n",
    "graph4.add_nodes_from([1, 2, 3])\n",
    "graph4.add_edges_from([(1, 2), (2, 3), (1, 3)])\n",
    "\n",
    "# Create a list of graphs\n",
    "graphs = [graph1, graph2, graph3, graph4]\n",
    "\n",
    "# Define the Graphlet kernel function\n",
    "def graphlet_kernel(graph1, graph2, k=4):\n",
    "    nodes1 = list(graph1.nodes())\n",
    "    nodes2 = list(graph2.nodes())\n",
    "    n1 = len(nodes1)\n",
    "    n2 = len(nodes2)\n",
    "    G1 = nx.Graph(graph1)\n",
    "    G2 = nx.Graph(graph2)\n",
    "    K = np.zeros((n1, n2))\n",
    "    for i in range(n1):\n",
    "        for j in range(n2):\n",
    "            K[i, j] = count_subgraphs(G1, G2, nodes1[i], nodes2[j], k)\n",
    "    return np.sum(K)\n",
    "\n",
    "\n",
    "from networkx.algorithms.smallworld import find_graphlet_degree\n",
    "\n",
    "def count_subgraphs(G1, G2, u, v, k):\n",
    "    count = 0\n",
    "    for subgraph in nx.graphlets.graphlets_at_node(G1, u, k):\n",
    "        nodes = list(subgraph)\n",
    "        # get the degree sequence of the subgraph\n",
    "        deg_seq = [G1.degree(node) for node in nodes]\n",
    "        # count the number of times the subgraph appears in G2\n",
    "        count += find_graphlet_degree(G2, deg_seq)\n",
    "    return count\n",
    "\n",
    "\n",
    "# Compute the Graphlet kernel matrix\n",
    "n = len(graphs)\n",
    "kernel_matrix = np.zeros((n, n))\n",
    "for i in range(n):\n",
    "    for j in range(n):\n",
    "        kernel_matrix[i, j] = graphlet_kernel(graphs[i], graphs[j])\n",
    "\n",
    "# Perform K-means clustering\n",
    "kmeans = KMeans(n_clusters=2, random_state=0).fit(kernel_matrix)\n",
    "\n",
    "# Visualize the clustering results\n",
    "labels = kmeans.labels_\n",
    "print(labels)\n"
   ]
  },
  {
   "cell_type": "code",
   "execution_count": 447,
   "id": "10aa5015",
   "metadata": {},
   "outputs": [
    {
     "ename": "AttributeError",
     "evalue": "module networkx has no attribute subgraph_census",
     "output_type": "error",
     "traceback": [
      "\u001b[0;31m---------------------------------------------------------------------------\u001b[0m",
      "\u001b[0;31mAttributeError\u001b[0m                            Traceback (most recent call last)",
      "Cell \u001b[0;32mIn[447], line 32\u001b[0m\n\u001b[1;32m     30\u001b[0m \u001b[38;5;28;01mfor\u001b[39;00m i \u001b[38;5;129;01min\u001b[39;00m \u001b[38;5;28mrange\u001b[39m(n):\n\u001b[1;32m     31\u001b[0m     \u001b[38;5;28;01mfor\u001b[39;00m j \u001b[38;5;129;01min\u001b[39;00m \u001b[38;5;28mrange\u001b[39m(n):\n\u001b[0;32m---> 32\u001b[0m         kernel_matrix[i, j] \u001b[38;5;241m=\u001b[39m \u001b[43mgraphlet_kernel\u001b[49m\u001b[43m(\u001b[49m\u001b[43mgraphs\u001b[49m\u001b[43m[\u001b[49m\u001b[43mi\u001b[49m\u001b[43m]\u001b[49m\u001b[43m,\u001b[49m\u001b[43m \u001b[49m\u001b[43mgraphs\u001b[49m\u001b[43m[\u001b[49m\u001b[43mj\u001b[49m\u001b[43m]\u001b[49m\u001b[43m)\u001b[49m\n\u001b[1;32m     34\u001b[0m \u001b[38;5;66;03m# Perform K-means clustering\u001b[39;00m\n\u001b[1;32m     35\u001b[0m kmeans \u001b[38;5;241m=\u001b[39m KMeans(n_clusters\u001b[38;5;241m=\u001b[39m\u001b[38;5;241m2\u001b[39m, random_state\u001b[38;5;241m=\u001b[39m\u001b[38;5;241m0\u001b[39m)\u001b[38;5;241m.\u001b[39mfit(kernel_matrix)\n",
      "Cell \u001b[0;32mIn[447], line 6\u001b[0m, in \u001b[0;36mgraphlet_kernel\u001b[0;34m(graph1, graph2, k)\u001b[0m\n\u001b[1;32m      5\u001b[0m \u001b[38;5;28;01mdef\u001b[39;00m \u001b[38;5;21mgraphlet_kernel\u001b[39m(graph1, graph2, k\u001b[38;5;241m=\u001b[39m\u001b[38;5;241m5\u001b[39m):\n\u001b[0;32m----> 6\u001b[0m     subgraph_counts1 \u001b[38;5;241m=\u001b[39m \u001b[43mnx\u001b[49m\u001b[38;5;241;43m.\u001b[39;49m\u001b[43msubgraph_census\u001b[49m(graph1)\n\u001b[1;32m      7\u001b[0m     subgraph_counts2 \u001b[38;5;241m=\u001b[39m nx\u001b[38;5;241m.\u001b[39msubgraph_census(graph2)\n\u001b[1;32m      8\u001b[0m     kernel_value \u001b[38;5;241m=\u001b[39m \u001b[38;5;241m0\u001b[39m\n",
      "File \u001b[0;32m~/opt/anaconda3/lib/python3.8/site-packages/networkx/__init__.py:51\u001b[0m, in \u001b[0;36m__getattr__\u001b[0;34m(name)\u001b[0m\n\u001b[1;32m     42\u001b[0m \u001b[38;5;28;01mif\u001b[39;00m name \u001b[38;5;241m==\u001b[39m \u001b[38;5;124m\"\u001b[39m\u001b[38;5;124mwrite_yaml\u001b[39m\u001b[38;5;124m\"\u001b[39m:\n\u001b[1;32m     43\u001b[0m     \u001b[38;5;28;01mraise\u001b[39;00m \u001b[38;5;167;01mImportError\u001b[39;00m(\n\u001b[1;32m     44\u001b[0m         \u001b[38;5;124m\"\u001b[39m\u001b[38;5;130;01m\\n\u001b[39;00m\u001b[38;5;124mwrite_yaml has been removed from NetworkX, please use `yaml`\u001b[39m\u001b[38;5;130;01m\\n\u001b[39;00m\u001b[38;5;124m\"\u001b[39m\n\u001b[1;32m     45\u001b[0m         \u001b[38;5;124m\"\u001b[39m\u001b[38;5;124mdirectly:\u001b[39m\u001b[38;5;130;01m\\n\u001b[39;00m\u001b[38;5;130;01m\\n\u001b[39;00m\u001b[38;5;124m\"\u001b[39m\n\u001b[0;32m   (...)\u001b[0m\n\u001b[1;32m     49\u001b[0m         \u001b[38;5;124m\"\u001b[39m\u001b[38;5;124mThis message will be removed in NetworkX 3.0.\u001b[39m\u001b[38;5;124m\"\u001b[39m\n\u001b[1;32m     50\u001b[0m     )\n\u001b[0;32m---> 51\u001b[0m \u001b[38;5;28;01mraise\u001b[39;00m \u001b[38;5;167;01mAttributeError\u001b[39;00m(\u001b[38;5;124mf\u001b[39m\u001b[38;5;124m\"\u001b[39m\u001b[38;5;124mmodule \u001b[39m\u001b[38;5;132;01m{\u001b[39;00m\u001b[38;5;18m__name__\u001b[39m\u001b[38;5;132;01m}\u001b[39;00m\u001b[38;5;124m has no attribute \u001b[39m\u001b[38;5;132;01m{\u001b[39;00mname\u001b[38;5;132;01m}\u001b[39;00m\u001b[38;5;124m\"\u001b[39m)\n",
      "\u001b[0;31mAttributeError\u001b[0m: module networkx has no attribute subgraph_census"
     ]
    }
   ],
   "source": [
    "import numpy as np\n",
    "from sklearn.cluster import KMeans\n",
    "import networkx as nx\n",
    "\n",
    "def graphlet_kernel(graph1, graph2, k=5):\n",
    "    subgraph_counts1 = nx.subgraph_census(graph1)\n",
    "    subgraph_counts2 = nx.subgraph_census(graph2)\n",
    "    kernel_value = 0\n",
    "    for i in range(k):\n",
    "        kernel_value += np.sqrt(subgraph_counts1[i] * subgraph_counts2[i])\n",
    "    return kernel_value\n",
    "\n",
    "# Define the four graphs\n",
    "graph1 = nx.Graph()\n",
    "graph1.add_edges_from([(1,2),(2,3),(3,4),(4,5),(5,1)])\n",
    "\n",
    "graph2 = nx.Graph()\n",
    "graph2.add_edges_from([(1,2),(2,3),(3,4),(4,5),(5,1),(2,4)])\n",
    "\n",
    "graph3 = nx.Graph()\n",
    "graph3.add_edges_from([(1,2),(2,3),(3,4),(4,5),(5,1),(2,4),(1,4)])\n",
    "\n",
    "graph4 = nx.Graph()\n",
    "graph4.add_edges_from([(1,2),(2,3),(3,4),(4,5),(5,1),(2,4),(1,4),(1,3)])\n",
    "\n",
    "# Compute the kernel matrix\n",
    "graphs = [graph1, graph2, graph3, graph4]\n",
    "n = len(graphs)\n",
    "kernel_matrix = np.zeros((n,n))\n",
    "for i in range(n):\n",
    "    for j in range(n):\n",
    "        kernel_matrix[i, j] = graphlet_kernel(graphs[i], graphs[j])\n",
    "\n",
    "# Perform K-means clustering\n",
    "kmeans = KMeans(n_clusters=2, random_state=0).fit(kernel_matrix)\n",
    "print(kmeans.labels_)\n",
    "\n"
   ]
  },
  {
   "cell_type": "code",
   "execution_count": null,
   "id": "4c80a8fd",
   "metadata": {},
   "outputs": [],
   "source": []
  }
 ],
 "metadata": {
  "kernelspec": {
   "display_name": "Python 3 (ipykernel)",
   "language": "python",
   "name": "python3"
  },
  "language_info": {
   "codemirror_mode": {
    "name": "ipython",
    "version": 3
   },
   "file_extension": ".py",
   "mimetype": "text/x-python",
   "name": "python",
   "nbconvert_exporter": "python",
   "pygments_lexer": "ipython3",
   "version": "3.8.2"
  }
 },
 "nbformat": 4,
 "nbformat_minor": 5
}
