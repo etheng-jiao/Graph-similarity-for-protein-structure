{
 "cells": [
  {
   "cell_type": "code",
   "execution_count": 25,
   "id": "f54a4752",
   "metadata": {},
   "outputs": [],
   "source": [
    "import Bio.PDB as BP\n",
    "from Bio.PDB.Polypeptide import PPBuilder\n",
    "\n",
    "p = BP.PDBParser(PERMISSIVE=1)\n",
    "structure_id = \"GH30_Q09DH4\"\n",
    "filename = \"/Users/eth-may/Desktop/dtu/semester6/graph_similarity/PDB/Q09DH4/Q09DH4.pdb\"\n",
    "structure_30 = p.get_structure(structure_id, filename)"
   ]
  },
  {
   "cell_type": "code",
   "execution_count": 37,
   "id": "7bf0083a",
   "metadata": {},
   "outputs": [],
   "source": [
    "# data load\n",
    "\n",
    "pdb_p_GH30 = \"/Users/eth-may/Desktop/dtu/semester6/graph_similarity/PDB/Q09DH4/Q09DH4.pdb\"\n",
    "pdb_p_GH35 = \"/Users/eth-may/Desktop/dtu/semester6/graph_similarity/PDB/C3VDH8/C3VDH8.pdb\"\n",
    "pdb_p_GH16 = \"/Users/eth-may/Desktop/dtu/semester6/graph_similarity/PDB/Q21N15/Q21N15.pdb\"\n",
    "pdb_p_GH27 = \"/Users/eth-may/Desktop/dtu/semester6/graph_similarity/PDB/A0A6M4XDE9/A0A6M4XDE9.pdb\"\n"
   ]
  },
  {
   "cell_type": "code",
   "execution_count": 38,
   "id": "d2b1b298",
   "metadata": {},
   "outputs": [],
   "source": [
    "def get_struc(path,ids):\n",
    "    p = BP.PDBParser(PERMISSIVE=1)\n",
    "    structure_id = ids\n",
    "    filename = path\n",
    "    structure = p.get_structure(structure_id, filename)\n",
    "    return structure\n",
    "def get_AAs(structure):\n",
    "    AAs = []\n",
    "    ppb=PPBuilder()\n",
    "    for pp in ppb.build_peptides(structure):\n",
    "        AAs.extend(pp.get_sequence())\n",
    "    AAs = ''.join(AAs)\n",
    "    return AAs"
   ]
  },
  {
   "cell_type": "code",
   "execution_count": 45,
   "id": "6dc85156",
   "metadata": {},
   "outputs": [],
   "source": [
    "structure_GH30 = get_struc(pdb_p_GH30,'GH30')\n",
    "structure_GH35 = get_struc(pdb_p_GH35,'GH35')\n",
    "structure_GH16 = get_struc(pdb_p_GH16,'GH16')\n",
    "structure_GH27 = get_struc(pdb_p_GH27,'GH27')"
   ]
  },
  {
   "cell_type": "code",
   "execution_count": 56,
   "id": "8ea9b01b",
   "metadata": {},
   "outputs": [],
   "source": [
    "AAs_GH30 = get_AAs(structure_GH30)[32:478]\n",
    "AAs_GH35 = get_AAs(structure_GH35)[19:408]\n",
    "AAs_GH16 = get_AAs(structure_GH16)[327:567]\n",
    "AAs_GH27 = get_AAs(structure_GH27)[47:380]\n",
    "AAs = [AAs_GH30,AAs_GH35,AAs_GH16,AAs_GH27]"
   ]
  },
  {
   "cell_type": "code",
   "execution_count": 64,
   "id": "1cff1325",
   "metadata": {},
   "outputs": [
    {
     "data": {
      "text/plain": [
       "[0.35874439461883406, 0.26905829596412556, 0.32062780269058294]"
      ]
     },
     "execution_count": 64,
     "metadata": {},
     "output_type": "execute_result"
    }
   ],
   "source": [
    "from Bio import Align\n",
    "\n",
    "aligner = Align.PairwiseAligner()\n",
    "sims = []\n",
    "for i in range(3):\n",
    "#alignments = aligner.align(AAs[0], AAs[1])\n",
    "    score = aligner.score(AAs[0], AAs[i+1])\n",
    "    sims.append(score/len(AAs[0]))\n",
    "sims"
   ]
  },
  {
   "cell_type": "code",
   "execution_count": 50,
   "id": "9a185000",
   "metadata": {},
   "outputs": [],
   "source": [
    "ids = ['GH30','GH35','GH16','GH27']"
   ]
  },
  {
   "cell_type": "code",
   "execution_count": 57,
   "id": "5a5d25ad",
   "metadata": {},
   "outputs": [],
   "source": [
    "with open('/Users/eth-may/Desktop/dtu/semester6/graph_similarity/test1_cut.fasta','w') as outfile:\n",
    "    for i in range(len(ids)):\n",
    "        outfile.write('>'+ ids[i] +'\\n')\n",
    "    #print(line.rstrip())\n",
    "        \n",
    "        for j in range(len(AAs[i])//60):\n",
    "            outfile.write(AAs[i][j*60:j*60+60]+'\\n')\n",
    "        outfile.write(AAs[i][(len(AAs[i])//60)*60:len(AAs[i])]+'\\n')\n"
   ]
  },
  {
   "cell_type": "code",
   "execution_count": 65,
   "id": "eae55042",
   "metadata": {},
   "outputs": [
    {
     "ename": "NameError",
     "evalue": "name 'extract_subgraph' is not defined",
     "output_type": "error",
     "traceback": [
      "\u001b[0;31m---------------------------------------------------------------------------\u001b[0m",
      "\u001b[0;31mNameError\u001b[0m                                 Traceback (most recent call last)",
      "Cell \u001b[0;32mIn[65], line 1\u001b[0m\n\u001b[0;32m----> 1\u001b[0m s_g1 \u001b[38;5;241m=\u001b[39m \u001b[43mextract_subgraph\u001b[49m(g1, node_list\u001b[38;5;241m=\u001b[39mnodes_list(g1,\u001b[38;5;241m33\u001b[39m,\u001b[38;5;241m478\u001b[39m), inverse\u001b[38;5;241m=\u001b[39m\u001b[38;5;28;01mFalse\u001b[39;00m)\n\u001b[1;32m      2\u001b[0m s_g2 \u001b[38;5;241m=\u001b[39m extract_subgraph(g2, node_list\u001b[38;5;241m=\u001b[39mnodes_list(g2,\u001b[38;5;241m20\u001b[39m,\u001b[38;5;241m408\u001b[39m), inverse\u001b[38;5;241m=\u001b[39m\u001b[38;5;28;01mFalse\u001b[39;00m)\n\u001b[1;32m      3\u001b[0m s_g3 \u001b[38;5;241m=\u001b[39m extract_subgraph(g3, node_list\u001b[38;5;241m=\u001b[39mnodes_list(g3,\u001b[38;5;241m328\u001b[39m,\u001b[38;5;241m567\u001b[39m), inverse\u001b[38;5;241m=\u001b[39m\u001b[38;5;28;01mFalse\u001b[39;00m)\n",
      "\u001b[0;31mNameError\u001b[0m: name 'extract_subgraph' is not defined"
     ]
    }
   ],
   "source": []
  },
  {
   "cell_type": "code",
   "execution_count": null,
   "id": "19314eac",
   "metadata": {},
   "outputs": [],
   "source": []
  }
 ],
 "metadata": {
  "kernelspec": {
   "display_name": "Python 3 (ipykernel)",
   "language": "python",
   "name": "python3"
  },
  "language_info": {
   "codemirror_mode": {
    "name": "ipython",
    "version": 3
   },
   "file_extension": ".py",
   "mimetype": "text/x-python",
   "name": "python",
   "nbconvert_exporter": "python",
   "pygments_lexer": "ipython3",
   "version": "3.8.2"
  }
 },
 "nbformat": 4,
 "nbformat_minor": 5
}
