{
 "cells": [
  {
   "cell_type": "code",
   "execution_count": 41,
   "id": "fd30222c",
   "metadata": {},
   "outputs": [],
   "source": [
    "from pandas.core.common import flatten\n",
    "import time\n",
    "import sys\n",
    "import os\n",
    "import numpy as np\n",
    "from graphein.protein.config import ProteinGraphConfig\n",
    "from graphein.protein.edges.distance import add_hydrogen_bond_interactions, add_peptide_bonds\n",
    "from functools import partial\n",
    "#from graphein.protein.visualisation import plotly_protein_structure_graph\n",
    "\n",
    "from graphein.protein.edges.distance import (add_peptide_bonds,\n",
    "                                             add_k_nn_edges,\n",
    "                                             add_distance_threshold,\n",
    "                                             add_hydrogen_bond_interactions,\n",
    "                                             add_disulfide_interactions,\n",
    "                                             add_ionic_interactions,\n",
    "                                             add_aromatic_interactions,\n",
    "                                             add_aromatic_sulphur_interactions,\n",
    "                                             add_cation_pi_interactions,\n",
    "                                             add_delaunay_triangulation\n",
    "                                            )\n",
    "\n",
    "from graphein.protein.features.nodes import secondary_structure\n",
    "from graphein.protein.subgraphs import extract_subgraph_from_secondary_structure\n",
    "from graphein.protein.config import DSSPConfig\n",
    "from graphein.protein.subgraphs import extract_surface_subgraph\n",
    "from graphein.protein.features.nodes import rsa\n",
    "import networkx as nx                                       \n",
    "import logging\n",
    "import matplotlib.pyplot as plt\n",
    "logging.getLogger(\"matplotlib\").setLevel(logging.WARNING)\n",
    "logging.getLogger(\"graphein\").setLevel(logging.INFO)\n",
    "import graphein.protein as gp\n",
    "from graphein.protein.edges.atomic import add_atomic_edges, add_bond_order, add_ring_status"
   ]
  },
  {
   "cell_type": "code",
   "execution_count": null,
   "id": "f3d1f17c",
   "metadata": {},
   "outputs": [],
   "source": [
    "\"\"\"\n",
    "params_to_change1 = {\"granularity\": \"atom\", \"edge_construction_functions\": [add_atomic_edges]}\n",
    "params_to_change2 = {\"granularity\": \"atom\", \"edge_construction_functions\": [add_atomic_edges, add_bond_order, add_ring_status]}\n",
    "params_to_change3 = {\"granularity\": \"atom\", \"edge_construction_functions\": [add_atomic_edges, add_bond_order, partial(add_delaunay_triangulation)]}\n",
    "params_to_change4 = {\n",
    "    \"granularity\": \"atom\",\n",
    "    \"edge_construction_functions\": [add_atomic_edges,\n",
    "                                    add_bond_order,\n",
    "                                    partial(add_delaunay_triangulation, allowable_nodes=[\"CA\"])\n",
    "                                    ]\n",
    "    }\n",
    "config = ProteinGraphConfig(**params_to_change)\n",
    "\"\"\""
   ]
  },
  {
   "cell_type": "code",
   "execution_count": 42,
   "id": "54d96cf3",
   "metadata": {},
   "outputs": [],
   "source": [
    "# define different graph\n",
    "edge_funcs1 = {\"edge_construction_functions\": [partial(add_distance_threshold, long_interaction_threshold=5, threshold=10.),\n",
    "                                                  add_aromatic_interactions,\n",
    "                                                  add_hydrogen_bond_interactions,\n",
    "                                                  add_disulfide_interactions,\n",
    "                                                  add_ionic_interactions,\n",
    "                                                  add_aromatic_sulphur_interactions,\n",
    "                                                  add_cation_pi_interactions\n",
    "                                                   ]\n",
    "                 }\n",
    "\n",
    "\n",
    "\n",
    "\n",
    "edge_funcs2 = {\"edge_construction_functions\": [\n",
    "                                                  add_aromatic_interactions,\n",
    "                                                  add_hydrogen_bond_interactions,\n",
    "                                                  add_disulfide_interactions,\n",
    "                                                  add_ionic_interactions,\n",
    "                                                  add_aromatic_sulphur_interactions,\n",
    "                                                  add_cation_pi_interactions\n",
    "                                                   ]\n",
    "                 }\n",
    "\n",
    "edge_funcs3 = {\"edge_construction_functions\": [partial(add_distance_threshold, long_interaction_threshold=5, threshold=10.),\n",
    "                                                  \n",
    "                                                   ]\n",
    "                 }\n",
    "\n",
    "edge_funcs4 = {\"edge_construction_functions\": [add_delaunay_triangulation        \n",
    "                                                   ]\n",
    "                 }\n",
    "\n",
    "edge_funcs5 = {\"edge_construction_functions\": [partial(add_k_nn_edges, k=3, long_interaction_threshold=0)]\n",
    "                 }\n",
    "\n",
    "edge_funcs = [edge_funcs1,edge_funcs2,edge_funcs3,edge_funcs4,edge_funcs5]"
   ]
  },
  {
   "cell_type": "code",
   "execution_count": 43,
   "id": "ccadb3e0",
   "metadata": {},
   "outputs": [
    {
     "data": {
      "text/plain": [
       "{'granularity': 'CA',\n",
       " 'keep_hets': [],\n",
       " 'insertions': False,\n",
       " 'pdb_dir': None,\n",
       " 'verbose': False,\n",
       " 'exclude_waters': True,\n",
       " 'deprotonate': False,\n",
       " 'protein_df_processing_functions': None,\n",
       " 'edge_construction_functions': [<function graphein.protein.edges.distance.add_peptide_bonds(G: 'nx.Graph') -> 'nx.Graph'>],\n",
       " 'node_metadata_functions': [<function graphein.protein.features.nodes.amino_acid.meiler_embedding(n, d, return_array: bool = False) -> Union[pandas.core.series.Series, <built-in function array>]>],\n",
       " 'edge_metadata_functions': None,\n",
       " 'graph_metadata_functions': None,\n",
       " 'get_contacts_config': None,\n",
       " 'dssp_config': None}"
      ]
     },
     "execution_count": 43,
     "metadata": {},
     "output_type": "execute_result"
    }
   ],
   "source": [
    "config = ProteinGraphConfig()\n",
    "config.dict()"
   ]
  },
  {
   "cell_type": "code",
   "execution_count": 44,
   "id": "d1c3dab5",
   "metadata": {},
   "outputs": [],
   "source": [
    "# data load\n",
    "\n",
    "pdb_p_GH30 = \"/Users/eth-may/Desktop/dtu/semester6/graph_similarity/PDB/Q09DH4/Q09DH4.pdb\"\n",
    "pdb_p_GH35 = \"/Users/eth-may/Desktop/dtu/semester6/graph_similarity/PDB/C3VDH8/C3VDH8.pdb\"\n",
    "pdb_p_GH16 = \"/Users/eth-may/Desktop/dtu/semester6/graph_similarity/PDB/Q21N15/Q21N15.pdb\"\n",
    "pdb_p_GH27 = \"/Users/eth-may/Desktop/dtu/semester6/graph_similarity/PDB/A0A6M4XDE9/A0A6M4XDE9.pdb\"\n"
   ]
  },
  {
   "cell_type": "code",
   "execution_count": 88,
   "id": "afcb5f48",
   "metadata": {},
   "outputs": [],
   "source": [
    "import networkx as nx\n",
    "from graphein.protein.graphs import construct_graph\n",
    "from graphein.protein.subgraphs import extract_subgraph\n",
    "def nodes_list(g,s,e):\n",
    "    nodes =[]\n",
    "    for i in g.nodes:\n",
    "        nodes.append(i)\n",
    "    return nodes[s-1:e] \n",
    "\n",
    "def get_network(s_g):\n",
    "    nodes = []\n",
    "    for i in s_g.nodes:\n",
    "        nodes.append(i)\n",
    "    \n",
    "    edges = [] \n",
    "    for j in s_g.edges:\n",
    "        edges.append(j)\n",
    "    G = nx.Graph()\n",
    "    \n",
    "    for node in nodes:\n",
    "        G.add_node(node)\n",
    "\n",
    "    for link in edges:\n",
    "        G.add_edge(link[0], link[1])\n",
    "    return G\n",
    "\n",
    "def sub_graph(edge_func):\n",
    "    config = ProteinGraphConfig(**edge_func)\n",
    "\n",
    "    g1 = construct_graph(config=config, pdb_path=pdb_p_GH30)\n",
    "    g2 = construct_graph(config=config, pdb_path=pdb_p_GH35)\n",
    "    g3 = construct_graph(config=config, pdb_path=pdb_p_GH16)\n",
    "    g4 = construct_graph(config=config, pdb_path=pdb_p_GH27)\n",
    "\n",
    "    s_g1 = extract_subgraph(g1, node_list=nodes_list(g1,33,478), inverse=False)\n",
    "    s_g2 = extract_subgraph(g2, node_list=nodes_list(g2,20,408), inverse=False)\n",
    "    s_g3 = extract_subgraph(g3, node_list=nodes_list(g3,328,567), inverse=False)\n",
    "    s_g4 = extract_subgraph(g4, node_list=nodes_list(g4,48,380), inverse=False)\n",
    "    \n",
    "    G1 = get_network(s_g1)\n",
    "    G2 = get_network(s_g2)\n",
    "    G3 = get_network(s_g3)\n",
    "    G4 = get_network(s_g4)\n",
    "    \n",
    "    return G1,G2,G3,G4"
   ]
  },
  {
   "cell_type": "code",
   "execution_count": null,
   "id": "7a935d41",
   "metadata": {},
   "outputs": [],
   "source": []
  },
  {
   "cell_type": "code",
   "execution_count": null,
   "id": "32533a24",
   "metadata": {},
   "outputs": [],
   "source": []
  },
  {
   "cell_type": "code",
   "execution_count": null,
   "id": "f5017955",
   "metadata": {},
   "outputs": [
    {
     "data": {
      "text/html": [
       "<pre style=\"white-space:pre;overflow-x:auto;line-height:normal;font-family:Menlo,'DejaVu Sans Mono',consolas,'Courier New',monospace\"></pre>\n"
      ],
      "text/plain": [
       "\u001b[?25l"
      ]
     },
     "metadata": {},
     "output_type": "display_data"
    },
    {
     "data": {
      "application/vnd.jupyter.widget-view+json": {
       "model_id": "",
       "version_major": 2,
       "version_minor": 0
      },
      "text/plain": [
       "Output()"
      ]
     },
     "metadata": {},
     "output_type": "display_data"
    },
    {
     "data": {
      "text/html": [
       "<pre style=\"white-space:pre;overflow-x:auto;line-height:normal;font-family:Menlo,'DejaVu Sans Mono',consolas,'Courier New',monospace\">\r",
       "\u001b[2K/Users/eth-may/opt/anaconda3/lib/python3.8/site-packages/biopandas/pdb/pandas_pdb.py:681: SettingWithCopyWarning: \n",
       "A value is trying to be set on a copy of a slice from a DataFrame.\n",
       "Try using .loc[row_indexer,col_indexer] = value instead\n",
       "\n",
       "See the caveats in the documentation: \n",
       "https://pandas.pydata.org/pandas-docs/stable/user_guide/indexing.html#returning-a-view-versus-a-copy\n",
       "  idxs[\"end_idx\"] = ends.line_idx.values\n",
       "Reading PDB file... <span style=\"color: #729c1f; text-decoration-color: #729c1f\">━━━━━━━━━━━━━━━━━━━━━━━━━━━━━━━━━━━━━━━━</span> <span style=\"color: #800080; text-decoration-color: #800080\">100%</span> <span style=\"color: #008080; text-decoration-color: #008080\">0:00:00</span></pre>\n"
      ],
      "text/plain": [
       "\r",
       "\u001b[2K/Users/eth-may/opt/anaconda3/lib/python3.8/site-packages/biopandas/pdb/pandas_pdb.py:681: SettingWithCopyWarning: \n",
       "A value is trying to be set on a copy of a slice from a DataFrame.\n",
       "Try using .loc[row_indexer,col_indexer] = value instead\n",
       "\n",
       "See the caveats in the documentation: \n",
       "https://pandas.pydata.org/pandas-docs/stable/user_guide/indexing.html#returning-a-view-versus-a-copy\n",
       "  idxs[\"end_idx\"] = ends.line_idx.values\n",
       "Reading PDB file... \u001b[38;2;114;156;31m━━━━━━━━━━━━━━━━━━━━━━━━━━━━━━━━━━━━━━━━\u001b[0m \u001b[35m100%\u001b[0m \u001b[36m0:00:00\u001b[0m"
      ]
     },
     "metadata": {},
     "output_type": "display_data"
    },
    {
     "data": {
      "text/html": [
       "<pre style=\"white-space:pre;overflow-x:auto;line-height:normal;font-family:Menlo,'DejaVu Sans Mono',consolas,'Courier New',monospace\">\n",
       "</pre>\n"
      ],
      "text/plain": [
       "\n",
       "\u001b[?25h\r",
       "\u001b[1A\u001b[2K\u001b[1A\u001b[2K\u001b[1A\u001b[2K\u001b[1A\u001b[2K"
      ]
     },
     "metadata": {},
     "output_type": "display_data"
    },
    {
     "data": {
      "text/html": [
       "<pre style=\"white-space:pre;overflow-x:auto;line-height:normal;font-family:Menlo,'DejaVu Sans Mono',consolas,'Courier New',monospace\"></pre>\n"
      ],
      "text/plain": [
       "\u001b[?25l"
      ]
     },
     "metadata": {},
     "output_type": "display_data"
    },
    {
     "data": {
      "application/vnd.jupyter.widget-view+json": {
       "model_id": "",
       "version_major": 2,
       "version_minor": 0
      },
      "text/plain": [
       "Output()"
      ]
     },
     "metadata": {},
     "output_type": "display_data"
    },
    {
     "data": {
      "text/html": [
       "<pre style=\"white-space:pre;overflow-x:auto;line-height:normal;font-family:Menlo,'DejaVu Sans Mono',consolas,'Courier New',monospace\">\r",
       "\u001b[2K/Users/eth-may/opt/anaconda3/lib/python3.8/site-packages/biopandas/pdb/pandas_pdb.py:681: SettingWithCopyWarning: \n",
       "A value is trying to be set on a copy of a slice from a DataFrame.\n",
       "Try using .loc[row_indexer,col_indexer] = value instead\n",
       "\n",
       "See the caveats in the documentation: \n",
       "https://pandas.pydata.org/pandas-docs/stable/user_guide/indexing.html#returning-a-view-versus-a-copy\n",
       "  idxs[\"end_idx\"] = ends.line_idx.values\n",
       "Reading PDB file... <span style=\"color: #3a3a3a; text-decoration-color: #3a3a3a\">━━━━━━━━━━━━━━━━━━━━━━━━━━━━━━━━━━━━━━━━</span> <span style=\"color: #800080; text-decoration-color: #800080\">  0%</span> <span style=\"color: #008080; text-decoration-color: #008080\">-:--:--</span></pre>\n"
      ],
      "text/plain": [
       "\r",
       "\u001b[2K/Users/eth-may/opt/anaconda3/lib/python3.8/site-packages/biopandas/pdb/pandas_pdb.py:681: SettingWithCopyWarning: \n",
       "A value is trying to be set on a copy of a slice from a DataFrame.\n",
       "Try using .loc[row_indexer,col_indexer] = value instead\n",
       "\n",
       "See the caveats in the documentation: \n",
       "https://pandas.pydata.org/pandas-docs/stable/user_guide/indexing.html#returning-a-view-versus-a-copy\n",
       "  idxs[\"end_idx\"] = ends.line_idx.values\n",
       "Reading PDB file... \u001b[38;5;237m━━━━━━━━━━━━━━━━━━━━━━━━━━━━━━━━━━━━━━━━\u001b[0m \u001b[35m  0%\u001b[0m \u001b[36m-:--:--\u001b[0m"
      ]
     },
     "metadata": {},
     "output_type": "display_data"
    },
    {
     "data": {
      "text/html": [
       "<pre style=\"white-space:pre;overflow-x:auto;line-height:normal;font-family:Menlo,'DejaVu Sans Mono',consolas,'Courier New',monospace\">\n",
       "</pre>\n"
      ],
      "text/plain": [
       "\n",
       "\u001b[?25h\r",
       "\u001b[1A\u001b[2K\u001b[1A\u001b[2K\u001b[1A\u001b[2K\u001b[1A\u001b[2K"
      ]
     },
     "metadata": {},
     "output_type": "display_data"
    },
    {
     "data": {
      "text/html": [
       "<pre style=\"white-space:pre;overflow-x:auto;line-height:normal;font-family:Menlo,'DejaVu Sans Mono',consolas,'Courier New',monospace\"></pre>\n"
      ],
      "text/plain": [
       "\u001b[?25l"
      ]
     },
     "metadata": {},
     "output_type": "display_data"
    },
    {
     "data": {
      "application/vnd.jupyter.widget-view+json": {
       "model_id": "",
       "version_major": 2,
       "version_minor": 0
      },
      "text/plain": [
       "Output()"
      ]
     },
     "metadata": {},
     "output_type": "display_data"
    },
    {
     "data": {
      "text/html": [
       "<pre style=\"white-space:pre;overflow-x:auto;line-height:normal;font-family:Menlo,'DejaVu Sans Mono',consolas,'Courier New',monospace\">\r",
       "\u001b[2K/Users/eth-may/opt/anaconda3/lib/python3.8/site-packages/biopandas/pdb/pandas_pdb.py:681: SettingWithCopyWarning: \n",
       "A value is trying to be set on a copy of a slice from a DataFrame.\n",
       "Try using .loc[row_indexer,col_indexer] = value instead\n",
       "\n",
       "See the caveats in the documentation: \n",
       "https://pandas.pydata.org/pandas-docs/stable/user_guide/indexing.html#returning-a-view-versus-a-copy\n",
       "  idxs[\"end_idx\"] = ends.line_idx.values\n",
       "Reading PDB file... <span style=\"color: #3a3a3a; text-decoration-color: #3a3a3a\">━━━━━━━━━━━━━━━━━━━━━━━━━━━━━━━━━━━━━━━━</span> <span style=\"color: #800080; text-decoration-color: #800080\">  0%</span> <span style=\"color: #008080; text-decoration-color: #008080\">-:--:--</span></pre>\n"
      ],
      "text/plain": [
       "\r",
       "\u001b[2K/Users/eth-may/opt/anaconda3/lib/python3.8/site-packages/biopandas/pdb/pandas_pdb.py:681: SettingWithCopyWarning: \n",
       "A value is trying to be set on a copy of a slice from a DataFrame.\n",
       "Try using .loc[row_indexer,col_indexer] = value instead\n",
       "\n",
       "See the caveats in the documentation: \n",
       "https://pandas.pydata.org/pandas-docs/stable/user_guide/indexing.html#returning-a-view-versus-a-copy\n",
       "  idxs[\"end_idx\"] = ends.line_idx.values\n",
       "Reading PDB file... \u001b[38;5;237m━━━━━━━━━━━━━━━━━━━━━━━━━━━━━━━━━━━━━━━━\u001b[0m \u001b[35m  0%\u001b[0m \u001b[36m-:--:--\u001b[0m"
      ]
     },
     "metadata": {},
     "output_type": "display_data"
    },
    {
     "data": {
      "text/html": [
       "<pre style=\"white-space:pre;overflow-x:auto;line-height:normal;font-family:Menlo,'DejaVu Sans Mono',consolas,'Courier New',monospace\">\n",
       "</pre>\n"
      ],
      "text/plain": [
       "\n",
       "\u001b[?25h\r",
       "\u001b[1A\u001b[2K\u001b[1A\u001b[2K\u001b[1A\u001b[2K\u001b[1A\u001b[2K"
      ]
     },
     "metadata": {},
     "output_type": "display_data"
    },
    {
     "data": {
      "text/html": [
       "<pre style=\"white-space:pre;overflow-x:auto;line-height:normal;font-family:Menlo,'DejaVu Sans Mono',consolas,'Courier New',monospace\"></pre>\n"
      ],
      "text/plain": [
       "\u001b[?25l"
      ]
     },
     "metadata": {},
     "output_type": "display_data"
    },
    {
     "data": {
      "application/vnd.jupyter.widget-view+json": {
       "model_id": "",
       "version_major": 2,
       "version_minor": 0
      },
      "text/plain": [
       "Output()"
      ]
     },
     "metadata": {},
     "output_type": "display_data"
    },
    {
     "data": {
      "text/html": [
       "<pre style=\"white-space:pre;overflow-x:auto;line-height:normal;font-family:Menlo,'DejaVu Sans Mono',consolas,'Courier New',monospace\">\r",
       "\u001b[2K/Users/eth-may/opt/anaconda3/lib/python3.8/site-packages/biopandas/pdb/pandas_pdb.py:681: SettingWithCopyWarning: \n",
       "A value is trying to be set on a copy of a slice from a DataFrame.\n",
       "Try using .loc[row_indexer,col_indexer] = value instead\n",
       "\n",
       "See the caveats in the documentation: \n",
       "https://pandas.pydata.org/pandas-docs/stable/user_guide/indexing.html#returning-a-view-versus-a-copy\n",
       "  idxs[\"end_idx\"] = ends.line_idx.values\n",
       "Reading PDB file... <span style=\"color: #3a3a3a; text-decoration-color: #3a3a3a\">━━━━━━━━━━━━━━━━━━━━━━━━━━━━━━━━━━━━━━━━</span> <span style=\"color: #800080; text-decoration-color: #800080\">  0%</span> <span style=\"color: #008080; text-decoration-color: #008080\">-:--:--</span></pre>\n"
      ],
      "text/plain": [
       "\r",
       "\u001b[2K/Users/eth-may/opt/anaconda3/lib/python3.8/site-packages/biopandas/pdb/pandas_pdb.py:681: SettingWithCopyWarning: \n",
       "A value is trying to be set on a copy of a slice from a DataFrame.\n",
       "Try using .loc[row_indexer,col_indexer] = value instead\n",
       "\n",
       "See the caveats in the documentation: \n",
       "https://pandas.pydata.org/pandas-docs/stable/user_guide/indexing.html#returning-a-view-versus-a-copy\n",
       "  idxs[\"end_idx\"] = ends.line_idx.values\n",
       "Reading PDB file... \u001b[38;5;237m━━━━━━━━━━━━━━━━━━━━━━━━━━━━━━━━━━━━━━━━\u001b[0m \u001b[35m  0%\u001b[0m \u001b[36m-:--:--\u001b[0m"
      ]
     },
     "metadata": {},
     "output_type": "display_data"
    },
    {
     "data": {
      "text/html": [
       "<pre style=\"white-space:pre;overflow-x:auto;line-height:normal;font-family:Menlo,'DejaVu Sans Mono',consolas,'Courier New',monospace\">\n",
       "</pre>\n"
      ],
      "text/plain": [
       "\n",
       "\u001b[?25h\r",
       "\u001b[1A\u001b[2K\u001b[1A\u001b[2K\u001b[1A\u001b[2K\u001b[1A\u001b[2K"
      ]
     },
     "metadata": {},
     "output_type": "display_data"
    }
   ],
   "source": [
    "import time\n",
    "def GED(g1,g2):\n",
    "    return nx.graph_edit_distance(g1, g2)\n",
    "\n",
    "scores = []\n",
    "\n",
    "for i in edge_funcs:\n",
    "    G1,G2,G3,G4 = sub_graph(i)\n",
    "    \n",
    "    start = time.time()\n",
    "    scores.append([GED(G1,G1),GED(G1,G2),GED(G1,G3),GED(G1,G4)])\n",
    "    end = time.time()\n",
    "    print(end - start)\n",
    "print(scores)\n",
    "#GED(G1,G2)\n",
    "\n"
   ]
  },
  {
   "cell_type": "code",
   "execution_count": null,
   "id": "7d2c5145",
   "metadata": {},
   "outputs": [],
   "source": [
    "scores"
   ]
  },
  {
   "cell_type": "code",
   "execution_count": null,
   "id": "5efe9ae2",
   "metadata": {},
   "outputs": [],
   "source": [
    "import nx.algorithms.isomorphism as iso\n",
    "def iso_graph(g1,g2)\n",
    "    gm = iso.GraphMatcher(g1, g2)\n",
    "    mcs = gm.subgraph_is_isomorphic()\n",
    "\n",
    "scores_2 = []\n",
    "start = time.time()\n",
    "for i in edge_funcs:\n",
    "    G1,G2,G3,G4 = sub_graph(i)\n",
    "    scores_2.append([iso_graph(G1,G1),iso_graph(G1,G2),iso_graph(G1,G3),iso_graph(G1,G4)])\n",
    "\n",
    "end = time.time()\n",
    "print(end - start)\n",
    "print(scores_2)\n"
   ]
  },
  {
   "cell_type": "code",
   "execution_count": null,
   "id": "25821060",
   "metadata": {},
   "outputs": [],
   "source": []
  },
  {
   "cell_type": "code",
   "execution_count": 28,
   "id": "4ae3b92d",
   "metadata": {},
   "outputs": [
    {
     "name": "stdout",
     "output_type": "stream",
     "text": [
      "[3341.0, 3346.0, 3344.0]\n"
     ]
    }
   ],
   "source": []
  },
  {
   "cell_type": "code",
   "execution_count": null,
   "id": "ca7007cc",
   "metadata": {},
   "outputs": [],
   "source": [
    "#data load\n",
    "GH16 = ['A0A7Z9D2A7','A5FC91','D9TGW6','E4N879','G8JN03','Q21N15','Q47XT7']\n",
    "GH27 = ['A0A385TLX0','A0A3G3K5N5','A0A4P7NIG7','A0A6B8RPE7','A0A6M4XDE9','A0A8X8LEQ7']\n",
    "GH30 = ['A0A3G2G2Q1','A0A6I5ZWY8','A0A7G8UJ47','A0A7U4Z621','H6NC90','Q09DH4']\n",
    "GH35 = ['A0A0H3D6J3','A0A223HUM7','A0A4Y1V9N2','A0A7H5K301','F0VA11']\n",
    "\n"
   ]
  }
 ],
 "metadata": {
  "kernelspec": {
   "display_name": "Python 3 (ipykernel)",
   "language": "python",
   "name": "python3"
  },
  "language_info": {
   "codemirror_mode": {
    "name": "ipython",
    "version": 3
   },
   "file_extension": ".py",
   "mimetype": "text/x-python",
   "name": "python",
   "nbconvert_exporter": "python",
   "pygments_lexer": "ipython3",
   "version": "3.8.2"
  }
 },
 "nbformat": 4,
 "nbformat_minor": 5
}
